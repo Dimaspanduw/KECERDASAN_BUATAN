{
 "cells": [
  {
   "cell_type": "markdown",
   "id": "2a0dae80-eaad-48fa-ade6-c46405c7cb31",
   "metadata": {},
   "source": [
    "POSTTEST 4\n"
   ]
  },
  {
   "cell_type": "code",
   "execution_count": 54,
   "id": "beee58a1-34cc-4b70-a390-0a1bd317c2c3",
   "metadata": {},
   "outputs": [
    {
     "data": {
      "text/html": [
       "<div>\n",
       "<style scoped>\n",
       "    .dataframe tbody tr th:only-of-type {\n",
       "        vertical-align: middle;\n",
       "    }\n",
       "\n",
       "    .dataframe tbody tr th {\n",
       "        vertical-align: top;\n",
       "    }\n",
       "\n",
       "    .dataframe thead th {\n",
       "        text-align: right;\n",
       "    }\n",
       "</style>\n",
       "<table border=\"1\" class=\"dataframe\">\n",
       "  <thead>\n",
       "    <tr style=\"text-align: right;\">\n",
       "      <th></th>\n",
       "      <th>price</th>\n",
       "      <th>mileage</th>\n",
       "      <th>power</th>\n",
       "      <th>make_model</th>\n",
       "      <th>date</th>\n",
       "      <th>fuel</th>\n",
       "      <th>gear</th>\n",
       "      <th>offer_type</th>\n",
       "      <th>version</th>\n",
       "      <th>link</th>\n",
       "    </tr>\n",
       "  </thead>\n",
       "  <tbody>\n",
       "    <tr>\n",
       "      <th>0</th>\n",
       "      <td>23990</td>\n",
       "      <td>150</td>\n",
       "      <td>218.0</td>\n",
       "      <td>Honda</td>\n",
       "      <td>03/2020</td>\n",
       "      <td>Gasoline</td>\n",
       "      <td>Manual</td>\n",
       "      <td>Demonstration</td>\n",
       "      <td>CBR1000RR-R Fireblade SP</td>\n",
       "      <td>/offers/honda-others-cbr1000rr-r-fireblade-sp-...</td>\n",
       "    </tr>\n",
       "    <tr>\n",
       "      <th>1</th>\n",
       "      <td>7500</td>\n",
       "      <td>2871</td>\n",
       "      <td>90.0</td>\n",
       "      <td>BMW F 800 GT</td>\n",
       "      <td>09/2018</td>\n",
       "      <td>Gasoline</td>\n",
       "      <td>Manual</td>\n",
       "      <td>Used</td>\n",
       "      <td>NaN</td>\n",
       "      <td>/offers/bmw-f-800-gt-gasoline-white-f65273c6-6...</td>\n",
       "    </tr>\n",
       "    <tr>\n",
       "      <th>2</th>\n",
       "      <td>800</td>\n",
       "      <td>1700</td>\n",
       "      <td>3.0</td>\n",
       "      <td>Nova Motors Retro Star</td>\n",
       "      <td>10/2019</td>\n",
       "      <td>Gasoline</td>\n",
       "      <td>NaN</td>\n",
       "      <td>Used</td>\n",
       "      <td>NaN</td>\n",
       "      <td>/offers/nova-motors-retro-star-gasoline-red-f8...</td>\n",
       "    </tr>\n",
       "    <tr>\n",
       "      <th>3</th>\n",
       "      <td>14990</td>\n",
       "      <td>24345</td>\n",
       "      <td>NaN</td>\n",
       "      <td>Aprilia RSV4</td>\n",
       "      <td>03/2016</td>\n",
       "      <td>Gasoline</td>\n",
       "      <td>NaN</td>\n",
       "      <td>Used</td>\n",
       "      <td>RF</td>\n",
       "      <td>/offers/aprilia-rsv4-rf-gasoline-silver-1b51fe...</td>\n",
       "    </tr>\n",
       "    <tr>\n",
       "      <th>4</th>\n",
       "      <td>6200</td>\n",
       "      <td>25000</td>\n",
       "      <td>128.0</td>\n",
       "      <td>Kawasaki Ninja ZX-6R</td>\n",
       "      <td>08/2009</td>\n",
       "      <td>Gasoline</td>\n",
       "      <td>NaN</td>\n",
       "      <td>Used</td>\n",
       "      <td>NaN</td>\n",
       "      <td>/offers/kawasaki-ninja-zx-6r-gasoline-blue-2f8...</td>\n",
       "    </tr>\n",
       "  </tbody>\n",
       "</table>\n",
       "</div>"
      ],
      "text/plain": [
       "   price  mileage  power              make_model     date      fuel    gear  \\\n",
       "0  23990      150  218.0                   Honda  03/2020  Gasoline  Manual   \n",
       "1   7500     2871   90.0            BMW F 800 GT  09/2018  Gasoline  Manual   \n",
       "2    800     1700    3.0  Nova Motors Retro Star  10/2019  Gasoline     NaN   \n",
       "3  14990    24345    NaN            Aprilia RSV4  03/2016  Gasoline     NaN   \n",
       "4   6200    25000  128.0    Kawasaki Ninja ZX-6R  08/2009  Gasoline     NaN   \n",
       "\n",
       "      offer_type                   version  \\\n",
       "0  Demonstration  CBR1000RR-R Fireblade SP   \n",
       "1           Used                       NaN   \n",
       "2           Used                       NaN   \n",
       "3           Used                        RF   \n",
       "4           Used                       NaN   \n",
       "\n",
       "                                                link  \n",
       "0  /offers/honda-others-cbr1000rr-r-fireblade-sp-...  \n",
       "1  /offers/bmw-f-800-gt-gasoline-white-f65273c6-6...  \n",
       "2  /offers/nova-motors-retro-star-gasoline-red-f8...  \n",
       "3  /offers/aprilia-rsv4-rf-gasoline-silver-1b51fe...  \n",
       "4  /offers/kawasaki-ninja-zx-6r-gasoline-blue-2f8...  "
      ]
     },
     "execution_count": 54,
     "metadata": {},
     "output_type": "execute_result"
    }
   ],
   "source": [
    "#import dan melihat data\n",
    "import numpy as np\n",
    "import pandas as pd\n",
    "from sklearn.preprocessing import MinMaxScaler, StandardScaler, OneHotEncoder\n",
    "from sklearn.model_selection import train_test_split\n",
    "from sklearn.impute import SimpleImputer\n",
    "data  = pd.read_csv(\"motorbike.csv\", delimiter=',')\n",
    "data.head()"
   ]
  },
  {
   "cell_type": "code",
   "execution_count": 55,
   "id": "eb14222c-6390-4cbb-bf98-da02cc740c17",
   "metadata": {},
   "outputs": [
    {
     "name": "stdout",
     "output_type": "stream",
     "text": [
      "<class 'pandas.core.frame.DataFrame'>\n",
      "RangeIndex: 34917 entries, 0 to 34916\n",
      "Data columns (total 10 columns):\n",
      " #   Column      Non-Null Count  Dtype  \n",
      "---  ------      --------------  -----  \n",
      " 0   price       34917 non-null  int64  \n",
      " 1   mileage     34917 non-null  int64  \n",
      " 2   power       28598 non-null  float64\n",
      " 3   make_model  34917 non-null  object \n",
      " 4   date        34917 non-null  object \n",
      " 5   fuel        31727 non-null  object \n",
      " 6   gear        12847 non-null  object \n",
      " 7   offer_type  34917 non-null  object \n",
      " 8   version     17413 non-null  object \n",
      " 9   link        34917 non-null  object \n",
      "dtypes: float64(1), int64(2), object(7)\n",
      "memory usage: 2.7+ MB\n"
     ]
    }
   ],
   "source": [
    "#Info data\n",
    "data.info()"
   ]
  },
  {
   "cell_type": "code",
   "execution_count": 56,
   "id": "2b5914a3-cc83-4a9a-ac7e-d6f05759d918",
   "metadata": {},
   "outputs": [
    {
     "data": {
      "text/plain": [
       "(34917, 10)"
      ]
     },
     "execution_count": 56,
     "metadata": {},
     "output_type": "execute_result"
    }
   ],
   "source": [
    "data.shape"
   ]
  },
  {
   "cell_type": "markdown",
   "id": "52642483-a6dc-4007-ab9f-afb71048df56",
   "metadata": {},
   "source": [
    " 1. Membagi dataset menjadi training set dan testing set dengan proporsi 70:30"
   ]
  },
  {
   "cell_type": "code",
   "execution_count": 57,
   "id": "f89fa1d5-54ca-47c8-8cc0-1c735a15c71b",
   "metadata": {},
   "outputs": [
    {
     "name": "stdout",
     "output_type": "stream",
     "text": [
      "Dimensi X_train (24441, 9)\n",
      "Dimensi X_test (10476, 9)\n",
      "Dimensi y_train (24441,)\n",
      "Dimensi y_test (10476,)\n"
     ]
    }
   ],
   "source": [
    "X = data.iloc[:, : -1]\n",
    "y = data.iloc[:, -1]\n",
    "\n",
    "X_train, X_test, y_train, y_test = train_test_split(X, y, test_size=0.3)\n",
    "\n",
    "print(\"Dimensi X_train\", X_train.shape)\n",
    "print(\"Dimensi X_test\", X_test.shape)\n",
    "print(\"Dimensi y_train\", y_train.shape)\n",
    "print(\"Dimensi y_test\", y_test.shape)"
   ]
  },
  {
   "cell_type": "markdown",
   "id": "c0d3084a-813b-4022-af36-0ea57a8dc59f",
   "metadata": {},
   "source": [
    "2. Normalisasi data pada salah satu attribute menggunakan Min Max scaler (buatlah copy dataset terlebih dahulu)"
   ]
  },
  {
   "cell_type": "code",
   "execution_count": 58,
   "id": "10e5cd34-09e9-42f9-956f-3e2944208f7c",
   "metadata": {},
   "outputs": [
    {
     "name": "stdout",
     "output_type": "stream",
     "text": [
      "\n",
      "Data sebelum dan sesudah normalisasi : \n",
      "\n"
     ]
    },
    {
     "data": {
      "text/html": [
       "<div>\n",
       "<style scoped>\n",
       "    .dataframe tbody tr th:only-of-type {\n",
       "        vertical-align: middle;\n",
       "    }\n",
       "\n",
       "    .dataframe tbody tr th {\n",
       "        vertical-align: top;\n",
       "    }\n",
       "\n",
       "    .dataframe thead th {\n",
       "        text-align: right;\n",
       "    }\n",
       "</style>\n",
       "<table border=\"1\" class=\"dataframe\">\n",
       "  <thead>\n",
       "    <tr style=\"text-align: right;\">\n",
       "      <th></th>\n",
       "      <th>price</th>\n",
       "      <th>price_normalisasi</th>\n",
       "    </tr>\n",
       "  </thead>\n",
       "  <tbody>\n",
       "    <tr>\n",
       "      <th>0</th>\n",
       "      <td>23990</td>\n",
       "      <td>2.698763e-05</td>\n",
       "    </tr>\n",
       "    <tr>\n",
       "      <th>1</th>\n",
       "      <td>7500</td>\n",
       "      <td>8.436375e-06</td>\n",
       "    </tr>\n",
       "    <tr>\n",
       "      <th>2</th>\n",
       "      <td>800</td>\n",
       "      <td>8.988750e-07</td>\n",
       "    </tr>\n",
       "    <tr>\n",
       "      <th>3</th>\n",
       "      <td>14990</td>\n",
       "      <td>1.686263e-05</td>\n",
       "    </tr>\n",
       "    <tr>\n",
       "      <th>4</th>\n",
       "      <td>6200</td>\n",
       "      <td>6.973875e-06</td>\n",
       "    </tr>\n",
       "    <tr>\n",
       "      <th>5</th>\n",
       "      <td>1500</td>\n",
       "      <td>1.686375e-06</td>\n",
       "    </tr>\n",
       "    <tr>\n",
       "      <th>6</th>\n",
       "      <td>10500</td>\n",
       "      <td>1.181138e-05</td>\n",
       "    </tr>\n",
       "    <tr>\n",
       "      <th>7</th>\n",
       "      <td>8500</td>\n",
       "      <td>9.561375e-06</td>\n",
       "    </tr>\n",
       "    <tr>\n",
       "      <th>8</th>\n",
       "      <td>2000</td>\n",
       "      <td>2.248875e-06</td>\n",
       "    </tr>\n",
       "    <tr>\n",
       "      <th>9</th>\n",
       "      <td>8250</td>\n",
       "      <td>9.280125e-06</td>\n",
       "    </tr>\n",
       "  </tbody>\n",
       "</table>\n",
       "</div>"
      ],
      "text/plain": [
       "   price  price_normalisasi\n",
       "0  23990       2.698763e-05\n",
       "1   7500       8.436375e-06\n",
       "2    800       8.988750e-07\n",
       "3  14990       1.686263e-05\n",
       "4   6200       6.973875e-06\n",
       "5   1500       1.686375e-06\n",
       "6  10500       1.181138e-05\n",
       "7   8500       9.561375e-06\n",
       "8   2000       2.248875e-06\n",
       "9   8250       9.280125e-06"
      ]
     },
     "execution_count": 58,
     "metadata": {},
     "output_type": "execute_result"
    }
   ],
   "source": [
    "min_max = MinMaxScaler()\n",
    "\n",
    "# Copy Data\n",
    "copy1 = data\n",
    "dataCopy_normalization = copy1[[\"price\"]]\n",
    "\n",
    "normalization = min_max.fit_transform(dataCopy_normalization[[\"price\"]])\n",
    "\n",
    "data_normalization = pd.DataFrame(normalization)\n",
    "data_normalization.columns =[\"price_normalisasi\"]\n",
    "\n",
    "dataCopy_normalization = dataCopy_normalization.join(data_normalization[\"price_normalisasi\"]).reset_index()\n",
    "dataCopy_normalization = dataCopy_normalization.drop(\"index\", axis=1)\n",
    "\n",
    "print()\n",
    "print(\"Data sebelum dan sesudah normalisasi : \\n\")\n",
    "dataCopy_normalization.head(10)\n",
    "          "
   ]
  },
  {
   "cell_type": "markdown",
   "id": "8aa639e4-147f-42bd-bbae-86b2025f83d0",
   "metadata": {},
   "source": [
    "3. standarisasi pada dataset (buatlah copy dataset terlebih dahulu)"
   ]
  },
  {
   "cell_type": "code",
   "execution_count": 59,
   "id": "470c0d2e-d3da-4ab0-89e2-34e5bf20516e",
   "metadata": {},
   "outputs": [
    {
     "name": "stdout",
     "output_type": "stream",
     "text": [
      "Data Sebelum Scaling:\n",
      "   price  mileage  power\n",
      "0  23990      150  218.0\n",
      "1   7500     2871   90.0\n",
      "2    800     1700    3.0\n",
      "3  14990    24345    NaN\n",
      "4   6200    25000  128.0\n",
      "\n",
      "Data Sesudah Scaling:\n",
      "      price   mileage     power\n",
      "0 -0.004473 -0.105282  0.001264\n",
      "1 -0.007873 -0.092070 -0.012395\n",
      "2 -0.009255 -0.097756 -0.021679\n",
      "3 -0.006329  0.012204       NaN\n",
      "4 -0.008141  0.015384 -0.008340\n"
     ]
    }
   ],
   "source": [
    "data_copy = data.copy()\n",
    "columns_to_scale = [ 'price', 'mileage','power']\n",
    "\n",
    "scaler = StandardScaler()\n",
    "data_copy[columns_to_scale] = scaler.fit_transform(data_copy[columns_to_scale])\n",
    "\n",
    "print(\"Data Sebelum Scaling:\")\n",
    "print(data[columns_to_scale].head())\n",
    "\n",
    "print(\"\\nData Sesudah Scaling:\")\n",
    "print(data_copy[columns_to_scale].head())"
   ]
  },
  {
   "cell_type": "markdown",
   "id": "a006f913-0418-4af3-8fc6-f16d36781273",
   "metadata": {},
   "source": [
    "4. Data cleaning pada data dengan nilai null (jika tidak ada nilai null pada dataset, maka buatlah menjadi ada). Ganti nilai null sesuai ketentuan. (bilangan bulat : median/modus, bilangan desimal : mean, tulisan : modus). Nilai plus jika strategy yang digunakan menggunakan 3 nilai"
   ]
  },
  {
   "cell_type": "code",
   "execution_count": 60,
   "id": "02cb419d-9283-4d49-9229-8031c60dc3d3",
   "metadata": {
    "scrolled": true
   },
   "outputs": [
    {
     "data": {
      "text/plain": [
       "price             0\n",
       "mileage           0\n",
       "power          6319\n",
       "make_model        0\n",
       "date              0\n",
       "fuel           3190\n",
       "gear          22070\n",
       "offer_type        0\n",
       "version       17504\n",
       "link              0\n",
       "dtype: int64"
      ]
     },
     "execution_count": 60,
     "metadata": {},
     "output_type": "execute_result"
    }
   ],
   "source": [
    "data.isnull().sum()"
   ]
  },
  {
   "cell_type": "markdown",
   "id": "31010562-aa30-443c-bcf3-c7d20928eae6",
   "metadata": {},
   "source": [
    "Membuat data tulisan dengan fungsi modus"
   ]
  },
  {
   "cell_type": "code",
   "execution_count": 61,
   "id": "e754b295-474c-4d13-90b8-d91e5225f361",
   "metadata": {},
   "outputs": [
    {
     "name": "stdout",
     "output_type": "stream",
     "text": [
      "1                    BMW F 800 GT\n",
      "2          Nova Motors Retro Star\n",
      "3                    Aprilia RSV4\n",
      "4            Kawasaki Ninja ZX-6R\n",
      "5               Aprilia Mojito 50\n",
      "10    Harley-Davidson Sport Glide\n",
      "20        Harley-Davidson Softail\n",
      "30        Ducati Multistrada 1200\n",
      "40                Kawasaki Z 1000\n",
      "50               Triumph Thruxton\n",
      "Name: make_model, dtype: object\n"
     ]
    }
   ],
   "source": [
    "strategi1 = SimpleImputer(missing_values=None, strategy=\"most_frequent\")\n",
    "\n",
    "data[\"make_model\"] = strategi1.fit_transform(data[[\"make_model\"]])\n",
    "\n",
    "print(data.make_model[[1,2,3,4,5,10,20,30,40,50]])"
   ]
  },
  {
   "cell_type": "markdown",
   "id": "4f9cdba3-1c18-4aa0-9919-ee01ec7a1e1d",
   "metadata": {},
   "source": [
    "Membuat data int menggunakan fungsi Median"
   ]
  },
  {
   "cell_type": "code",
   "execution_count": 62,
   "id": "a4469f7d-a4f1-4cdc-b80d-dbbd9ad2b9a6",
   "metadata": {},
   "outputs": [
    {
     "name": "stdout",
     "output_type": "stream",
     "text": [
      "1      2871.0\n",
      "2      1700.0\n",
      "3     24345.0\n",
      "4     25000.0\n",
      "5      3000.0\n",
      "10     2900.0\n",
      "20    49500.0\n",
      "30    41973.0\n",
      "40     6000.0\n",
      "50     5917.0\n",
      "Name: mileage, dtype: float64\n"
     ]
    }
   ],
   "source": [
    "strategi2 = SimpleImputer(strategy=\"median\")\n",
    "\n",
    "data[\"mileage\"] = strategi2.fit_transform(data[[\"mileage\"]])\n",
    "\n",
    "print(data.mileage[[1,2,3,4,5,10,20,30,40,50]])"
   ]
  },
  {
   "cell_type": "markdown",
   "id": "11b8cf24-a87b-4281-9adc-1544704de5a5",
   "metadata": {},
   "source": [
    "Membuat data float(desimal) menggunakan fungsi mean"
   ]
  },
  {
   "cell_type": "code",
   "execution_count": 63,
   "id": "a6065fdb-ed57-484b-90f7-a64fea84a901",
   "metadata": {},
   "outputs": [
    {
     "name": "stdout",
     "output_type": "stream",
     "text": [
      "1      7500.0\n",
      "2       800.0\n",
      "3     14990.0\n",
      "4      6200.0\n",
      "5      1500.0\n",
      "10    23600.0\n",
      "20    10000.0\n",
      "30    11300.0\n",
      "40    10750.0\n",
      "50    11500.0\n",
      "Name: price, dtype: float64\n"
     ]
    }
   ],
   "source": [
    "strategi3 = SimpleImputer(strategy=\"mean\")\n",
    "\n",
    "data[\"price\"] = strategi3.fit_transform(data[[\"price\"]])\n",
    "\n",
    "print(data.price\t[[1,2,3,4,5,10,20,30,40,50]])"
   ]
  },
  {
   "cell_type": "markdown",
   "id": "77024c91-e456-4d77-bb62-47340d3e517f",
   "metadata": {},
   "source": [
    "5. Data cleaning pada data dengan nilai duplikat. (Jika tidak ada nilai duplikat pada dataset, maka buatlah menjadi ada)"
   ]
  },
  {
   "cell_type": "code",
   "execution_count": 64,
   "id": "51c51cb5-d550-4c6c-b911-726d65334e7a",
   "metadata": {},
   "outputs": [
    {
     "name": "stdout",
     "output_type": "stream",
     "text": [
      "Jumlah Data Duplikat : \n"
     ]
    },
    {
     "data": {
      "text/plain": [
       "5832"
      ]
     },
     "execution_count": 64,
     "metadata": {},
     "output_type": "execute_result"
    }
   ],
   "source": [
    "#ngecek data duplikat\n",
    "data[data.duplicated()]\n",
    "\n",
    "print(\"Jumlah Data Duplikat : \")\n",
    "data.duplicated().sum()"
   ]
  },
  {
   "cell_type": "code",
   "execution_count": 65,
   "id": "cebc81c6-2a18-46c7-9844-c6e305f23923",
   "metadata": {},
   "outputs": [
    {
     "name": "stdout",
     "output_type": "stream",
     "text": [
      "Jumlah data duplicated :\n"
     ]
    },
    {
     "data": {
      "text/plain": [
       "0"
      ]
     },
     "execution_count": 65,
     "metadata": {},
     "output_type": "execute_result"
    }
   ],
   "source": [
    "#cleaning\n",
    "data.drop_duplicates(inplace=True)\n",
    "\n",
    "hasil = data.reset_index(drop=True)\n",
    "print(\"Jumlah data duplicated :\")\n",
    "hasil.duplicated().sum()"
   ]
  },
  {
   "cell_type": "markdown",
   "id": "53d5b8f3-95ad-4512-a0f1-8d07a2b5f28b",
   "metadata": {},
   "source": [
    "6. Ganti tipe data salah satu attribute angka"
   ]
  },
  {
   "cell_type": "code",
   "execution_count": 66,
   "id": "5ab6dc70-6a5e-46db-ad18-c89efa5c7c26",
   "metadata": {},
   "outputs": [
    {
     "name": "stdout",
     "output_type": "stream",
     "text": [
      "Tipe data Sebelum di ubah :\n"
     ]
    },
    {
     "data": {
      "text/plain": [
       "price         float64\n",
       "mileage       float64\n",
       "power         float64\n",
       "make_model     object\n",
       "date           object\n",
       "fuel           object\n",
       "gear           object\n",
       "offer_type     object\n",
       "version        object\n",
       "link           object\n",
       "dtype: object"
      ]
     },
     "execution_count": 66,
     "metadata": {},
     "output_type": "execute_result"
    }
   ],
   "source": [
    "print(\"Tipe data Sebelum di ubah :\")\n",
    "data.dtypes"
   ]
  },
  {
   "cell_type": "code",
   "execution_count": 67,
   "id": "a720bc3c-b5c2-4719-81a5-2cedfdc507b2",
   "metadata": {},
   "outputs": [
    {
     "name": "stdout",
     "output_type": "stream",
     "text": [
      "Tipe data power sesudah di ubah :\n"
     ]
    },
    {
     "data": {
      "text/plain": [
       "price         float64\n",
       "mileage         int64\n",
       "power         float64\n",
       "make_model     object\n",
       "date           object\n",
       "fuel           object\n",
       "gear           object\n",
       "offer_type     object\n",
       "version        object\n",
       "link           object\n",
       "dtype: object"
      ]
     },
     "execution_count": 67,
     "metadata": {},
     "output_type": "execute_result"
    }
   ],
   "source": [
    "#mengubah data price dari float64\n",
    "data['mileage'] = data['mileage'].astype('int64')\n",
    "\n",
    "print(\"Tipe data power sesudah di ubah :\")\n",
    "data.dtypes"
   ]
  },
  {
   "cell_type": "markdown",
   "id": "a2d9acb5-1c5f-470c-89a1-704e518675c6",
   "metadata": {},
   "source": [
    "7. Lakukan one hot encoding pada dataset yang kalian miliki"
   ]
  },
  {
   "cell_type": "code",
   "execution_count": 69,
   "id": "6364133f-8c04-4260-ad9a-0c312e745839",
   "metadata": {},
   "outputs": [
    {
     "name": "stderr",
     "output_type": "stream",
     "text": [
      "C:\\Users\\ASUS\\AppData\\Local\\Programs\\Python\\Python310\\lib\\site-packages\\sklearn\\preprocessing\\_encoders.py:975: FutureWarning: `sparse` was renamed to `sparse_output` in version 1.2 and will be removed in 1.4. `sparse_output` is ignored unless you leave `sparse` to its default value.\n",
      "  warnings.warn(\n"
     ]
    },
    {
     "data": {
      "text/html": [
       "<div>\n",
       "<style scoped>\n",
       "    .dataframe tbody tr th:only-of-type {\n",
       "        vertical-align: middle;\n",
       "    }\n",
       "\n",
       "    .dataframe tbody tr th {\n",
       "        vertical-align: top;\n",
       "    }\n",
       "\n",
       "    .dataframe thead th {\n",
       "        text-align: right;\n",
       "    }\n",
       "</style>\n",
       "<table border=\"1\" class=\"dataframe\">\n",
       "  <thead>\n",
       "    <tr style=\"text-align: right;\">\n",
       "      <th></th>\n",
       "      <th>price</th>\n",
       "      <th>mileage</th>\n",
       "      <th>power</th>\n",
       "      <th>make_model</th>\n",
       "      <th>date</th>\n",
       "      <th>fuel</th>\n",
       "      <th>gear</th>\n",
       "      <th>offer_type</th>\n",
       "      <th>version</th>\n",
       "      <th>link</th>\n",
       "      <th>...</th>\n",
       "      <th>9469</th>\n",
       "      <th>9470</th>\n",
       "      <th>9471</th>\n",
       "      <th>9472</th>\n",
       "      <th>9473</th>\n",
       "      <th>9474</th>\n",
       "      <th>9475</th>\n",
       "      <th>9476</th>\n",
       "      <th>9477</th>\n",
       "      <th>9478</th>\n",
       "    </tr>\n",
       "  </thead>\n",
       "  <tbody>\n",
       "    <tr>\n",
       "      <th>0</th>\n",
       "      <td>23990.0</td>\n",
       "      <td>150</td>\n",
       "      <td>218.0</td>\n",
       "      <td>Honda</td>\n",
       "      <td>03/2020</td>\n",
       "      <td>Gasoline</td>\n",
       "      <td>Manual</td>\n",
       "      <td>Demonstration</td>\n",
       "      <td>CBR1000RR-R Fireblade SP</td>\n",
       "      <td>/offers/honda-others-cbr1000rr-r-fireblade-sp-...</td>\n",
       "      <td>...</td>\n",
       "      <td>0.0</td>\n",
       "      <td>0.0</td>\n",
       "      <td>0.0</td>\n",
       "      <td>0.0</td>\n",
       "      <td>0.0</td>\n",
       "      <td>0.0</td>\n",
       "      <td>0.0</td>\n",
       "      <td>0.0</td>\n",
       "      <td>0.0</td>\n",
       "      <td>0.0</td>\n",
       "    </tr>\n",
       "    <tr>\n",
       "      <th>1</th>\n",
       "      <td>7500.0</td>\n",
       "      <td>2871</td>\n",
       "      <td>90.0</td>\n",
       "      <td>BMW F 800 GT</td>\n",
       "      <td>09/2018</td>\n",
       "      <td>Gasoline</td>\n",
       "      <td>Manual</td>\n",
       "      <td>Used</td>\n",
       "      <td>NaN</td>\n",
       "      <td>/offers/bmw-f-800-gt-gasoline-white-f65273c6-6...</td>\n",
       "      <td>...</td>\n",
       "      <td>0.0</td>\n",
       "      <td>0.0</td>\n",
       "      <td>0.0</td>\n",
       "      <td>0.0</td>\n",
       "      <td>0.0</td>\n",
       "      <td>0.0</td>\n",
       "      <td>0.0</td>\n",
       "      <td>0.0</td>\n",
       "      <td>0.0</td>\n",
       "      <td>1.0</td>\n",
       "    </tr>\n",
       "    <tr>\n",
       "      <th>2</th>\n",
       "      <td>800.0</td>\n",
       "      <td>1700</td>\n",
       "      <td>3.0</td>\n",
       "      <td>Nova Motors Retro Star</td>\n",
       "      <td>10/2019</td>\n",
       "      <td>Gasoline</td>\n",
       "      <td>NaN</td>\n",
       "      <td>Used</td>\n",
       "      <td>NaN</td>\n",
       "      <td>/offers/nova-motors-retro-star-gasoline-red-f8...</td>\n",
       "      <td>...</td>\n",
       "      <td>0.0</td>\n",
       "      <td>0.0</td>\n",
       "      <td>0.0</td>\n",
       "      <td>0.0</td>\n",
       "      <td>0.0</td>\n",
       "      <td>0.0</td>\n",
       "      <td>0.0</td>\n",
       "      <td>0.0</td>\n",
       "      <td>0.0</td>\n",
       "      <td>1.0</td>\n",
       "    </tr>\n",
       "    <tr>\n",
       "      <th>3</th>\n",
       "      <td>14990.0</td>\n",
       "      <td>24345</td>\n",
       "      <td>NaN</td>\n",
       "      <td>Aprilia RSV4</td>\n",
       "      <td>03/2016</td>\n",
       "      <td>Gasoline</td>\n",
       "      <td>NaN</td>\n",
       "      <td>Used</td>\n",
       "      <td>RF</td>\n",
       "      <td>/offers/aprilia-rsv4-rf-gasoline-silver-1b51fe...</td>\n",
       "      <td>...</td>\n",
       "      <td>0.0</td>\n",
       "      <td>0.0</td>\n",
       "      <td>0.0</td>\n",
       "      <td>0.0</td>\n",
       "      <td>0.0</td>\n",
       "      <td>0.0</td>\n",
       "      <td>0.0</td>\n",
       "      <td>0.0</td>\n",
       "      <td>0.0</td>\n",
       "      <td>0.0</td>\n",
       "    </tr>\n",
       "    <tr>\n",
       "      <th>4</th>\n",
       "      <td>6200.0</td>\n",
       "      <td>25000</td>\n",
       "      <td>128.0</td>\n",
       "      <td>Kawasaki Ninja ZX-6R</td>\n",
       "      <td>08/2009</td>\n",
       "      <td>Gasoline</td>\n",
       "      <td>NaN</td>\n",
       "      <td>Used</td>\n",
       "      <td>NaN</td>\n",
       "      <td>/offers/kawasaki-ninja-zx-6r-gasoline-blue-2f8...</td>\n",
       "      <td>...</td>\n",
       "      <td>0.0</td>\n",
       "      <td>0.0</td>\n",
       "      <td>0.0</td>\n",
       "      <td>0.0</td>\n",
       "      <td>0.0</td>\n",
       "      <td>0.0</td>\n",
       "      <td>0.0</td>\n",
       "      <td>0.0</td>\n",
       "      <td>0.0</td>\n",
       "      <td>1.0</td>\n",
       "    </tr>\n",
       "  </tbody>\n",
       "</table>\n",
       "<p>5 rows × 9489 columns</p>\n",
       "</div>"
      ],
      "text/plain": [
       "     price  mileage  power              make_model     date      fuel    gear  \\\n",
       "0  23990.0      150  218.0                   Honda  03/2020  Gasoline  Manual   \n",
       "1   7500.0     2871   90.0            BMW F 800 GT  09/2018  Gasoline  Manual   \n",
       "2    800.0     1700    3.0  Nova Motors Retro Star  10/2019  Gasoline     NaN   \n",
       "3  14990.0    24345    NaN            Aprilia RSV4  03/2016  Gasoline     NaN   \n",
       "4   6200.0    25000  128.0    Kawasaki Ninja ZX-6R  08/2009  Gasoline     NaN   \n",
       "\n",
       "      offer_type                   version  \\\n",
       "0  Demonstration  CBR1000RR-R Fireblade SP   \n",
       "1           Used                       NaN   \n",
       "2           Used                       NaN   \n",
       "3           Used                        RF   \n",
       "4           Used                       NaN   \n",
       "\n",
       "                                                link  ...  9469  9470  9471  \\\n",
       "0  /offers/honda-others-cbr1000rr-r-fireblade-sp-...  ...   0.0   0.0   0.0   \n",
       "1  /offers/bmw-f-800-gt-gasoline-white-f65273c6-6...  ...   0.0   0.0   0.0   \n",
       "2  /offers/nova-motors-retro-star-gasoline-red-f8...  ...   0.0   0.0   0.0   \n",
       "3  /offers/aprilia-rsv4-rf-gasoline-silver-1b51fe...  ...   0.0   0.0   0.0   \n",
       "4  /offers/kawasaki-ninja-zx-6r-gasoline-blue-2f8...  ...   0.0   0.0   0.0   \n",
       "\n",
       "   9472  9473  9474  9475  9476  9477  9478  \n",
       "0   0.0   0.0   0.0   0.0   0.0   0.0   0.0  \n",
       "1   0.0   0.0   0.0   0.0   0.0   0.0   1.0  \n",
       "2   0.0   0.0   0.0   0.0   0.0   0.0   1.0  \n",
       "3   0.0   0.0   0.0   0.0   0.0   0.0   0.0  \n",
       "4   0.0   0.0   0.0   0.0   0.0   0.0   1.0  \n",
       "\n",
       "[5 rows x 9489 columns]"
      ]
     },
     "execution_count": 69,
     "metadata": {},
     "output_type": "execute_result"
    }
   ],
   "source": [
    "one_encoder = OneHotEncoder(sparse=False)\n",
    "\n",
    "onehot = one_encoder.fit_transform(data[[\"version\"]])\n",
    "data_onehot = pd.DataFrame(onehot)\n",
    "data_encoder = data.join(data_onehot)\n",
    "data_encoder.head()"
   ]
  },
  {
   "cell_type": "code",
   "execution_count": null,
   "id": "1b43af9d-c3e0-4f73-afa7-11110b37d13f",
   "metadata": {},
   "outputs": [],
   "source": []
  }
 ],
 "metadata": {
  "kernelspec": {
   "display_name": "Python 3 (ipykernel)",
   "language": "python",
   "name": "python3"
  },
  "language_info": {
   "codemirror_mode": {
    "name": "ipython",
    "version": 3
   },
   "file_extension": ".py",
   "mimetype": "text/x-python",
   "name": "python",
   "nbconvert_exporter": "python",
   "pygments_lexer": "ipython3",
   "version": "3.10.7"
  }
 },
 "nbformat": 4,
 "nbformat_minor": 5
}
