{
 "cells": [
  {
   "cell_type": "markdown",
   "id": "29631623-effb-41d8-8509-d51395e994d9",
   "metadata": {},
   "source": [
    "SOAL 1"
   ]
  },
  {
   "cell_type": "code",
   "execution_count": 23,
   "id": "ff3d2b68-60da-46ae-81fe-8ee158c2a46a",
   "metadata": {},
   "outputs": [
    {
     "name": "stdout",
     "output_type": "stream",
     "text": [
      "Mean: 45685.32230718561\n",
      "Standard Deviation: 4850120.186885856\n",
      "Minimum Value: 1\n",
      "Maximum Value: 888888888\n",
      "Q1 (25th Percentile): 6999.0\n",
      "Q2 (Median - 50th Percentile): 9920.0\n",
      "Q3 (75th Percentile): 12590.0\n"
     ]
    }
   ],
   "source": [
    "import pandas as pd\n",
    "\n",
    "# Import dataset dari file csv #\n",
    "data = pd.read_csv('motorbike.csv')\n",
    "\n",
    "# Menentukan kolom numerik yang ingin dihitung statistiknya #\n",
    "numeric_column = 'price'\n",
    "\n",
    "# Menghitung Statistika #\n",
    "mean = data[numeric_column].mean()\n",
    "std_dev = data[numeric_column].std()\n",
    "min_value = data[numeric_column].min()\n",
    "max_value = data[numeric_column].max()\n",
    "q1 = data[numeric_column].quantile(0.25)\n",
    "q2 = data[numeric_column].quantile(0.5)  \n",
    "q3 = data[numeric_column].quantile(0.75)\n",
    "\n",
    "# Cetak hasil #\n",
    "print(\"Mean:\", mean)\n",
    "print(\"Standard Deviation:\", std_dev)\n",
    "print(\"Minimum Value:\", min_value)\n",
    "print(\"Maximum Value:\", max_value)\n",
    "print(\"Q1 (25th Percentile):\", q1)\n",
    "print(\"Q2 (Median - 50th Percentile):\", q2)\n",
    "print(\"Q3 (75th Percentile):\", q3)\n"
   ]
  },
  {
   "cell_type": "markdown",
   "id": "28196620-3dc3-4b4e-b07f-0afdb5e32095",
   "metadata": {},
   "source": [
    "SOAL 2"
   ]
  },
  {
   "cell_type": "code",
   "execution_count": 24,
   "id": "7021d847-9cb9-440c-9ee4-33c908d40724",
   "metadata": {},
   "outputs": [
    {
     "name": "stdout",
     "output_type": "stream",
     "text": [
      "0    23990\n",
      "1     7500\n",
      "2      800\n",
      "3    14990\n",
      "4     6200\n",
      "5     1500\n",
      "6    10500\n",
      "7     8500\n",
      "8     2000\n",
      "9     8250\n",
      "Name: price, dtype: int64\n"
     ]
    }
   ],
   "source": [
    "# masukan'numeric_column' dengan nama kolom numerik dalam dataset Anda\n",
    "numeric_column = 'price'\n",
    "\n",
    "# Menampilkan 10 baris pertama dari kolom numerik\n",
    "first_10_records = data[numeric_column].head(10)\n",
    "print(first_10_records)"
   ]
  },
  {
   "cell_type": "markdown",
   "id": "5542eee1-06dd-4d9b-8a06-734c91e84e2b",
   "metadata": {},
   "source": [
    "SOAL 3"
   ]
  },
  {
   "cell_type": "code",
   "execution_count": 13,
   "id": "5b054989-cb40-4f52-afe8-37d52ba9c969",
   "metadata": {},
   "outputs": [
    {
     "name": "stdout",
     "output_type": "stream",
     "text": [
      "Jumlah Record: 34917\n",
      "Jumlah Attribute: 10\n",
      "Nama Attribute: ['price', 'mileage', 'power', 'make_model', 'date', 'fuel', 'gear', 'offer_type', 'version', 'link']\n",
      "Jumlah Attribute dengan Tipe Angka: 3\n"
     ]
    }
   ],
   "source": [
    "import pandas as pd\n",
    "\n",
    "# Mengimpor dataset dari file CSV\n",
    "data = pd.read_csv('motorbike.csv')\n",
    "\n",
    "# Mengumpulkan informasi yang diminta\n",
    "info_dict = {\n",
    "    \"Jumlah Record\": len(data),\n",
    "    \"Jumlah Attribute\": len(data.columns),\n",
    "    \"Nama Attribute\": list(data.columns),\n",
    "    \"Jumlah Attribute dengan Tipe Angka\": len(data.select_dtypes(include=['number']).columns)\n",
    "}\n",
    "\n",
    "# Menampilkan isi dictionary\n",
    "for key, value in info_dict.items():\n",
    "    print(f\"{key}: {value}\")"
   ]
  },
  {
   "cell_type": "markdown",
   "id": "d3e55033-bcab-49b4-af13-9b97dd894955",
   "metadata": {},
   "source": [
    "SOAL 4"
   ]
  },
  {
   "cell_type": "code",
   "execution_count": 21,
   "id": "8f2eab78-10dd-4ee7-850c-e359777262f3",
   "metadata": {},
   "outputs": [
    {
     "name": "stdout",
     "output_type": "stream",
     "text": [
      "                      make_model     date      fuel       gear offer_type  \\\n",
      "136              Yamaha D'elight  03/2019  Gasoline  Automatic       Used   \n",
      "137                       Yamaha  01/2020  Gasoline        NaN       Used   \n",
      "138              Indian FTR 1200  06/2019  Gasoline        NaN       Used   \n",
      "139    Triumph Speed Triple 1050  03/2017  Gasoline     Manual       Used   \n",
      "140          Ducati Monster 1200  07/2015  Gasoline     Manual       Used   \n",
      "...                          ...      ...       ...        ...        ...   \n",
      "34912              BMW R 1200 RT  04/2018  Gasoline     Manual       Used   \n",
      "34913   Harley-Davidson Iron 883  05/2004  Gasoline        NaN       Used   \n",
      "34914              BMW S 1000 XR  06/2015       NaN     Manual       Used   \n",
      "34915    Triumph Bonneville T100  05/2018  Gasoline     Manual       Used   \n",
      "34916            Yamaha TMAX 530  07/2018  Gasoline  Automatic       Used   \n",
      "\n",
      "                                     version  \n",
      "136    125 \"1. Hand, Scheckheft, nur 990 km\"  \n",
      "137                                      NaN  \n",
      "138                                S REPLICA  \n",
      "139                                      NaN  \n",
      "140               S STRIPE - Zahnriemen Neu!  \n",
      "...                                      ...  \n",
      "34912                            R 1200RT LC  \n",
      "34913                                    NaN  \n",
      "34914                                    ABS  \n",
      "34915                     Black mit Garantie  \n",
      "34916                                    NaN  \n",
      "\n",
      "[34781 rows x 6 columns]\n"
     ]
    }
   ],
   "source": [
    "import pandas as pd\n",
    "\n",
    "# Mengimpor dataset dari file CSV\n",
    "data = pd.read_csv('motorbike.csv')\n",
    "#menghapus sementara data link\n",
    "data = data.drop(data.columns[9], axis = 1)\n",
    "# Menggunakan metode slice dengan iloc\n",
    "sliced_data = data.iloc[136:, 3:]\n",
    "print(sliced_data)"
   ]
  },
  {
   "cell_type": "markdown",
   "id": "8174590c-527f-4766-97e1-4749655ca370",
   "metadata": {},
   "source": [
    "SOAL 5"
   ]
  },
  {
   "cell_type": "code",
   "execution_count": 22,
   "id": "d7fc45a6-5551-40a2-bc12-91f82ed39158",
   "metadata": {},
   "outputs": [
    {
     "name": "stdout",
     "output_type": "stream",
     "text": [
      "make_model     2168\n",
      "date            783\n",
      "fuel              7\n",
      "gear              3\n",
      "offer_type        5\n",
      "version        9478\n",
      "link          29084\n",
      "dtype: int64\n"
     ]
    }
   ],
   "source": [
    "import pandas as pd\n",
    "\n",
    "# Mengimpor dataset dari file CSV\n",
    "data = pd.read_csv('motorbike.csv')\n",
    "\n",
    "# Memilih kolom dengan tipe data objek\n",
    "object_columns = data.select_dtypes(include=['object'])\n",
    "\n",
    "# Menghitung jumlah label unik untuk setiap kolom\n",
    "label_counts = object_columns.apply(lambda col: col.nunique())\n",
    "\n",
    "# Menampilkan jumlah label untuk semua attribute yang bernilai objek\n",
    "print(label_counts)"
   ]
  }
 ],
 "metadata": {
  "kernelspec": {
   "display_name": "Dimas_141",
   "language": "python",
   "name": "dimas_141"
  },
  "language_info": {
   "codemirror_mode": {
    "name": "ipython",
    "version": 3
   },
   "file_extension": ".py",
   "mimetype": "text/x-python",
   "name": "python",
   "nbconvert_exporter": "python",
   "pygments_lexer": "ipython3",
   "version": "3.10.7"
  }
 },
 "nbformat": 4,
 "nbformat_minor": 5
}
