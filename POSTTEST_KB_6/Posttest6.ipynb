{
 "cells": [
  {
   "cell_type": "markdown",
   "id": "ad69c951-1285-4bc5-bed4-0d67fb21250f",
   "metadata": {},
   "source": [
    "# Posttest KB 6"
   ]
  },
  {
   "cell_type": "markdown",
   "id": "297bb44b-410e-48f3-8913-d266971788f0",
   "metadata": {},
   "source": [
    "Import Library yang digunakan\n"
   ]
  },
  {
   "cell_type": "code",
   "execution_count": 2,
   "id": "198c2ac1-abe6-4c11-99ef-6b56cb769744",
   "metadata": {},
   "outputs": [],
   "source": [
    "import pandas as pd\n",
    "import numpy as np\n",
    "from sklearn.model_selection import train_test_split\n",
    "from sklearn.preprocessing import StandardScaler, LabelEncoder\n",
    "from tensorflow import keras\n",
    "from tensorflow.keras import layers\n",
    "from tensorflow.keras.models import Sequential\n",
    "from tensorflow.keras.callbacks import EarlyStopping, ModelCheckpoint\n",
    "from sklearn.metrics import accuracy_score\n",
    "import matplotlib.pyplot as plt\n",
    "from tensorflow.keras.layers import Dense\n",
    "from sklearn.impute import SimpleImputer"
   ]
  },
  {
   "cell_type": "code",
   "execution_count": 3,
   "id": "783f46a4-1605-4bbf-9a02-7844911a882f",
   "metadata": {},
   "outputs": [
    {
     "data": {
      "text/html": [
       "<div>\n",
       "<style scoped>\n",
       "    .dataframe tbody tr th:only-of-type {\n",
       "        vertical-align: middle;\n",
       "    }\n",
       "\n",
       "    .dataframe tbody tr th {\n",
       "        vertical-align: top;\n",
       "    }\n",
       "\n",
       "    .dataframe thead th {\n",
       "        text-align: right;\n",
       "    }\n",
       "</style>\n",
       "<table border=\"1\" class=\"dataframe\">\n",
       "  <thead>\n",
       "    <tr style=\"text-align: right;\">\n",
       "      <th></th>\n",
       "      <th>price</th>\n",
       "      <th>mileage</th>\n",
       "      <th>power</th>\n",
       "      <th>make_model</th>\n",
       "      <th>date</th>\n",
       "      <th>fuel</th>\n",
       "      <th>gear</th>\n",
       "      <th>offer_type</th>\n",
       "      <th>version</th>\n",
       "      <th>link</th>\n",
       "    </tr>\n",
       "  </thead>\n",
       "  <tbody>\n",
       "    <tr>\n",
       "      <th>0</th>\n",
       "      <td>23990</td>\n",
       "      <td>150</td>\n",
       "      <td>218.0</td>\n",
       "      <td>Honda</td>\n",
       "      <td>03/2020</td>\n",
       "      <td>Gasoline</td>\n",
       "      <td>Manual</td>\n",
       "      <td>Demonstration</td>\n",
       "      <td>CBR1000RR-R Fireblade SP</td>\n",
       "      <td>/offers/honda-others-cbr1000rr-r-fireblade-sp-...</td>\n",
       "    </tr>\n",
       "    <tr>\n",
       "      <th>1</th>\n",
       "      <td>18000</td>\n",
       "      <td>700</td>\n",
       "      <td>41.0</td>\n",
       "      <td>Ural Ranger</td>\n",
       "      <td>03/2021</td>\n",
       "      <td>Gasoline</td>\n",
       "      <td>Manual</td>\n",
       "      <td>Used</td>\n",
       "      <td>Euro4 2WD</td>\n",
       "      <td>/offers/ural-ranger-euro4-2wd-gasoline-black-c...</td>\n",
       "    </tr>\n",
       "    <tr>\n",
       "      <th>2</th>\n",
       "      <td>10000</td>\n",
       "      <td>80000</td>\n",
       "      <td>125.0</td>\n",
       "      <td>Harley-Davidson Night Rod</td>\n",
       "      <td>09/2010</td>\n",
       "      <td>Gasoline</td>\n",
       "      <td>Manual</td>\n",
       "      <td>Used</td>\n",
       "      <td>Night rod special</td>\n",
       "      <td>/offers/harley-davidson-night-rod-night-rod-sp...</td>\n",
       "    </tr>\n",
       "    <tr>\n",
       "      <th>3</th>\n",
       "      <td>12500</td>\n",
       "      <td>18000</td>\n",
       "      <td>82.0</td>\n",
       "      <td>Harley-Davidson Road King</td>\n",
       "      <td>02/1996</td>\n",
       "      <td>Gasoline</td>\n",
       "      <td>Manual</td>\n",
       "      <td>Used</td>\n",
       "      <td>FLHR Road King</td>\n",
       "      <td>/offers/harley-davidson-road-king-flhr-road-ki...</td>\n",
       "    </tr>\n",
       "    <tr>\n",
       "      <th>4</th>\n",
       "      <td>10950</td>\n",
       "      <td>10551</td>\n",
       "      <td>185.0</td>\n",
       "      <td>Suzuki</td>\n",
       "      <td>05/2015</td>\n",
       "      <td>Gasoline</td>\n",
       "      <td>Manual</td>\n",
       "      <td>Used</td>\n",
       "      <td>Sport GSX R 1000, ABS, Complete titanium Yoshi...</td>\n",
       "      <td>/offers/suzuki-others-sport-gsx-r-1000-abs-com...</td>\n",
       "    </tr>\n",
       "    <tr>\n",
       "      <th>...</th>\n",
       "      <td>...</td>\n",
       "      <td>...</td>\n",
       "      <td>...</td>\n",
       "      <td>...</td>\n",
       "      <td>...</td>\n",
       "      <td>...</td>\n",
       "      <td>...</td>\n",
       "      <td>...</td>\n",
       "      <td>...</td>\n",
       "      <td>...</td>\n",
       "    </tr>\n",
       "    <tr>\n",
       "      <th>6090</th>\n",
       "      <td>16850</td>\n",
       "      <td>38000</td>\n",
       "      <td>64.0</td>\n",
       "      <td>Harley-Davidson</td>\n",
       "      <td>07/2005</td>\n",
       "      <td>Gasoline</td>\n",
       "      <td>Manual</td>\n",
       "      <td>Used</td>\n",
       "      <td>1450 Heritage Softail Bobber Old Style fs2 gsbblo</td>\n",
       "      <td>/offers/harley-davidson-others-1450-heritage-s...</td>\n",
       "    </tr>\n",
       "    <tr>\n",
       "      <th>6091</th>\n",
       "      <td>1350</td>\n",
       "      <td>4200</td>\n",
       "      <td>10.0</td>\n",
       "      <td>Daelim Delfino 125</td>\n",
       "      <td>03/2012</td>\n",
       "      <td>Gasoline</td>\n",
       "      <td>Automatic</td>\n",
       "      <td>Used</td>\n",
       "      <td>SU125E SERVICEHEFT GEPFLEGT</td>\n",
       "      <td>/offers/daelim-delfino-125-su125e-serviceheft-...</td>\n",
       "    </tr>\n",
       "    <tr>\n",
       "      <th>6092</th>\n",
       "      <td>8990</td>\n",
       "      <td>22800</td>\n",
       "      <td>97.0</td>\n",
       "      <td>Triumph Thruxton</td>\n",
       "      <td>07/2016</td>\n",
       "      <td>Gasoline</td>\n",
       "      <td>Manual</td>\n",
       "      <td>Used</td>\n",
       "      <td>Triumph Thruxton</td>\n",
       "      <td>/offers/triumph-thruxton-triumph-thruxton-gaso...</td>\n",
       "    </tr>\n",
       "    <tr>\n",
       "      <th>6093</th>\n",
       "      <td>17300</td>\n",
       "      <td>10592</td>\n",
       "      <td>125.0</td>\n",
       "      <td>BMW R 1200 RT</td>\n",
       "      <td>04/2018</td>\n",
       "      <td>Gasoline</td>\n",
       "      <td>Manual</td>\n",
       "      <td>Used</td>\n",
       "      <td>R 1200RT LC</td>\n",
       "      <td>/offers/bmw-r-1200-rt-r-1200rt-lc-gasoline-bla...</td>\n",
       "    </tr>\n",
       "    <tr>\n",
       "      <th>6094</th>\n",
       "      <td>8350</td>\n",
       "      <td>11500</td>\n",
       "      <td>56.0</td>\n",
       "      <td>Triumph Bonneville T100</td>\n",
       "      <td>05/2018</td>\n",
       "      <td>Gasoline</td>\n",
       "      <td>Manual</td>\n",
       "      <td>Used</td>\n",
       "      <td>Black mit Garantie</td>\n",
       "      <td>/offers/triumph-bonneville-t100-black-mit-gara...</td>\n",
       "    </tr>\n",
       "  </tbody>\n",
       "</table>\n",
       "<p>6095 rows × 10 columns</p>\n",
       "</div>"
      ],
      "text/plain": [
       "      price  mileage  power                 make_model     date      fuel  \\\n",
       "0     23990      150  218.0                      Honda  03/2020  Gasoline   \n",
       "1     18000      700   41.0                Ural Ranger  03/2021  Gasoline   \n",
       "2     10000    80000  125.0  Harley-Davidson Night Rod  09/2010  Gasoline   \n",
       "3     12500    18000   82.0  Harley-Davidson Road King  02/1996  Gasoline   \n",
       "4     10950    10551  185.0                     Suzuki  05/2015  Gasoline   \n",
       "...     ...      ...    ...                        ...      ...       ...   \n",
       "6090  16850    38000   64.0            Harley-Davidson  07/2005  Gasoline   \n",
       "6091   1350     4200   10.0         Daelim Delfino 125  03/2012  Gasoline   \n",
       "6092   8990    22800   97.0           Triumph Thruxton  07/2016  Gasoline   \n",
       "6093  17300    10592  125.0              BMW R 1200 RT  04/2018  Gasoline   \n",
       "6094   8350    11500   56.0    Triumph Bonneville T100  05/2018  Gasoline   \n",
       "\n",
       "           gear     offer_type  \\\n",
       "0        Manual  Demonstration   \n",
       "1        Manual           Used   \n",
       "2        Manual           Used   \n",
       "3        Manual           Used   \n",
       "4        Manual           Used   \n",
       "...         ...            ...   \n",
       "6090     Manual           Used   \n",
       "6091  Automatic           Used   \n",
       "6092     Manual           Used   \n",
       "6093     Manual           Used   \n",
       "6094     Manual           Used   \n",
       "\n",
       "                                                version  \\\n",
       "0                              CBR1000RR-R Fireblade SP   \n",
       "1                                             Euro4 2WD   \n",
       "2                                     Night rod special   \n",
       "3                                        FLHR Road King   \n",
       "4     Sport GSX R 1000, ABS, Complete titanium Yoshi...   \n",
       "...                                                 ...   \n",
       "6090  1450 Heritage Softail Bobber Old Style fs2 gsbblo   \n",
       "6091                        SU125E SERVICEHEFT GEPFLEGT   \n",
       "6092                                   Triumph Thruxton   \n",
       "6093                                        R 1200RT LC   \n",
       "6094                                 Black mit Garantie   \n",
       "\n",
       "                                                   link  \n",
       "0     /offers/honda-others-cbr1000rr-r-fireblade-sp-...  \n",
       "1     /offers/ural-ranger-euro4-2wd-gasoline-black-c...  \n",
       "2     /offers/harley-davidson-night-rod-night-rod-sp...  \n",
       "3     /offers/harley-davidson-road-king-flhr-road-ki...  \n",
       "4     /offers/suzuki-others-sport-gsx-r-1000-abs-com...  \n",
       "...                                                 ...  \n",
       "6090  /offers/harley-davidson-others-1450-heritage-s...  \n",
       "6091  /offers/daelim-delfino-125-su125e-serviceheft-...  \n",
       "6092  /offers/triumph-thruxton-triumph-thruxton-gaso...  \n",
       "6093  /offers/bmw-r-1200-rt-r-1200rt-lc-gasoline-bla...  \n",
       "6094  /offers/triumph-bonneville-t100-black-mit-gara...  \n",
       "\n",
       "[6095 rows x 10 columns]"
      ]
     },
     "execution_count": 3,
     "metadata": {},
     "output_type": "execute_result"
    }
   ],
   "source": [
    "data = pd.read_csv('motorbike.csv')\n",
    "data"
   ]
  },
  {
   "cell_type": "code",
   "execution_count": 4,
   "id": "5a4faabd-08b4-46a0-8c6d-5174e3536ef2",
   "metadata": {},
   "outputs": [
    {
     "name": "stdout",
     "output_type": "stream",
     "text": [
      "<class 'pandas.core.frame.DataFrame'>\n",
      "RangeIndex: 6095 entries, 0 to 6094\n",
      "Data columns (total 10 columns):\n",
      " #   Column      Non-Null Count  Dtype  \n",
      "---  ------      --------------  -----  \n",
      " 0   price       6095 non-null   int64  \n",
      " 1   mileage     6095 non-null   int64  \n",
      " 2   power       6095 non-null   float64\n",
      " 3   make_model  6095 non-null   object \n",
      " 4   date        6095 non-null   object \n",
      " 5   fuel        6095 non-null   object \n",
      " 6   gear        6095 non-null   object \n",
      " 7   offer_type  6095 non-null   object \n",
      " 8   version     6095 non-null   object \n",
      " 9   link        6095 non-null   object \n",
      "dtypes: float64(1), int64(2), object(7)\n",
      "memory usage: 476.3+ KB\n"
     ]
    }
   ],
   "source": [
    "data.info()"
   ]
  },
  {
   "cell_type": "markdown",
   "id": "fa2e4003-17ee-4e92-80ec-460ee1dad24a",
   "metadata": {},
   "source": [
    "## Preprocessing dataset"
   ]
  },
  {
   "cell_type": "markdown",
   "id": "b22eb808-49e0-439f-8d6a-ea2222ea844c",
   "metadata": {},
   "source": [
    "Melihat apakah ada data null atau duplikat"
   ]
  },
  {
   "cell_type": "code",
   "execution_count": 6,
   "id": "952d574d-9a08-4b6a-bc2f-fa67e1ef12e3",
   "metadata": {},
   "outputs": [
    {
     "data": {
      "text/plain": [
       "price         0\n",
       "mileage       0\n",
       "power         0\n",
       "make_model    0\n",
       "date          0\n",
       "fuel          0\n",
       "gear          0\n",
       "offer_type    0\n",
       "version       0\n",
       "link          0\n",
       "dtype: int64"
      ]
     },
     "execution_count": 6,
     "metadata": {},
     "output_type": "execute_result"
    }
   ],
   "source": [
    "data.isna().sum()"
   ]
  },
  {
   "cell_type": "markdown",
   "id": "015d0d5d-64df-4e4d-b854-1704cbc54725",
   "metadata": {},
   "source": [
    "Mengubah Nilai Target Dengan Encoding"
   ]
  },
  {
   "cell_type": "code",
   "execution_count": 7,
   "id": "d61e2674-f207-404e-9d1e-22bb3d42d65d",
   "metadata": {},
   "outputs": [],
   "source": [
    "X = data.drop('price', axis=1) \n",
    "y = data['price']"
   ]
  },
  {
   "cell_type": "code",
   "execution_count": 8,
   "id": "68b5b0e5-99cf-4b11-9485-051b10abc3d5",
   "metadata": {},
   "outputs": [],
   "source": [
    "label = LabelEncoder()\n",
    "y = label.fit_transform(y)"
   ]
  },
  {
   "cell_type": "code",
   "execution_count": 13,
   "id": "2e917e60-066e-495f-b392-8f1d4725f659",
   "metadata": {},
   "outputs": [],
   "source": [
    "# Memilih atribut yang dianggap memengaruhi hasil prediksi\n",
    "selected_features = ['mileage', 'power']\n",
    "X = data[selected_features]\n",
    "y = data['price']"
   ]
  },
  {
   "cell_type": "markdown",
   "id": "47f7f96b-291e-4fda-b196-38f04cac862a",
   "metadata": {},
   "source": [
    "Menerapkan One-Hot Encoding menggunakan get_dummies dari Pandas"
   ]
  },
  {
   "cell_type": "code",
   "execution_count": 16,
   "id": "836503d0-b0ce-4dea-8428-ac045f336921",
   "metadata": {},
   "outputs": [
    {
     "name": "stdout",
     "output_type": "stream",
     "text": [
      "KeyError: \"None of [Index(['make_model', 'date', 'fuel', 'gear', 'offer_type', 'version'], dtype='object')] are in the [columns]\"\n",
      "Error Details: \"None of [Index(['make_model', 'date', 'fuel', 'gear', 'offer_type', 'version'], dtype='object')] are in the [columns]\"\n"
     ]
    }
   ],
   "source": [
    "try:\n",
    "    X = pd.get_dummies(X, columns=['make_model','date', 'fuel', 'gear', 'offer_type', 'version'], drop_first=True)\n",
    "except KeyError as e:\n",
    "    print(\"KeyError:\", e)\n",
    "    print(\"Error Details:\", str(e))"
   ]
  },
  {
   "cell_type": "markdown",
   "id": "7567775a-a89c-4ee5-967f-6eff98759858",
   "metadata": {},
   "source": [
    "Standarisasi"
   ]
  },
  {
   "cell_type": "code",
   "execution_count": 18,
   "id": "bff45a7a-393d-4be0-b764-36f852d3d8cf",
   "metadata": {},
   "outputs": [
    {
     "name": "stdout",
     "output_type": "stream",
     "text": [
      "Nilai standarisasi sebelum dilakukan scaling: \n"
     ]
    },
    {
     "data": {
      "text/plain": [
       "price      1.149368e+07\n",
       "mileage    1.311406e+05\n",
       "power      5.773307e+02\n",
       "dtype: float64"
      ]
     },
     "execution_count": 18,
     "metadata": {},
     "output_type": "execute_result"
    }
   ],
   "source": [
    "print('Nilai standarisasi sebelum dilakukan scaling: ')\n",
    "std = data.std(numeric_only=True)\n",
    "np.std(data)"
   ]
  },
  {
   "cell_type": "code",
   "execution_count": 19,
   "id": "1a334dc1-f1c5-4312-a5ec-c1b8913883fd",
   "metadata": {},
   "outputs": [],
   "source": [
    "standard_scaler = StandardScaler()\n",
    "x_standard = standard_scaler.fit_transform(\n",
    "    data[['mileage', 'power']]\n",
    ")"
   ]
  },
  {
   "cell_type": "code",
   "execution_count": 21,
   "id": "5cbb6196-5823-4612-a7c1-253059bfa52f",
   "metadata": {},
   "outputs": [
    {
     "name": "stdout",
     "output_type": "stream",
     "text": [
      "Nilai sesudah dilakukan scalling: \n"
     ]
    },
    {
     "data": {
      "text/plain": [
       "0.9999999999999999"
      ]
     },
     "execution_count": 21,
     "metadata": {},
     "output_type": "execute_result"
    }
   ],
   "source": [
    "print('Nilai sesudah dilakukan scalling: ')\n",
    "np.std(x_standard)"
   ]
  },
  {
   "cell_type": "markdown",
   "id": "4f78f604-fcd3-45ac-9577-a2add9814611",
   "metadata": {},
   "source": [
    "## Split dataset menjadi train dan test"
   ]
  },
  {
   "cell_type": "code",
   "execution_count": 23,
   "id": "d5e7bef3-d8fd-40b6-b201-d54b0b2ae840",
   "metadata": {},
   "outputs": [],
   "source": [
    "x_train, x_test, y_train, y_test = train_test_split(X, y, test_size = 0.15, random_state=42)"
   ]
  },
  {
   "cell_type": "markdown",
   "id": "48aedd4f-5759-4c19-81ac-c897dfcbe4b0",
   "metadata": {},
   "source": [
    "## Model sequential"
   ]
  },
  {
   "cell_type": "code",
   "execution_count": 24,
   "id": "07159b82-69f6-43c5-92b8-8cc752aad11a",
   "metadata": {},
   "outputs": [
    {
     "name": "stdout",
     "output_type": "stream",
     "text": [
      "Model: \"sequential\"\n",
      "_________________________________________________________________\n",
      " Layer (type)                Output Shape              Param #   \n",
      "=================================================================\n",
      " dense (Dense)               (None, None, 64)          128       \n",
      "                                                                 \n",
      " dense_1 (Dense)             (None, None, 32)          2080      \n",
      "                                                                 \n",
      " dense_2 (Dense)             (None, None, 1)           33        \n",
      "                                                                 \n",
      "=================================================================\n",
      "Total params: 2241 (8.75 KB)\n",
      "Trainable params: 2241 (8.75 KB)\n",
      "Non-trainable params: 0 (0.00 Byte)\n",
      "_________________________________________________________________\n"
     ]
    }
   ],
   "source": [
    "model = Sequential([\n",
    "    Dense(units=64, activation='relu',input_shape=(None,1)), #Output Layer Wajib units\n",
    "    Dense(units=32, activation='relu'),\n",
    "    Dense(units=1, activation='sigmoid')\n",
    "])\n",
    "\n",
    "model.summary()"
   ]
  },
  {
   "cell_type": "markdown",
   "id": "d0a1e401-d4fb-4821-b977-a2ad73d8b975",
   "metadata": {},
   "source": [
    "## Model Training"
   ]
  },
  {
   "cell_type": "markdown",
   "id": "4ef3385d-0c7b-4813-8972-699a6edc05f0",
   "metadata": {},
   "source": [
    "### Model Compile"
   ]
  },
  {
   "cell_type": "code",
   "execution_count": 25,
   "id": "7e570ba8-2c15-4be6-a9a4-46f41b0fbf68",
   "metadata": {},
   "outputs": [],
   "source": [
    "model.compile(\n",
    "    optimizer = 'adam',\n",
    "    loss = 'binary_crossentropy',\n",
    "    metrics=['accuracy']\n",
    ")"
   ]
  },
  {
   "cell_type": "markdown",
   "id": "1e3ac2c1-a3c2-4b0e-bf35-2135c063def3",
   "metadata": {},
   "source": [
    "### Call Back"
   ]
  },
  {
   "cell_type": "markdown",
   "id": "480a60f0-4530-466c-b0ef-ce1e84bd04ef",
   "metadata": {},
   "source": [
    "Callback untuk menghentikan pelatihan jika tidak ada perbaikan pada validation loss"
   ]
  },
  {
   "cell_type": "code",
   "execution_count": 26,
   "id": "f3305268-05e2-4374-a789-ccd436df293f",
   "metadata": {},
   "outputs": [],
   "source": [
    "stop = EarlyStopping(monitor='val_loss', patience=10, restore_best_weights=True)"
   ]
  },
  {
   "cell_type": "markdown",
   "id": "94cd3173-cb4e-40f5-9fff-65dfda028cb2",
   "metadata": {},
   "source": [
    "Callback untuk menyimpan model terbaik berdasarkan validation loss"
   ]
  },
  {
   "cell_type": "code",
   "execution_count": 27,
   "id": "4dabeed3-a353-4ea7-9c2d-090c304e8c6d",
   "metadata": {},
   "outputs": [],
   "source": [
    "check = ModelCheckpoint('best_model.h5', save_best_only=True)"
   ]
  },
  {
   "cell_type": "markdown",
   "id": "ce01d496-239d-475e-a287-3a9d70ef6ac4",
   "metadata": {},
   "source": [
    "### Model Fit"
   ]
  },
  {
   "cell_type": "code",
   "execution_count": 31,
   "id": "dc1cb557-7398-4ab9-902b-dad926793b16",
   "metadata": {},
   "outputs": [
    {
     "name": "stdout",
     "output_type": "stream",
     "text": [
      "Epoch 1/50\n",
      "81/81 [==============================] - 1s 16ms/step - loss: -3191727.7500 - accuracy: 0.0000e+00 - val_loss: -2747873.7500 - val_accuracy: 0.0000e+00\n",
      "Epoch 2/50\n",
      "81/81 [==============================] - 2s 31ms/step - loss: -3191727.2500 - accuracy: 0.0000e+00 - val_loss: -2747873.7500 - val_accuracy: 0.0000e+00\n",
      "Epoch 3/50\n",
      "81/81 [==============================] - 2s 22ms/step - loss: -3191728.2500 - accuracy: 0.0000e+00 - val_loss: -2747873.7500 - val_accuracy: 0.0000e+00\n",
      "Epoch 4/50\n",
      "81/81 [==============================] - 3s 36ms/step - loss: -3191727.7500 - accuracy: 0.0000e+00 - val_loss: -2747873.7500 - val_accuracy: 0.0000e+00\n",
      "Epoch 5/50\n",
      "81/81 [==============================] - 1s 17ms/step - loss: -3191727.2500 - accuracy: 0.0000e+00 - val_loss: -2747873.7500 - val_accuracy: 0.0000e+00\n",
      "Epoch 6/50\n",
      "81/81 [==============================] - 2s 19ms/step - loss: -3191727.7500 - accuracy: 0.0000e+00 - val_loss: -2747873.7500 - val_accuracy: 0.0000e+00\n",
      "Epoch 7/50\n",
      "81/81 [==============================] - 3s 35ms/step - loss: -3191727.2500 - accuracy: 0.0000e+00 - val_loss: -2747873.7500 - val_accuracy: 0.0000e+00\n",
      "Epoch 8/50\n",
      "81/81 [==============================] - 1s 16ms/step - loss: -3191728.0000 - accuracy: 0.0000e+00 - val_loss: -2747873.7500 - val_accuracy: 0.0000e+00\n",
      "Epoch 9/50\n",
      "81/81 [==============================] - 1s 12ms/step - loss: -3191727.7500 - accuracy: 0.0000e+00 - val_loss: -2747873.7500 - val_accuracy: 0.0000e+00\n",
      "Epoch 10/50\n",
      "81/81 [==============================] - 1s 12ms/step - loss: -3191727.2500 - accuracy: 0.0000e+00 - val_loss: -2747873.7500 - val_accuracy: 0.0000e+00\n",
      "Epoch 11/50\n",
      "81/81 [==============================] - 1s 18ms/step - loss: -3191727.2500 - accuracy: 0.0000e+00 - val_loss: -2747873.7500 - val_accuracy: 0.0000e+00\n"
     ]
    }
   ],
   "source": [
    "history = model.fit(\n",
    "    x = x_train,\n",
    "    y = y_train,\n",
    "    epochs=50, #50x Pembelajaran\n",
    "    validation_data = (X, y),\n",
    "    batch_size=64,\n",
    "    callbacks=[stop, check]\n",
    ")"
   ]
  },
  {
   "cell_type": "code",
   "execution_count": 32,
   "id": "85b5a48e-a15d-4176-bae6-42ab1c99b5c7",
   "metadata": {},
   "outputs": [],
   "source": [
    "# Load model terbaik\n",
    "model = keras.models.load_model('best_model.h5')"
   ]
  },
  {
   "cell_type": "markdown",
   "id": "e4264345-b1cd-4c74-b668-bdb13324efa1",
   "metadata": {},
   "source": [
    "### Evaluasi Model"
   ]
  },
  {
   "cell_type": "code",
   "execution_count": 33,
   "id": "5e6b17d8-05e1-4cd1-bec8-8bbc0ef72929",
   "metadata": {},
   "outputs": [
    {
     "name": "stdout",
     "output_type": "stream",
     "text": [
      "29/29 [==============================] - 1s 15ms/step - loss: -235126.8594 - accuracy: 0.0000e+00\n",
      "Test Loss: -235126.8594\n",
      "Test Accuracy: 0.0000\n"
     ]
    }
   ],
   "source": [
    "test_loss, test_accuracy = model.evaluate(x_test, y_test)\n",
    "print(f'Test Loss: {test_loss:.4f}')\n",
    "print(f'Test Accuracy: {test_accuracy:.4f}')"
   ]
  },
  {
   "cell_type": "markdown",
   "id": "9de4a32e-99f4-4a27-ac1b-70bb3bdb940a",
   "metadata": {},
   "source": [
    "### Grafik perbandingan antara accuracy dan loss dari train dan test"
   ]
  },
  {
   "cell_type": "code",
   "execution_count": 34,
   "id": "112cc39e-02c0-4f14-a74c-9131cc456ee6",
   "metadata": {},
   "outputs": [
    {
     "data": {
      "image/png": "[encoded data removed]",
      "text/plain": [
       "<Figure size 1200x400 with 2 Axes>"
      ]
     },
     "metadata": {},
     "output_type": "display_data"
    }
   ],
   "source": [
    "plt.figure(figsize=(12, 4))\n",
    "plt.subplot(1, 2, 1)\n",
    "plt.plot(history.history['accuracy'], label='Train Accuracy')\n",
    "plt.plot(history.history['val_accuracy'], label='Validation Accuracy')\n",
    "plt.legend()\n",
    "plt.title('Training and Validation Accuracy')\n",
    "\n",
    "plt.subplot(1, 2, 2)\n",
    "plt.plot(history.history['loss'], label='Train Loss')\n",
    "plt.plot(history.history['val_loss'], label='Validation Loss')\n",
    "plt.legend()\n",
    "plt.title('Training and Validation Loss')\n",
    "\n",
    "plt.show()"
   ]
  },
  {
   "cell_type": "code",
   "execution_count": null,
   "id": "acf52632-6e8d-4e78-9a4b-25809e695cb7",
   "metadata": {},
   "outputs": [],
   "source": []
  }
 ],
 "metadata": {
  "kernelspec": {
   "display_name": "Python 3 (ipykernel)",
   "language": "python",
   "name": "python3"
  },
  "language_info": {
   "codemirror_mode": {
    "name": "ipython",
    "version": 3
   },
   "file_extension": ".py",
   "mimetype": "text/x-python",
   "name": "python",
   "nbconvert_exporter": "python",
   "pygments_lexer": "ipython3",
   "version": "3.10.7"
  }
 },
 "nbformat": 4,
 "nbformat_minor": 5
}
