{
  "nbformat": 4,
  "nbformat_minor": 0,
  "metadata": {
    "colab": {
      "provenance": []
    },
    "kernelspec": {
      "name": "python3",
      "display_name": "Python 3"
    },
    "language_info": {
      "name": "python"
    }
  },
  "cells": [
    {
      "cell_type": "markdown",
      "source": [
        "Link Dataset : https://www.kaggle.com/datasets/vishweshsalodkar/wild-animals"
      ],
      "metadata": {
        "id": "SwqNykuvfQbg"
      }
    },
    {
      "cell_type": "code",
      "execution_count": null,
      "metadata": {
        "id": "3SQ-tzDPfPE8"
      },
      "outputs": [],
      "source": [
        "!mkdir -p ~/.kaggle\n",
        "!cp kaggle.json ~/.kaggle/"
      ]
    },
    {
      "cell_type": "code",
      "source": [
        "!kaggle datasets download -d vishweshsalodkar/wild-animals"
      ],
      "metadata": {
        "colab": {
          "base_uri": "https://localhost:8080/"
        },
        "id": "CZmJir2QgRwj",
        "outputId": "449c2f6b-1d2e-4b39-a732-ddfe4633b2b6"
      },
      "execution_count": null,
      "outputs": [
        {
          "output_type": "stream",
          "name": "stdout",
          "text": [
            "Warning: Your Kaggle API key is readable by other users on this system! To fix this, you can run 'chmod 600 /root/.kaggle/kaggle.json'\n",
            "Downloading wild-animals.zip to /content\n",
            "  0% 0.00/7.37M [00:00<?, ?B/s]\n",
            "100% 7.37M/7.37M [00:00<00:00, 78.9MB/s]\n"
          ]
        }
      ]
    },
    {
      "cell_type": "code",
      "source": [
        "!unzip wild-animals.zip -d animals_data"
      ],
      "metadata": {
        "colab": {
          "base_uri": "https://localhost:8080/"
        },
        "id": "LGwrZjQLfmy6",
        "outputId": "aa773dcd-21e9-4048-ab3e-3f017c5b58d3"
      },
      "execution_count": null,
      "outputs": [
        {
          "output_type": "stream",
          "name": "stdout",
          "text": [
            "Archive:  wild-animals.zip\n",
            "  inflating: animals_data/Animals/Cheetah/animal-africa-wilderness-zoo.jpg  \n",
            "  inflating: animals_data/Animals/Cheetah/cheetah-1128798__340.jpg  \n",
            "  inflating: animals_data/Animals/Cheetah/cheetah-171217__340.jpg  \n",
            "  inflating: animals_data/Animals/Cheetah/cheetah-223734__340.jpg  \n",
            "  inflating: animals_data/Animals/Cheetah/cheetah-2268955__340.jpg  \n",
            "  inflating: animals_data/Animals/Cheetah/cheetah-2412554__340.jpg  \n",
            "  inflating: animals_data/Animals/Cheetah/cheetah-3099722__340.jpg  \n",
            "  inflating: animals_data/Animals/Cheetah/cheetah-322310__340.jpg  \n",
            "  inflating: animals_data/Animals/Cheetah/cheetah-3475778__340.jpg  \n",
            "  inflating: animals_data/Animals/Cheetah/cheetah-4096056__340.jpg  \n",
            "  inflating: animals_data/Animals/Cheetah/cheetah-425468__340.jpg  \n",
            "  inflating: animals_data/Animals/Cheetah/cheetah-448901__480.jpg  \n",
            "  inflating: animals_data/Animals/Cheetah/cheetah-5689878__340.jpg  \n",
            "  inflating: animals_data/Animals/Cheetah/cheetah-864747__340.jpg  \n",
            "  inflating: animals_data/Animals/Cheetah/cheetah-predator-wild-animal-speed-59952.jpeg  \n",
            "  inflating: animals_data/Animals/Cheetah/cheetah-sitting-big-cat-feline-162313.jpeg  \n",
            "  inflating: animals_data/Animals/Cheetah/cheetahs-171315__340.jpg  \n",
            "  inflating: animals_data/Animals/Cheetah/cheetahs-5689873__340.jpg  \n",
            "  inflating: animals_data/Animals/Cheetah/cheetahs-cubs-two-together-162318.jpeg  \n",
            "  inflating: animals_data/Animals/Cheetah/leopard-wildcat-big-cat-botswana-46790.jpeg  \n",
            "  inflating: animals_data/Animals/Cheetah/namibia-84246__340.jpg  \n",
            "  inflating: animals_data/Animals/Cheetah/pexels-photo-1109898.jpeg  \n",
            "  inflating: animals_data/Animals/Cheetah/pexels-photo-1320427.jpeg  \n",
            "  inflating: animals_data/Animals/Cheetah/pexels-photo-1320604.jpeg  \n",
            "  inflating: animals_data/Animals/Cheetah/pexels-photo-2017490.jpeg  \n",
            "  inflating: animals_data/Animals/Cheetah/pexels-photo-2274018.jpeg  \n",
            "  inflating: animals_data/Animals/Cheetah/pexels-photo-2793479.jpeg  \n",
            "  inflating: animals_data/Animals/Cheetah/pexels-photo-3714902.jpeg  \n",
            "  inflating: animals_data/Animals/Cheetah/pexels-photo-3849686.jpeg  \n",
            "  inflating: animals_data/Animals/Cheetah/pexels-photo-4577569.jpeg  \n",
            "  inflating: animals_data/Animals/Cheetah/pexels-photo-4577770.jpeg  \n",
            "  inflating: animals_data/Animals/Cheetah/pexels-photo-46324.jpeg  \n",
            "  inflating: animals_data/Animals/Cheetah/pexels-photo-624041.jpeg  \n",
            "  inflating: animals_data/Animals/Cheetah/pexels-photo-7018141.jpeg  \n",
            "  inflating: animals_data/Animals/Cheetah/pexels-photo-789574.jpeg  \n",
            "  inflating: animals_data/Animals/Cheetah/pexels-photo-8074701.jpeg  \n",
            "  inflating: animals_data/Animals/Cheetah/pexels-photo-88234.jpeg  \n",
            "  inflating: animals_data/Animals/Cheetah/pexels-photo.jpg  \n",
            "  inflating: animals_data/Animals/Jaguar/africa-animals-zoo-tiger.jpg  \n",
            "  inflating: animals_data/Animals/Jaguar/animal-2607__340.jpg  \n",
            "  inflating: animals_data/Animals/Jaguar/animal-world-3193850__340.jpg  \n",
            "  inflating: animals_data/Animals/Jaguar/jaguar-1337201__340.jpg  \n",
            "  inflating: animals_data/Animals/Jaguar/jaguar-1727406__340.jpg  \n",
            "  inflating: animals_data/Animals/Jaguar/jaguar-2188660__340.jpg  \n",
            "  inflating: animals_data/Animals/Jaguar/jaguar-859412__340.jpg  \n",
            "  inflating: animals_data/Animals/Jaguar/jaguar-halbwuchsig-sepia-profile-41002.jpeg  \n",
            "  inflating: animals_data/Animals/Jaguar/pexels-photo-155164.jpeg  \n",
            "  inflating: animals_data/Animals/Jaguar/pexels-photo-4468189 (1).jpeg  \n",
            "  inflating: animals_data/Animals/Jaguar/pexels-photo-4468189.jpeg  \n",
            "  inflating: animals_data/Animals/Jaguar/pexels-photo-5899760.jpeg  \n",
            "  inflating: animals_data/Animals/Jaguar/pexels-photo-7124473.jpeg  \n",
            "  inflating: animals_data/Animals/Jaguar/pexels-photo-773004.jpeg  \n",
            "  inflating: animals_data/Animals/Jaguar/pexels-photo-8562894.jpeg  \n",
            "  inflating: animals_data/Animals/Jaguar/photo-1469367498026-54a83d222f12.jpg  \n",
            "  inflating: animals_data/Animals/Jaguar/photo-1477949775154-d739b82400b3 (1).jpg  \n",
            "  inflating: animals_data/Animals/Jaguar/photo-1477949775154-d739b82400b3.jpg  \n",
            "  inflating: animals_data/Animals/Jaguar/photo-1486173789830-3a5236a03ab1.jpg  \n",
            "  inflating: animals_data/Animals/Jaguar/photo-1528238344097-a8994f7c74e4.jpg  \n",
            "  inflating: animals_data/Animals/Jaguar/photo-1534759846116-5799c33ce22a.jpg  \n",
            "  inflating: animals_data/Animals/Jaguar/photo-1541893321-dcc3e4dcb6dc.jpg  \n",
            "  inflating: animals_data/Animals/Jaguar/photo-1552845301-7ff61cbb2865.jpg  \n",
            "  inflating: animals_data/Animals/Jaguar/photo-1577053711673-cdf8e87a38e5.jpg  \n",
            "  inflating: animals_data/Animals/Jaguar/photo-1584307228520-94ee423187ed.jpg  \n",
            "  inflating: animals_data/Animals/Jaguar/photo-1584313452299-86bbb3f16eca.jpg  \n",
            "  inflating: animals_data/Animals/Jaguar/photo-1584313453147-be9beeb8504f.jpg  \n",
            "  inflating: animals_data/Animals/Jaguar/photo-1601544359642-c76c4f7c3221.jpg  \n",
            "  inflating: animals_data/Animals/Jaguar/photo-1604994956847-2b0ab169366b.jpg  \n",
            "  inflating: animals_data/Animals/Jaguar/photo-1614371611363-bbce32167c6c.jpg  \n",
            "  inflating: animals_data/Animals/Leopard/leopard-animal-cat-cheetah-51129.jpeg  \n",
            "  inflating: animals_data/Animals/Leopard/leopard-leopard-head-wildlife-big-cat.jpg  \n",
            "  inflating: animals_data/Animals/Leopard/leopard-leopard-spots-animal-wild-39857.jpeg  \n",
            "  inflating: animals_data/Animals/Leopard/leopard-predator-wildcat-zoo-53493.jpeg  \n",
            "  inflating: animals_data/Animals/Leopard/leopard-safari-wildier-botswana-62324.jpeg  \n",
            "  inflating: animals_data/Animals/Leopard/leopard-wildcat-big-cat-botswana-46254.jpeg  \n",
            "  inflating: animals_data/Animals/Leopard/leopard-wildcat-big-cat-botswana-46790.jpeg  \n",
            "  inflating: animals_data/Animals/Leopard/pexels-photo-1109898.jpeg  \n",
            "  inflating: animals_data/Animals/Leopard/pexels-photo-1309092.jpeg  \n",
            "  inflating: animals_data/Animals/Leopard/pexels-photo-1316297.jpeg  \n",
            "  inflating: animals_data/Animals/Leopard/pexels-photo-1478023.jpeg  \n",
            "  inflating: animals_data/Animals/Leopard/pexels-photo-1642068.jpeg  \n",
            "  inflating: animals_data/Animals/Leopard/pexels-photo-1642069.jpeg  \n",
            "  inflating: animals_data/Animals/Leopard/pexels-photo-209063.jpeg  \n",
            "  inflating: animals_data/Animals/Leopard/pexels-photo-235674.jpeg  \n",
            "  inflating: animals_data/Animals/Leopard/pexels-photo-235878.jpeg  \n",
            "  inflating: animals_data/Animals/Leopard/pexels-photo-259434.jpeg  \n",
            "  inflating: animals_data/Animals/Leopard/pexels-photo-2648125.jpeg  \n",
            "  inflating: animals_data/Animals/Leopard/pexels-photo-2676515.jpeg  \n",
            "  inflating: animals_data/Animals/Leopard/pexels-photo-3891092.jpeg  \n",
            "  inflating: animals_data/Animals/Leopard/pexels-photo-625727.jpeg  \n",
            "  inflating: animals_data/Animals/Leopard/pexels-photo-7003062.jpeg  \n",
            "  inflating: animals_data/Animals/Leopard/pexels-photo-7018141.jpeg  \n",
            "  inflating: animals_data/Animals/Leopard/pexels-photo-730487.jpeg  \n",
            "  inflating: animals_data/Animals/Leopard/pexels-photo-773000.jpeg  \n",
            "  inflating: animals_data/Animals/Leopard/pexels-photo-88234.jpeg  \n",
            "  inflating: animals_data/Animals/Leopard/pexels-photo-978824.jpeg  \n",
            "  inflating: animals_data/Animals/Leopard/photo-1477120696339-2258698d9d72.jpg  \n",
            "  inflating: animals_data/Animals/Leopard/photo-1486199149722-825253b06114.jpg  \n",
            "  inflating: animals_data/Animals/Leopard/photo-1496841733162-a88a250a275c.jpg  \n",
            "  inflating: animals_data/Animals/Leopard/photo-1541893321-dcc3e4dcb6dc.jpg  \n",
            "  inflating: animals_data/Animals/Lion/africa-african-animal-cat-41315.jpeg  \n",
            "  inflating: animals_data/Animals/Lion/africa-animal-big-brown-41176.jpeg  \n",
            "  inflating: animals_data/Animals/Lion/africa-animal-big-carnivore-41178.jpeg  \n",
            "  inflating: animals_data/Animals/Lion/lion-predator-big-cat-safari-46522.jpeg  \n",
            "  inflating: animals_data/Animals/Lion/lion-wild-africa-african.jpg  \n",
            "  inflating: animals_data/Animals/Lion/pexels-photo-1187987.jpeg  \n",
            "  inflating: animals_data/Animals/Lion/pexels-photo-1300960.jpeg  \n",
            "  inflating: animals_data/Animals/Lion/pexels-photo-1362012.jpeg  \n",
            "  inflating: animals_data/Animals/Lion/pexels-photo-1598377.jpeg  \n",
            "  inflating: animals_data/Animals/Lion/pexels-photo-1622508.jpeg  \n",
            "  inflating: animals_data/Animals/Lion/pexels-photo-209077.jpeg  \n",
            "  inflating: animals_data/Animals/Lion/pexels-photo-2220336.jpeg  \n",
            "  inflating: animals_data/Animals/Lion/pexels-photo-2674052.jpeg  \n",
            "  inflating: animals_data/Animals/Lion/pexels-photo-2741798.jpeg  \n",
            "  inflating: animals_data/Animals/Lion/pexels-photo-321096.jpeg  \n",
            "  inflating: animals_data/Animals/Lion/pexels-photo-3284268.jpeg  \n",
            "  inflating: animals_data/Animals/Lion/pexels-photo-3284291.jpeg  \n",
            "  inflating: animals_data/Animals/Lion/pexels-photo-3284299.jpeg  \n",
            "  inflating: animals_data/Animals/Lion/pexels-photo-3498323.jpeg  \n",
            "  inflating: animals_data/Animals/Lion/pexels-photo-3651335.jpeg  \n",
            "  inflating: animals_data/Animals/Lion/pexels-photo-4032590.jpeg  \n",
            "  inflating: animals_data/Animals/Lion/pexels-photo-4045962.jpeg  \n",
            "  inflating: animals_data/Animals/Lion/pexels-photo-4168329.jpeg  \n",
            "  inflating: animals_data/Animals/Lion/pexels-photo-4595865.jpeg  \n",
            "  inflating: animals_data/Animals/Lion/pexels-photo-4741843.jpeg  \n",
            "  inflating: animals_data/Animals/Lion/pexels-photo-4913587.jpeg  \n",
            "  inflating: animals_data/Animals/Lion/pexels-photo-4913601.jpeg  \n",
            "  inflating: animals_data/Animals/Lion/pexels-photo-4913603.jpeg  \n",
            "  inflating: animals_data/Animals/Lion/pexels-photo-5078931.jpeg  \n",
            "  inflating: animals_data/Animals/Lion/pexels-photo-68421.jpeg  \n",
            "  inflating: animals_data/Animals/Lion/pexels-photo-730534.jpeg  \n",
            "  inflating: animals_data/Animals/Lion/pexels-photo-730539.jpeg  \n",
            "  inflating: animals_data/Animals/Tiger/panthera-tigris-altaica-tiger-siberian-amurtiger-162173.jpeg  \n",
            "  inflating: animals_data/Animals/Tiger/panthera-tigris-altaica-tiger-siberian-amurtiger-162203.jpeg  \n",
            "  inflating: animals_data/Animals/Tiger/pexels-photo-133408.jpeg  \n",
            "  inflating: animals_data/Animals/Tiger/pexels-photo-145899 (1).jpeg  \n",
            "  inflating: animals_data/Animals/Tiger/pexels-photo-145899.jpeg  \n",
            "  inflating: animals_data/Animals/Tiger/pexels-photo-145900.jpeg  \n",
            "  inflating: animals_data/Animals/Tiger/pexels-photo-145932.jpeg  \n",
            "  inflating: animals_data/Animals/Tiger/pexels-photo-145933.jpeg  \n",
            "  inflating: animals_data/Animals/Tiger/pexels-photo-145939.jpeg  \n",
            "  inflating: animals_data/Animals/Tiger/pexels-photo-145971.jpeg  \n",
            "  inflating: animals_data/Animals/Tiger/pexels-photo-145973.jpeg  \n",
            "  inflating: animals_data/Animals/Tiger/pexels-photo-145979.jpeg  \n",
            "  inflating: animals_data/Animals/Tiger/pexels-photo-1642070.jpeg  \n",
            "  inflating: animals_data/Animals/Tiger/pexels-photo-2055100.jpeg  \n",
            "  inflating: animals_data/Animals/Tiger/pexels-photo-2263936.jpeg  \n",
            "  inflating: animals_data/Animals/Tiger/pexels-photo-236599.jpeg  \n",
            "  inflating: animals_data/Animals/Tiger/pexels-photo-236601.jpeg  \n",
            "  inflating: animals_data/Animals/Tiger/pexels-photo-247615.jpeg  \n",
            "  inflating: animals_data/Animals/Tiger/pexels-photo-2541239.jpeg  \n",
            "  inflating: animals_data/Animals/Tiger/pexels-photo-2642250.jpeg  \n",
            "  inflating: animals_data/Animals/Tiger/pexels-photo-2649841.jpeg  \n",
            "  inflating: animals_data/Animals/Tiger/pexels-photo-2668605.jpeg  \n",
            "  inflating: animals_data/Animals/Tiger/pexels-photo-2689436.jpeg  \n",
            "  inflating: animals_data/Animals/Tiger/pexels-photo-302276.jpeg  \n",
            "  inflating: animals_data/Animals/Tiger/pexels-photo-302304.jpeg  \n",
            "  inflating: animals_data/Animals/Tiger/pexels-photo-3275319.jpeg  \n",
            "  inflating: animals_data/Animals/Tiger/pexels-photo-357783.jpeg  \n",
            "  inflating: animals_data/Animals/Tiger/pexels-photo-3777200.jpeg  \n",
            "  inflating: animals_data/Animals/Tiger/pexels-photo-3860030.jpeg  \n",
            "  inflating: animals_data/Animals/Tiger/pexels-photo-572861.jpeg  \n",
            "  inflating: animals_data/Animals/Tiger/pexels-photo-774544.jpeg  \n",
            "  inflating: animals_data/Animals/Tiger/pexels-photo-792381.jpeg  \n",
            "  inflating: animals_data/Animals/Tiger/pexels-photo-814898.jpeg  \n",
            "  inflating: animals_data/Animals/Tiger/pexels-photo-951007.jpeg  \n",
            "  inflating: animals_data/Animals/Tiger/pexels-photo-982240.jpeg  \n",
            "  inflating: animals_data/Animals/Tiger/sumatran-tiger-tiger-big-cat-stripes-46251.jpeg  \n",
            "  inflating: animals_data/Animals/Tiger/tiger-cub-tiger-cub-big-cat-64152.jpeg  \n",
            "  inflating: animals_data/Animals/Tiger/tiger-predator-animal-tooth-47312.jpeg  \n",
            "  inflating: animals_data/Animals/Tiger/tiger-snow-growling-zoo-40661.jpeg  \n"
          ]
        }
      ]
    },
    {
      "cell_type": "code",
      "source": [
        "import tensorflow as tf\n",
        "from tensorflow.keras.preprocessing.image import ImageDataGenerator\n",
        "from tensorflow.keras.models import Sequential\n",
        "from tensorflow.keras.layers import Conv2D, MaxPooling2D, Flatten, Dense\n",
        "from tensorflow.keras.applications import VGG16\n",
        "from tensorflow.keras.optimizers import Adam\n",
        "from tensorflow.keras.callbacks import EarlyStopping, ReduceLROnPlateau\n",
        "import matplotlib.pyplot as plt"
      ],
      "metadata": {
        "id": "P7e4qe9Rfv3Y"
      },
      "execution_count": null,
      "outputs": []
    },
    {
      "cell_type": "code",
      "source": [
        "path = path = '/content/animals_data/Animals'"
      ],
      "metadata": {
        "id": "40FqjgPpgLby"
      },
      "execution_count": null,
      "outputs": []
    },
    {
      "cell_type": "code",
      "source": [
        "import os"
      ],
      "metadata": {
        "id": "goVXB8cNhnOv"
      },
      "execution_count": null,
      "outputs": []
    },
    {
      "cell_type": "code",
      "source": [
        "kategori = os.listdir(path)\n",
        "kategori\n"
      ],
      "metadata": {
        "colab": {
          "base_uri": "https://localhost:8080/"
        },
        "id": "v0o77OIOhtqJ",
        "outputId": "bf9b176f-0543-403f-a7a7-4dfb699a33cd"
      },
      "execution_count": null,
      "outputs": [
        {
          "output_type": "execute_result",
          "data": {
            "text/plain": [
              "['Lion', 'Leopard', 'Cheetah', 'Jaguar', 'Tiger']"
            ]
          },
          "metadata": {},
          "execution_count": 7
        }
      ]
    },
    {
      "cell_type": "markdown",
      "source": [
        "# **Mengatur path dataset menjadi 3 train, val, test**"
      ],
      "metadata": {
        "id": "sWTi6coPh3cH"
      }
    },
    {
      "cell_type": "code",
      "source": [
        "\n",
        "train_dir = '/content/animals_data/Animals'\n",
        "validation_dir = '/content/animals_data/Animals'\n",
        "test_dir = '/content/animals_data/Animals'"
      ],
      "metadata": {
        "id": "sW0QbkunhvcZ"
      },
      "execution_count": null,
      "outputs": []
    },
    {
      "cell_type": "markdown",
      "source": [
        "## **Menggunakan ImageDataGenerator untuk memuat serta melakukan augmentasi pada data**"
      ],
      "metadata": {
        "id": "MWkX0c5DihtJ"
      }
    },
    {
      "cell_type": "code",
      "source": [
        "train_datagen = ImageDataGenerator(\n",
        "    rescale=1./255,\n",
        "    rotation_range=20,\n",
        "    width_shift_range=0.2,\n",
        "    height_shift_range=0.2,\n",
        "    shear_range=0.2,\n",
        "    zoom_range=0.2,\n",
        "    horizontal_flip=True,\n",
        "    fill_mode='nearest'\n",
        ")"
      ],
      "metadata": {
        "id": "Q-aqmbJcier1"
      },
      "execution_count": null,
      "outputs": []
    },
    {
      "cell_type": "code",
      "source": [
        "validation_datagen = ImageDataGenerator(rescale=1./255)\n",
        "test_datagen = ImageDataGenerator(rescale=1./255)"
      ],
      "metadata": {
        "id": "GkdHYO-eiqG9"
      },
      "execution_count": null,
      "outputs": []
    },
    {
      "cell_type": "markdown",
      "source": [
        "## **Split dataset menjadi train, val, dan test**"
      ],
      "metadata": {
        "id": "-XiHzbAIivnp"
      }
    },
    {
      "cell_type": "markdown",
      "source": [
        "Data train"
      ],
      "metadata": {
        "id": "nlEblwMPjAAP"
      }
    },
    {
      "cell_type": "code",
      "source": [
        "train_generator = train_datagen.flow_from_directory(\n",
        "    train_dir,\n",
        "    target_size=(100, 100),\n",
        "    batch_size=32,\n",
        "    class_mode='binary'\n",
        ")"
      ],
      "metadata": {
        "colab": {
          "base_uri": "https://localhost:8080/"
        },
        "id": "rAUyfrfwitFC",
        "outputId": "9e5e69cc-5204-4a6e-80f8-a4bb6a67d4d3"
      },
      "execution_count": null,
      "outputs": [
        {
          "output_type": "stream",
          "name": "stdout",
          "text": [
            "Found 170 images belonging to 5 classes.\n"
          ]
        }
      ]
    },
    {
      "cell_type": "markdown",
      "source": [
        "Data Val"
      ],
      "metadata": {
        "id": "pvJ3TwnajH2c"
      }
    },
    {
      "cell_type": "code",
      "source": [
        "validation_generator = validation_datagen.flow_from_directory(\n",
        "    validation_dir,\n",
        "    target_size=(100, 100),\n",
        "    batch_size=32,\n",
        "    class_mode='binary'\n",
        ")"
      ],
      "metadata": {
        "colab": {
          "base_uri": "https://localhost:8080/"
        },
        "id": "qSHsDcg9i5E9",
        "outputId": "2ad6153a-e8c6-4407-87ad-e39c827e6621"
      },
      "execution_count": null,
      "outputs": [
        {
          "output_type": "stream",
          "name": "stdout",
          "text": [
            "Found 170 images belonging to 5 classes.\n"
          ]
        }
      ]
    },
    {
      "cell_type": "markdown",
      "source": [
        "Data Test"
      ],
      "metadata": {
        "id": "G-k121QqjQdZ"
      }
    },
    {
      "cell_type": "code",
      "source": [
        "test_generator = test_datagen.flow_from_directory(\n",
        "    test_dir,\n",
        "    target_size=(100, 100),\n",
        "    batch_size=32,\n",
        "    class_mode='binary'\n",
        ")"
      ],
      "metadata": {
        "colab": {
          "base_uri": "https://localhost:8080/"
        },
        "id": "C_ITBP1MjOvS",
        "outputId": "473ad330-903b-4d45-c80d-ae7358aa8586"
      },
      "execution_count": null,
      "outputs": [
        {
          "output_type": "stream",
          "name": "stdout",
          "text": [
            "Found 170 images belonging to 5 classes.\n"
          ]
        }
      ]
    },
    {
      "cell_type": "markdown",
      "source": [
        "## **Membuat model sequential**"
      ],
      "metadata": {
        "id": "i4CbaZxCjdQT"
      }
    },
    {
      "cell_type": "code",
      "source": [
        "model = Sequential()"
      ],
      "metadata": {
        "id": "2WUq1h_TjWb0"
      },
      "execution_count": null,
      "outputs": []
    },
    {
      "cell_type": "markdown",
      "source": [
        "## **Menggunakan pre-trained model VGG16**"
      ],
      "metadata": {
        "id": "TYZmo1DRjltT"
      }
    },
    {
      "cell_type": "code",
      "source": [
        "base_model = VGG16(include_top=False, weights='imagenet', input_shape=(100, 100, 3))\n",
        "base_model.trainable = False\n",
        "\n",
        "model.add(base_model)\n",
        "model.add(Flatten())\n",
        "model.add(Dense(256, activation='relu'))\n",
        "model.add(Dense(1, activation='sigmoid'))"
      ],
      "metadata": {
        "colab": {
          "base_uri": "https://localhost:8080/"
        },
        "id": "YX3hVQcpjipE",
        "outputId": "55d6a654-b0fb-417e-dd36-a5934f03ab49"
      },
      "execution_count": null,
      "outputs": [
        {
          "output_type": "stream",
          "name": "stdout",
          "text": [
            "Downloading data from https://storage.googleapis.com/tensorflow/keras-applications/vgg16/vgg16_weights_tf_dim_ordering_tf_kernels_notop.h5\n",
            "58889256/58889256 [==============================] - 0s 0us/step\n"
          ]
        }
      ]
    },
    {
      "cell_type": "markdown",
      "source": [
        "## **Menggunakan optimizer, loss, dan metrics**"
      ],
      "metadata": {
        "id": "jqZKCwq2j3yh"
      }
    },
    {
      "cell_type": "code",
      "source": [
        "model.compile(optimizer=Adam(lr=0.0001), loss='binary_crossentropy', metrics=['accuracy'])"
      ],
      "metadata": {
        "colab": {
          "base_uri": "https://localhost:8080/"
        },
        "id": "ePdlPRQFjtvF",
        "outputId": "c78c7c67-29f1-42f9-fadc-cc7c87f77a05"
      },
      "execution_count": null,
      "outputs": [
        {
          "output_type": "stream",
          "name": "stderr",
          "text": [
            "WARNING:absl:`lr` is deprecated in Keras optimizer, please use `learning_rate` or use the legacy optimizer, e.g.,tf.keras.optimizers.legacy.Adam.\n"
          ]
        }
      ]
    },
    {
      "cell_type": "markdown",
      "source": [
        "## **Callbacks**"
      ],
      "metadata": {
        "id": "Fc7A8Y3jkAbx"
      }
    },
    {
      "cell_type": "code",
      "source": [
        "early_stopping = EarlyStopping(patience=5, restore_best_weights=True)\n",
        "reduce_lr = ReduceLROnPlateau(factor=0.1, patience=3)"
      ],
      "metadata": {
        "id": "tBcEuqwij74T"
      },
      "execution_count": null,
      "outputs": []
    },
    {
      "cell_type": "markdown",
      "source": [
        "## **Latih Model**"
      ],
      "metadata": {
        "id": "ipO7UwfqkGS2"
      }
    },
    {
      "cell_type": "code",
      "source": [
        "history = model.fit(\n",
        "    train_generator,\n",
        "    epochs=50,\n",
        "    validation_data=validation_generator,\n",
        "    callbacks=[early_stopping, reduce_lr]\n",
        ")"
      ],
      "metadata": {
        "colab": {
          "base_uri": "https://localhost:8080/"
        },
        "id": "9D4ErqBskEgO",
        "outputId": "408df16f-5264-4588-fe64-35e01c5f11f8"
      },
      "execution_count": null,
      "outputs": [
        {
          "output_type": "stream",
          "name": "stdout",
          "text": [
            "Epoch 1/50\n",
            "6/6 [==============================] - 61s 11s/step - loss: -54.6672 - accuracy: 0.1765 - val_loss: -76.7018 - val_accuracy: 0.1765 - lr: 0.0010\n",
            "Epoch 2/50\n",
            "6/6 [==============================] - 62s 12s/step - loss: -101.5593 - accuracy: 0.1765 - val_loss: -127.7507 - val_accuracy: 0.1765 - lr: 0.0010\n",
            "Epoch 3/50\n",
            "6/6 [==============================] - 63s 12s/step - loss: -151.1625 - accuracy: 0.1765 - val_loss: -189.3255 - val_accuracy: 0.1765 - lr: 0.0010\n",
            "Epoch 4/50\n",
            "6/6 [==============================] - 61s 11s/step - loss: -227.7521 - accuracy: 0.1765 - val_loss: -260.5072 - val_accuracy: 0.1765 - lr: 0.0010\n",
            "Epoch 5/50\n",
            "6/6 [==============================] - 62s 12s/step - loss: -299.6815 - accuracy: 0.1765 - val_loss: -343.8213 - val_accuracy: 0.1765 - lr: 0.0010\n",
            "Epoch 6/50\n",
            "6/6 [==============================] - 61s 11s/step - loss: -389.3076 - accuracy: 0.1765 - val_loss: -437.9420 - val_accuracy: 0.1765 - lr: 0.0010\n",
            "Epoch 7/50\n",
            "6/6 [==============================] - 40s 8s/step - loss: -497.0571 - accuracy: 0.1765 - val_loss: -548.8109 - val_accuracy: 0.1765 - lr: 0.0010\n",
            "Epoch 8/50\n",
            "6/6 [==============================] - 61s 11s/step - loss: -605.4739 - accuracy: 0.1765 - val_loss: -675.5320 - val_accuracy: 0.1765 - lr: 0.0010\n",
            "Epoch 9/50\n",
            "6/6 [==============================] - 42s 7s/step - loss: -742.4993 - accuracy: 0.1765 - val_loss: -813.6268 - val_accuracy: 0.1765 - lr: 0.0010\n",
            "Epoch 10/50\n",
            "6/6 [==============================] - 40s 7s/step - loss: -894.8098 - accuracy: 0.1765 - val_loss: -966.3872 - val_accuracy: 0.1765 - lr: 0.0010\n",
            "Epoch 11/50\n",
            "6/6 [==============================] - 40s 7s/step - loss: -1054.7732 - accuracy: 0.1765 - val_loss: -1135.7034 - val_accuracy: 0.1765 - lr: 0.0010\n",
            "Epoch 12/50\n",
            "6/6 [==============================] - 42s 8s/step - loss: -1249.9500 - accuracy: 0.1765 - val_loss: -1316.2448 - val_accuracy: 0.1765 - lr: 0.0010\n",
            "Epoch 13/50\n",
            "6/6 [==============================] - 41s 8s/step - loss: -1435.4109 - accuracy: 0.1765 - val_loss: -1516.3513 - val_accuracy: 0.1765 - lr: 0.0010\n",
            "Epoch 14/50\n",
            "6/6 [==============================] - 61s 11s/step - loss: -1618.1511 - accuracy: 0.1765 - val_loss: -1736.3191 - val_accuracy: 0.1765 - lr: 0.0010\n",
            "Epoch 15/50\n",
            "6/6 [==============================] - 41s 7s/step - loss: -1883.4117 - accuracy: 0.1765 - val_loss: -1971.0095 - val_accuracy: 0.1765 - lr: 0.0010\n",
            "Epoch 16/50\n",
            "6/6 [==============================] - 40s 7s/step - loss: -2114.8496 - accuracy: 0.1765 - val_loss: -2213.6260 - val_accuracy: 0.1765 - lr: 0.0010\n",
            "Epoch 17/50\n",
            "6/6 [==============================] - 61s 11s/step - loss: -2378.2261 - accuracy: 0.1765 - val_loss: -2478.7197 - val_accuracy: 0.1765 - lr: 0.0010\n",
            "Epoch 18/50\n",
            "6/6 [==============================] - 42s 8s/step - loss: -2668.9602 - accuracy: 0.1765 - val_loss: -2756.0393 - val_accuracy: 0.1765 - lr: 0.0010\n",
            "Epoch 19/50\n",
            "6/6 [==============================] - 42s 7s/step - loss: -2920.5757 - accuracy: 0.1765 - val_loss: -3046.5898 - val_accuracy: 0.1765 - lr: 0.0010\n",
            "Epoch 20/50\n",
            "6/6 [==============================] - 61s 11s/step - loss: -3275.0378 - accuracy: 0.1765 - val_loss: -3361.1265 - val_accuracy: 0.1765 - lr: 0.0010\n",
            "Epoch 21/50\n",
            "6/6 [==============================] - 41s 8s/step - loss: -3614.0227 - accuracy: 0.1765 - val_loss: -3695.9426 - val_accuracy: 0.1765 - lr: 0.0010\n",
            "Epoch 22/50\n",
            "6/6 [==============================] - 61s 11s/step - loss: -3954.7109 - accuracy: 0.1765 - val_loss: -4053.6677 - val_accuracy: 0.1765 - lr: 0.0010\n",
            "Epoch 23/50\n",
            "6/6 [==============================] - 42s 7s/step - loss: -4242.4014 - accuracy: 0.1765 - val_loss: -4431.7080 - val_accuracy: 0.1765 - lr: 0.0010\n",
            "Epoch 24/50\n",
            "6/6 [==============================] - 61s 11s/step - loss: -4660.2158 - accuracy: 0.1765 - val_loss: -4828.1606 - val_accuracy: 0.1765 - lr: 0.0010\n",
            "Epoch 25/50\n",
            "6/6 [==============================] - 61s 11s/step - loss: -5056.1978 - accuracy: 0.1765 - val_loss: -5223.0649 - val_accuracy: 0.1765 - lr: 0.0010\n",
            "Epoch 26/50\n",
            "6/6 [==============================] - 40s 7s/step - loss: -5496.3481 - accuracy: 0.1765 - val_loss: -5617.9023 - val_accuracy: 0.1765 - lr: 0.0010\n",
            "Epoch 27/50\n",
            "6/6 [==============================] - 40s 7s/step - loss: -5867.1904 - accuracy: 0.1765 - val_loss: -6055.3208 - val_accuracy: 0.1765 - lr: 0.0010\n",
            "Epoch 28/50\n",
            "6/6 [==============================] - 41s 7s/step - loss: -6365.0469 - accuracy: 0.1765 - val_loss: -6493.7583 - val_accuracy: 0.1765 - lr: 0.0010\n",
            "Epoch 29/50\n",
            "6/6 [==============================] - 61s 11s/step - loss: -6774.5542 - accuracy: 0.1765 - val_loss: -6957.5884 - val_accuracy: 0.1765 - lr: 0.0010\n",
            "Epoch 30/50\n",
            "6/6 [==============================] - 42s 8s/step - loss: -7294.3623 - accuracy: 0.1765 - val_loss: -7428.8809 - val_accuracy: 0.1765 - lr: 0.0010\n",
            "Epoch 31/50\n",
            "6/6 [==============================] - 61s 11s/step - loss: -7643.1865 - accuracy: 0.1765 - val_loss: -7924.4829 - val_accuracy: 0.1765 - lr: 0.0010\n",
            "Epoch 32/50\n",
            "6/6 [==============================] - 42s 7s/step - loss: -8210.8984 - accuracy: 0.1765 - val_loss: -8437.5029 - val_accuracy: 0.1765 - lr: 0.0010\n",
            "Epoch 33/50\n",
            "6/6 [==============================] - 41s 8s/step - loss: -8886.5762 - accuracy: 0.1765 - val_loss: -8968.7441 - val_accuracy: 0.1765 - lr: 0.0010\n",
            "Epoch 34/50\n",
            "6/6 [==============================] - 41s 7s/step - loss: -9286.8896 - accuracy: 0.1765 - val_loss: -9522.1025 - val_accuracy: 0.1765 - lr: 0.0010\n",
            "Epoch 35/50\n",
            "6/6 [==============================] - 61s 11s/step - loss: -9923.9824 - accuracy: 0.1765 - val_loss: -10082.8506 - val_accuracy: 0.1765 - lr: 0.0010\n",
            "Epoch 36/50\n",
            "6/6 [==============================] - 61s 11s/step - loss: -10484.7822 - accuracy: 0.1765 - val_loss: -10683.1797 - val_accuracy: 0.1765 - lr: 0.0010\n",
            "Epoch 37/50\n",
            "6/6 [==============================] - 40s 7s/step - loss: -11043.5664 - accuracy: 0.1765 - val_loss: -11288.8184 - val_accuracy: 0.1765 - lr: 0.0010\n",
            "Epoch 38/50\n",
            "6/6 [==============================] - 41s 8s/step - loss: -11725.7178 - accuracy: 0.1765 - val_loss: -11909.5879 - val_accuracy: 0.1765 - lr: 0.0010\n",
            "Epoch 39/50\n",
            "6/6 [==============================] - 40s 7s/step - loss: -12351.6748 - accuracy: 0.1765 - val_loss: -12557.1074 - val_accuracy: 0.1765 - lr: 0.0010\n",
            "Epoch 40/50\n",
            "6/6 [==============================] - 61s 11s/step - loss: -13121.7998 - accuracy: 0.1765 - val_loss: -13184.0020 - val_accuracy: 0.1765 - lr: 0.0010\n",
            "Epoch 41/50\n",
            "6/6 [==============================] - 40s 7s/step - loss: -13685.0264 - accuracy: 0.1765 - val_loss: -13840.5176 - val_accuracy: 0.1765 - lr: 0.0010\n",
            "Epoch 42/50\n",
            "6/6 [==============================] - 43s 7s/step - loss: -14457.6191 - accuracy: 0.1765 - val_loss: -14512.2930 - val_accuracy: 0.1765 - lr: 0.0010\n",
            "Epoch 43/50\n",
            "6/6 [==============================] - 41s 8s/step - loss: -15049.1104 - accuracy: 0.1765 - val_loss: -15209.6973 - val_accuracy: 0.1765 - lr: 0.0010\n",
            "Epoch 44/50\n",
            "6/6 [==============================] - 40s 7s/step - loss: -15791.3086 - accuracy: 0.1765 - val_loss: -15935.5996 - val_accuracy: 0.1765 - lr: 0.0010\n",
            "Epoch 45/50\n",
            "6/6 [==============================] - 61s 11s/step - loss: -16520.1758 - accuracy: 0.1765 - val_loss: -16708.0859 - val_accuracy: 0.1765 - lr: 0.0010\n",
            "Epoch 46/50\n",
            "6/6 [==============================] - 42s 7s/step - loss: -17316.9785 - accuracy: 0.1765 - val_loss: -17473.5449 - val_accuracy: 0.1765 - lr: 0.0010\n",
            "Epoch 47/50\n",
            "6/6 [==============================] - 41s 7s/step - loss: -18145.0508 - accuracy: 0.1765 - val_loss: -18209.3184 - val_accuracy: 0.1765 - lr: 0.0010\n",
            "Epoch 48/50\n",
            "6/6 [==============================] - 62s 12s/step - loss: -19109.3359 - accuracy: 0.1765 - val_loss: -19002.0742 - val_accuracy: 0.1765 - lr: 0.0010\n",
            "Epoch 49/50\n",
            "6/6 [==============================] - 41s 7s/step - loss: -19486.5781 - accuracy: 0.1765 - val_loss: -19807.3984 - val_accuracy: 0.1765 - lr: 0.0010\n",
            "Epoch 50/50\n",
            "6/6 [==============================] - 42s 8s/step - loss: -20443.8828 - accuracy: 0.1765 - val_loss: -20616.3008 - val_accuracy: 0.1765 - lr: 0.0010\n"
          ]
        }
      ]
    },
    {
      "cell_type": "markdown",
      "source": [
        "# **Evaluasi model**"
      ],
      "metadata": {
        "id": "dKMWf3cfkWru"
      }
    },
    {
      "cell_type": "code",
      "source": [
        "test_loss, test_accuracy = model.evaluate(test_generator)\n",
        "print(f'Akurasi data test: {test_accuracy:.2f}')"
      ],
      "metadata": {
        "colab": {
          "base_uri": "https://localhost:8080/"
        },
        "id": "aUfWRsBJkKQw",
        "outputId": "249c4c15-d677-48d0-8607-f561a7b6ef71"
      },
      "execution_count": null,
      "outputs": [
        {
          "output_type": "stream",
          "name": "stdout",
          "text": [
            "6/6 [==============================] - 21s 3s/step - loss: -20616.3027 - accuracy: 0.1765\n",
            "Akurasi data test: 0.18\n"
          ]
        }
      ]
    },
    {
      "cell_type": "markdown",
      "source": [
        "## **Membuat grafik pergerakan metrik Accuracy dan Loss terhadap epoch pada Training dan Validation**"
      ],
      "metadata": {
        "id": "fz5ljEkkkfxC"
      }
    },
    {
      "cell_type": "code",
      "source": [
        "acc = history.history['accuracy']\n",
        "val_acc = history.history['val_accuracy']\n",
        "loss = history.history['loss']\n",
        "val_loss = history.history['val_loss']\n",
        "\n",
        "epochs = range(1, len(acc) + 1)"
      ],
      "metadata": {
        "id": "iURvfk1FkjUy"
      },
      "execution_count": null,
      "outputs": []
    },
    {
      "cell_type": "markdown",
      "source": [
        "## **Grafik Accuracy**"
      ],
      "metadata": {
        "id": "D7KYbyFfkm_y"
      }
    },
    {
      "cell_type": "code",
      "source": [
        "plt.figure(figsize=(14, 5))\n",
        "plt.subplot(1, 2, 1)\n",
        "plt.plot(epochs, acc, 'r', label='Train')\n",
        "plt.plot(epochs, val_acc, 'b', label='Val')\n",
        "plt.title('Model Accuracy')\n",
        "plt.legend()"
      ],
      "metadata": {
        "colab": {
          "base_uri": "https://localhost:8080/",
          "height": 485
        },
        "id": "4vNgqFEckpjj",
        "outputId": "38707585-71e5-4eff-919b-ab9d20db9212"
      },
      "execution_count": null,
      "outputs": [
        {
          "output_type": "execute_result",
          "data": {
            "text/plain": [
              "<matplotlib.legend.Legend at 0x798496730220>"
            ]
          },
          "metadata": {},
          "execution_count": 24
        },
        {
          "output_type": "display_data",
          "data": {
            "text/plain": [
              "<Figure size 1400x500 with 1 Axes>"
            ],
            "image/png": "[encoded data removed]"
          },
          "metadata": {}
        }
      ]
    },
    {
      "cell_type": "markdown",
      "source": [
        "## **Grafik Loss**"
      ],
      "metadata": {
        "id": "9skVl4jukrxd"
      }
    },
    {
      "cell_type": "code",
      "source": [
        "plt.figure(figsize=(14, 5))\n",
        "plt.subplot(1, 2, 2)\n",
        "plt.plot(epochs, loss, 'r', label='Train')\n",
        "plt.plot(epochs, val_loss, 'b', label='Val')\n",
        "plt.title('Model Loss')\n",
        "plt.legend()\n",
        "\n",
        "plt.show()\n"
      ],
      "metadata": {
        "colab": {
          "base_uri": "https://localhost:8080/",
          "height": 468
        },
        "id": "296NkQMKkwjS",
        "outputId": "45a59c22-6a65-4db5-fb34-b8c4c6df3c49"
      },
      "execution_count": null,
      "outputs": [
        {
          "output_type": "display_data",
          "data": {
            "text/plain": [
              "<Figure size 1400x500 with 1 Axes>"
            ],
            "image/png": "[encoded data removed]"
          },
          "metadata": {}
        }
      ]
    },
    {
      "cell_type": "code",
      "source": [],
      "metadata": {
        "id": "tG7UhHptwFOc"
      },
      "execution_count": null,
      "outputs": []
    }
  ]
}