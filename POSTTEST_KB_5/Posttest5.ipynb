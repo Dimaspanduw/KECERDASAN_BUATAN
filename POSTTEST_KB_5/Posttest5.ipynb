{
 "cells": [
  {
   "cell_type": "markdown",
   "id": "0b111754-85dc-40e7-a48c-cee73347a16e",
   "metadata": {},
   "source": [
    "# Pendekatan Machine Learning"
   ]
  },
  {
   "cell_type": "markdown",
   "id": "55fb93dc-cce2-445a-922f-f7ccbd814af4",
   "metadata": {},
   "source": [
    "## Import Library yang diperlukan\n",
    "\n",
    "menggunakan library yang diperlukan dan dataset pada pengimplementasian metode-metode yang digunakan"
   ]
  },
  {
   "cell_type": "code",
   "execution_count": 1,
   "id": "505e5680-0b3d-4227-a25d-1b78f3459e2c",
   "metadata": {},
   "outputs": [
    {
     "data": {
      "text/html": [
       "<div>\n",
       "<style scoped>\n",
       "    .dataframe tbody tr th:only-of-type {\n",
       "        vertical-align: middle;\n",
       "    }\n",
       "\n",
       "    .dataframe tbody tr th {\n",
       "        vertical-align: top;\n",
       "    }\n",
       "\n",
       "    .dataframe thead th {\n",
       "        text-align: right;\n",
       "    }\n",
       "</style>\n",
       "<table border=\"1\" class=\"dataframe\">\n",
       "  <thead>\n",
       "    <tr style=\"text-align: right;\">\n",
       "      <th></th>\n",
       "      <th>price</th>\n",
       "      <th>mileage</th>\n",
       "      <th>power</th>\n",
       "      <th>make_model</th>\n",
       "      <th>date</th>\n",
       "      <th>fuel</th>\n",
       "      <th>gear</th>\n",
       "      <th>offer_type</th>\n",
       "      <th>version</th>\n",
       "      <th>link</th>\n",
       "    </tr>\n",
       "  </thead>\n",
       "  <tbody>\n",
       "    <tr>\n",
       "      <th>0</th>\n",
       "      <td>23990</td>\n",
       "      <td>150</td>\n",
       "      <td>218.0</td>\n",
       "      <td>Honda</td>\n",
       "      <td>03/2020</td>\n",
       "      <td>Gasoline</td>\n",
       "      <td>Manual</td>\n",
       "      <td>Demonstration</td>\n",
       "      <td>CBR1000RR-R Fireblade SP</td>\n",
       "      <td>/offers/honda-others-cbr1000rr-r-fireblade-sp-...</td>\n",
       "    </tr>\n",
       "    <tr>\n",
       "      <th>1</th>\n",
       "      <td>18000</td>\n",
       "      <td>700</td>\n",
       "      <td>41.0</td>\n",
       "      <td>Ural Ranger</td>\n",
       "      <td>03/2021</td>\n",
       "      <td>Gasoline</td>\n",
       "      <td>Manual</td>\n",
       "      <td>Used</td>\n",
       "      <td>Euro4 2WD</td>\n",
       "      <td>/offers/ural-ranger-euro4-2wd-gasoline-black-c...</td>\n",
       "    </tr>\n",
       "    <tr>\n",
       "      <th>2</th>\n",
       "      <td>10000</td>\n",
       "      <td>80000</td>\n",
       "      <td>125.0</td>\n",
       "      <td>Harley-Davidson Night Rod</td>\n",
       "      <td>09/2010</td>\n",
       "      <td>Gasoline</td>\n",
       "      <td>Manual</td>\n",
       "      <td>Used</td>\n",
       "      <td>Night rod special</td>\n",
       "      <td>/offers/harley-davidson-night-rod-night-rod-sp...</td>\n",
       "    </tr>\n",
       "    <tr>\n",
       "      <th>3</th>\n",
       "      <td>12500</td>\n",
       "      <td>18000</td>\n",
       "      <td>82.0</td>\n",
       "      <td>Harley-Davidson Road King</td>\n",
       "      <td>02/1996</td>\n",
       "      <td>Gasoline</td>\n",
       "      <td>Manual</td>\n",
       "      <td>Used</td>\n",
       "      <td>FLHR Road King</td>\n",
       "      <td>/offers/harley-davidson-road-king-flhr-road-ki...</td>\n",
       "    </tr>\n",
       "    <tr>\n",
       "      <th>4</th>\n",
       "      <td>10950</td>\n",
       "      <td>10551</td>\n",
       "      <td>185.0</td>\n",
       "      <td>Suzuki</td>\n",
       "      <td>05/2015</td>\n",
       "      <td>Gasoline</td>\n",
       "      <td>Manual</td>\n",
       "      <td>Used</td>\n",
       "      <td>Sport GSX R 1000, ABS, Complete titanium Yoshi...</td>\n",
       "      <td>/offers/suzuki-others-sport-gsx-r-1000-abs-com...</td>\n",
       "    </tr>\n",
       "  </tbody>\n",
       "</table>\n",
       "</div>"
      ],
      "text/plain": [
       "   price  mileage  power                 make_model     date      fuel  \\\n",
       "0  23990      150  218.0                      Honda  03/2020  Gasoline   \n",
       "1  18000      700   41.0                Ural Ranger  03/2021  Gasoline   \n",
       "2  10000    80000  125.0  Harley-Davidson Night Rod  09/2010  Gasoline   \n",
       "3  12500    18000   82.0  Harley-Davidson Road King  02/1996  Gasoline   \n",
       "4  10950    10551  185.0                     Suzuki  05/2015  Gasoline   \n",
       "\n",
       "     gear     offer_type                                            version  \\\n",
       "0  Manual  Demonstration                           CBR1000RR-R Fireblade SP   \n",
       "1  Manual           Used                                          Euro4 2WD   \n",
       "2  Manual           Used                                  Night rod special   \n",
       "3  Manual           Used                                     FLHR Road King   \n",
       "4  Manual           Used  Sport GSX R 1000, ABS, Complete titanium Yoshi...   \n",
       "\n",
       "                                                link  \n",
       "0  /offers/honda-others-cbr1000rr-r-fireblade-sp-...  \n",
       "1  /offers/ural-ranger-euro4-2wd-gasoline-black-c...  \n",
       "2  /offers/harley-davidson-night-rod-night-rod-sp...  \n",
       "3  /offers/harley-davidson-road-king-flhr-road-ki...  \n",
       "4  /offers/suzuki-others-sport-gsx-r-1000-abs-com...  "
      ]
     },
     "execution_count": 1,
     "metadata": {},
     "output_type": "execute_result"
    }
   ],
   "source": [
    "import pandas as pd\n",
    "import matplotlib.pyplot as plt\n",
    "import numpy as np\n",
    "import seaborn as sns\n",
    "from sklearn.svm import SVC\n",
    "from sklearn.linear_model import LinearRegression\n",
    "from sklearn.model_selection import train_test_split\n",
    "from sklearn.cluster import KMeans\n",
    "from sklearn.metrics import classification_report, adjusted_rand_score, normalized_mutual_info_score, homogeneity_score, completeness_score, v_measure_score, mean_absolute_error, mean_squared_error, r2_score\n",
    "data  = pd.read_csv(\"motorbike.csv\", delimiter=',')\n",
    "from sklearn import svm\n",
    "data.head()"
   ]
  },
  {
   "cell_type": "markdown",
   "id": "259d0818-e01d-4faa-8234-fcb5251fd98a",
   "metadata": {},
   "source": [
    "Cleaning dataset"
   ]
  },
  {
   "cell_type": "code",
   "execution_count": 2,
   "id": "687fb85a-6512-41b6-ba20-0b32bdeb0c5d",
   "metadata": {},
   "outputs": [
    {
     "data": {
      "text/plain": [
       "price         0\n",
       "mileage       0\n",
       "power         0\n",
       "make_model    0\n",
       "date          0\n",
       "fuel          0\n",
       "gear          0\n",
       "offer_type    0\n",
       "version       0\n",
       "link          0\n",
       "dtype: int64"
      ]
     },
     "execution_count": 2,
     "metadata": {},
     "output_type": "execute_result"
    }
   ],
   "source": [
    "data.isnull().sum() #lihat data hilang"
   ]
  },
  {
   "cell_type": "code",
   "execution_count": 3,
   "id": "4b3972fa-bb92-4da9-9e68-c838e79e532f",
   "metadata": {},
   "outputs": [],
   "source": [
    "data = data.dropna() #menangani data hilang"
   ]
  },
  {
   "cell_type": "code",
   "execution_count": 4,
   "id": "5f30c03b-0e4f-429d-b364-b1553d636a8b",
   "metadata": {},
   "outputs": [],
   "source": [
    "data = data.dropna() #Menghapus Baris"
   ]
  },
  {
   "cell_type": "code",
   "execution_count": 5,
   "id": "c2721e6f-bc81-4b04-a6d9-3c88ad541fab",
   "metadata": {},
   "outputs": [],
   "source": [
    "data.duplicated().sum()  # Menampilkan jumlah baris duplikat\n",
    "data = data.drop_duplicates()  # Menghapus duplikat"
   ]
  },
  {
   "cell_type": "code",
   "execution_count": 6,
   "id": "2a923259-b03e-4372-bf7d-42b01d9e46a3",
   "metadata": {},
   "outputs": [],
   "source": [
    "data = data.reset_index(drop=True)  # Mengatur ulang indeks dan menghapus indeks lama"
   ]
  },
  {
   "cell_type": "code",
   "execution_count": 7,
   "id": "46041fbe-e1f7-4afd-98b4-dcbece2b2bdf",
   "metadata": {},
   "outputs": [],
   "source": [
    "data.to_csv('motorbike.csv', index=False)"
   ]
  },
  {
   "cell_type": "code",
   "execution_count": 8,
   "id": "1a1c9695-aa82-4b18-80b2-9d838afc90c0",
   "metadata": {},
   "outputs": [
    {
     "data": {
      "text/plain": [
       "price         0\n",
       "mileage       0\n",
       "power         0\n",
       "make_model    0\n",
       "date          0\n",
       "fuel          0\n",
       "gear          0\n",
       "offer_type    0\n",
       "version       0\n",
       "link          0\n",
       "dtype: int64"
      ]
     },
     "execution_count": 8,
     "metadata": {},
     "output_type": "execute_result"
    }
   ],
   "source": [
    "data.isnull().sum() #lihat data "
   ]
  },
  {
   "cell_type": "markdown",
   "id": "0bd7e185-d45d-4585-98df-8ebfb2a4d1cc",
   "metadata": {},
   "source": [
    "## Supervised Learning"
   ]
  },
  {
   "cell_type": "markdown",
   "id": "021000ba-21f0-46a4-a0b6-9c7e5421bb6d",
   "metadata": {},
   "source": [
    "### Support Vector Classifier (SVM)\n",
    "\n",
    "digunakan pada label kategorikal"
   ]
  },
  {
   "cell_type": "markdown",
   "id": "711c81be-aee5-4cc8-9242-e20aa5ff6375",
   "metadata": {},
   "source": [
    "Mengambil 2 fitur untuk Binary Classification"
   ]
  },
  {
   "cell_type": "code",
   "execution_count": 9,
   "id": "9dc129e5-8b8c-4d29-86e9-c3e1b815a769",
   "metadata": {},
   "outputs": [],
   "source": [
    "X = data[['mileage', 'power']]\n",
    "y = data['price']"
   ]
  },
  {
   "cell_type": "markdown",
   "id": "e2da2e85-7046-4e43-98ec-2e5d15851419",
   "metadata": {},
   "source": [
    "Membagi data (split) ke train set dan test set"
   ]
  },
  {
   "cell_type": "code",
   "execution_count": 10,
   "id": "7ad31272-4245-485b-a051-4f5ba9b4f55f",
   "metadata": {},
   "outputs": [],
   "source": [
    "X_train, X_test, y_train, y_test = train_test_split(X, y, test_size=0.3, random_state=42)"
   ]
  },
  {
   "cell_type": "markdown",
   "id": "96a234ac-c7cb-41bd-9a52-7ea5327f25f3",
   "metadata": {},
   "source": [
    "Membuat objek classifier SVM"
   ]
  },
  {
   "cell_type": "code",
   "execution_count": 11,
   "id": "06100132-bfb4-4875-a548-c6612ff4e8fc",
   "metadata": {},
   "outputs": [],
   "source": [
    "svm = SVC(kernel=\"rbf\")"
   ]
  },
  {
   "cell_type": "markdown",
   "id": "e2cba005-cfed-4f8b-99ef-5c34b63ef00f",
   "metadata": {},
   "source": [
    "Melatih classifier dengan data train"
   ]
  },
  {
   "cell_type": "code",
   "execution_count": 12,
   "id": "c0311d0e-2402-4e3c-935f-a4c2b9a7cdf3",
   "metadata": {},
   "outputs": [
    {
     "data": {
      "text/html": [
       "<style>#sk-container-id-1 {color: black;}#sk-container-id-1 pre{padding: 0;}#sk-container-id-1 div.sk-toggleable {background-color: white;}#sk-container-id-1 label.sk-toggleable__label {cursor: pointer;display: block;width: 100%;margin-bottom: 0;padding: 0.3em;box-sizing: border-box;text-align: center;}#sk-container-id-1 label.sk-toggleable__label-arrow:before {content: \"▸\";float: left;margin-right: 0.25em;color: #696969;}#sk-container-id-1 label.sk-toggleable__label-arrow:hover:before {color: black;}#sk-container-id-1 div.sk-estimator:hover label.sk-toggleable__label-arrow:before {color: black;}#sk-container-id-1 div.sk-toggleable__content {max-height: 0;max-width: 0;overflow: hidden;text-align: left;background-color: #f0f8ff;}#sk-container-id-1 div.sk-toggleable__content pre {margin: 0.2em;color: black;border-radius: 0.25em;background-color: #f0f8ff;}#sk-container-id-1 input.sk-toggleable__control:checked~div.sk-toggleable__content {max-height: 200px;max-width: 100%;overflow: auto;}#sk-container-id-1 input.sk-toggleable__control:checked~label.sk-toggleable__label-arrow:before {content: \"▾\";}#sk-container-id-1 div.sk-estimator input.sk-toggleable__control:checked~label.sk-toggleable__label {background-color: #d4ebff;}#sk-container-id-1 div.sk-label input.sk-toggleable__control:checked~label.sk-toggleable__label {background-color: #d4ebff;}#sk-container-id-1 input.sk-hidden--visually {border: 0;clip: rect(1px 1px 1px 1px);clip: rect(1px, 1px, 1px, 1px);height: 1px;margin: -1px;overflow: hidden;padding: 0;position: absolute;width: 1px;}#sk-container-id-1 div.sk-estimator {font-family: monospace;background-color: #f0f8ff;border: 1px dotted black;border-radius: 0.25em;box-sizing: border-box;margin-bottom: 0.5em;}#sk-container-id-1 div.sk-estimator:hover {background-color: #d4ebff;}#sk-container-id-1 div.sk-parallel-item::after {content: \"\";width: 100%;border-bottom: 1px solid gray;flex-grow: 1;}#sk-container-id-1 div.sk-label:hover label.sk-toggleable__label {background-color: #d4ebff;}#sk-container-id-1 div.sk-serial::before {content: \"\";position: absolute;border-left: 1px solid gray;box-sizing: border-box;top: 0;bottom: 0;left: 50%;z-index: 0;}#sk-container-id-1 div.sk-serial {display: flex;flex-direction: column;align-items: center;background-color: white;padding-right: 0.2em;padding-left: 0.2em;position: relative;}#sk-container-id-1 div.sk-item {position: relative;z-index: 1;}#sk-container-id-1 div.sk-parallel {display: flex;align-items: stretch;justify-content: center;background-color: white;position: relative;}#sk-container-id-1 div.sk-item::before, #sk-container-id-1 div.sk-parallel-item::before {content: \"\";position: absolute;border-left: 1px solid gray;box-sizing: border-box;top: 0;bottom: 0;left: 50%;z-index: -1;}#sk-container-id-1 div.sk-parallel-item {display: flex;flex-direction: column;z-index: 1;position: relative;background-color: white;}#sk-container-id-1 div.sk-parallel-item:first-child::after {align-self: flex-end;width: 50%;}#sk-container-id-1 div.sk-parallel-item:last-child::after {align-self: flex-start;width: 50%;}#sk-container-id-1 div.sk-parallel-item:only-child::after {width: 0;}#sk-container-id-1 div.sk-dashed-wrapped {border: 1px dashed gray;margin: 0 0.4em 0.5em 0.4em;box-sizing: border-box;padding-bottom: 0.4em;background-color: white;}#sk-container-id-1 div.sk-label label {font-family: monospace;font-weight: bold;display: inline-block;line-height: 1.2em;}#sk-container-id-1 div.sk-label-container {text-align: center;}#sk-container-id-1 div.sk-container {/* jupyter's `normalize.less` sets `[hidden] { display: none; }` but bootstrap.min.css set `[hidden] { display: none !important; }` so we also need the `!important` here to be able to override the default hidden behavior on the sphinx rendered scikit-learn.org. See: https://github.com/scikit-learn/scikit-learn/issues/21755 */display: inline-block !important;position: relative;}#sk-container-id-1 div.sk-text-repr-fallback {display: none;}</style><div id=\"sk-container-id-1\" class=\"sk-top-container\"><div class=\"sk-text-repr-fallback\"><pre>SVC()</pre><b>In a Jupyter environment, please rerun this cell to show the HTML representation or trust the notebook. <br />On GitHub, the HTML representation is unable to render, please try loading this page with nbviewer.org.</b></div><div class=\"sk-container\" hidden><div class=\"sk-item\"><div class=\"sk-estimator sk-toggleable\"><input class=\"sk-toggleable__control sk-hidden--visually\" id=\"sk-estimator-id-1\" type=\"checkbox\" checked><label for=\"sk-estimator-id-1\" class=\"sk-toggleable__label sk-toggleable__label-arrow\">SVC</label><div class=\"sk-toggleable__content\"><pre>SVC()</pre></div></div></div></div></div>"
      ],
      "text/plain": [
       "SVC()"
      ]
     },
     "execution_count": 12,
     "metadata": {},
     "output_type": "execute_result"
    }
   ],
   "source": [
    "svm.fit(X_train, y_train)"
   ]
  },
  {
   "cell_type": "markdown",
   "id": "76eeec45-6f40-4278-a1cc-71f34e66b39c",
   "metadata": {},
   "source": [
    "Melakukan prediksi data test dengan model"
   ]
  },
  {
   "cell_type": "code",
   "execution_count": 13,
   "id": "97695054-bbc0-49c8-b0f3-897826fefb19",
   "metadata": {},
   "outputs": [],
   "source": [
    "y_pred = svm.predict(X_test)"
   ]
  },
  {
   "cell_type": "markdown",
   "id": "458ce1a8-d7c3-4064-b8b8-fe3d68245114",
   "metadata": {},
   "source": [
    "Menyimpan nilai support vectors dan indeksnya"
   ]
  },
  {
   "cell_type": "code",
   "execution_count": 14,
   "id": "ba028966-cb89-4be2-942f-487917d7e443",
   "metadata": {},
   "outputs": [],
   "source": [
    "support_vectors = svm.support_vectors_\n",
    "support_vector_indices = np.where(np.isin(X_train, support_vectors).all(axis=1))"
   ]
  },
  {
   "cell_type": "markdown",
   "id": "864ccf05-7ec1-4c2c-9449-cb4e71b2d47a",
   "metadata": {},
   "source": [
    "Plotting menggunakan scatter dari Seaborn dan menampilkan titik titik support vector, lalu membuat garis decision boundary, grafik decision boundary dan garis margin serta menambahkan label dan legenda"
   ]
  },
  {
   "cell_type": "code",
   "execution_count": 15,
   "id": "9d119386-7aa4-440f-a31f-ec32b951d9fd",
   "metadata": {},
   "outputs": [
    {
     "data": {
      "image/png": "[encoded data removed]",
      "text/plain": [
       "<Figure size 640x480 with 1 Axes>"
      ]
     },
     "metadata": {},
     "output_type": "display_data"
    }
   ],
   "source": [
    "# Scatter plot\n",
    "plt.scatter(data['mileage'], data['power'], c=range(len(data)), cmap='viridis', edgecolors='k', marker='o', label='Data Points')\n",
    "plt.scatter(support_vectors[:, 0], support_vectors[:, 1], s=100, facecolors='none', edgecolors='r', label='Support Vectors')\n",
    "\n",
    "# Batasan keputusan (ganti X_line dan y_line dengan data)\n",
    "X_line = np.linspace(min(data['mileage']), max(data['mileage']), 100)\n",
    "y_line = np.linspace(min(data['power']), max(data['power']), 100)\n",
    "plt.plot(X_line, y_line, linestyle='--', color='blue', label='Decision Boundary')\n",
    "\n",
    "# Tetapkan label dan legenda untuk plot pencar\n",
    "plt.xlabel('Mileage')\n",
    "plt.ylabel('Power')\n",
    "plt.legend(loc='upper right')\n",
    "\n",
    "plt.show()\n"
   ]
  },
  {
   "cell_type": "markdown",
   "id": "8658db6d-3db5-427d-abfa-de4d383480d5",
   "metadata": {},
   "source": [
    "Melihat 4 nilai metriks dengan menggunakan library dari Scikit-Learn yaitu Classification Report."
   ]
  },
  {
   "cell_type": "code",
   "execution_count": 16,
   "id": "c42076e5-4de4-49df-bf24-92e2aac66b2c",
   "metadata": {},
   "outputs": [
    {
     "name": "stdout",
     "output_type": "stream",
     "text": [
      "              precision    recall  f1-score   support\n",
      "\n",
      "         250       0.00      0.00      0.00         2\n",
      "         390       0.00      0.00      0.00         1\n",
      "         399       0.00      0.00      0.00         1\n",
      "         420       0.00      0.00      0.00         1\n",
      "         450       0.00      0.00      0.00         1\n",
      "         549       0.00      0.00      0.00         1\n",
      "         600       0.00      0.00      0.00         1\n",
      "         700       0.00      0.00      0.00         1\n",
      "         749       0.00      0.00      0.00         1\n",
      "         750       0.00      0.00      0.00         1\n",
      "         795       0.00      0.00      0.00         1\n",
      "         800       0.00      0.00      0.00         1\n",
      "         890       0.00      0.00      0.00         1\n",
      "         899       0.00      0.00      0.00         1\n",
      "         900       0.00      0.00      0.00         1\n",
      "         940       0.00      0.00      0.00         1\n",
      "         950       0.00      0.00      0.00         5\n",
      "         999       0.00      0.00      0.00         1\n",
      "        1090       0.00      0.00      0.00         1\n",
      "        1100       0.00      0.00      0.00         1\n",
      "        1150       0.00      0.00      0.00         1\n",
      "        1199       0.00      0.00      0.00         2\n",
      "        1200       0.00      0.00      0.00         2\n",
      "        1290       0.00      0.00      0.00         1\n",
      "        1299       0.00      0.00      0.00         1\n",
      "        1300       0.00      0.00      0.00         1\n",
      "        1350       0.00      0.00      0.00         2\n",
      "        1390       0.00      0.00      0.00         1\n",
      "        1399       0.00      0.00      0.00         1\n",
      "        1400       0.00      0.00      0.00         2\n",
      "        1490       0.00      0.00      0.00         2\n",
      "        1499       0.00      0.00      0.00         1\n",
      "        1500       0.00      0.00      0.00         4\n",
      "        1590       0.00      0.00      0.00         3\n",
      "        1599       0.00      0.00      0.00         1\n",
      "        1600       0.00      0.00      0.00         1\n",
      "        1650       0.00      0.00      0.00         1\n",
      "        1675       0.00      0.00      0.00         1\n",
      "        1685       0.00      0.00      0.00         1\n",
      "        1690       0.00      0.00      0.00         3\n",
      "        1699       0.00      0.00      0.00         1\n",
      "        1700       0.00      0.00      0.00         3\n",
      "        1750       0.00      0.00      0.00         2\n",
      "        1785       0.00      0.00      0.00         1\n",
      "        1790       0.00      0.00      0.00         2\n",
      "        1800       0.00      0.00      0.00         2\n",
      "        1840       0.00      0.00      0.00         1\n",
      "        1850       0.00      0.00      0.00         2\n",
      "        1890       0.00      0.00      0.00         4\n",
      "        1895       0.00      0.00      0.00         2\n",
      "        1899       0.00      0.00      0.00         2\n",
      "        1900       0.00      0.00      0.00         4\n",
      "        1950       0.00      0.00      0.00         3\n",
      "        1980       0.00      0.00      0.00         1\n",
      "        1990       0.00      0.00      0.00         4\n",
      "        1995       0.00      0.00      0.00         1\n",
      "        1999       0.00      0.00      0.00         5\n",
      "        2000       0.00      0.00      0.00         3\n",
      "        2100       0.00      0.00      0.00         3\n",
      "        2190       0.00      0.00      0.00         6\n",
      "        2199       0.00      0.00      0.00         1\n",
      "        2200       0.00      0.00      0.00         2\n",
      "        2250       0.00      0.00      0.00         1\n",
      "        2289       0.00      0.00      0.00         1\n",
      "        2300       0.00      0.00      0.00         2\n",
      "        2350       0.00      0.00      0.00         1\n",
      "        2390       0.00      0.00      0.00         3\n",
      "        2395       0.00      0.00      0.00         1\n",
      "        2400       0.00      0.00      0.00         1\n",
      "        2450       0.00      0.00      0.00         2\n",
      "        2490       0.00      0.00      0.00         8\n",
      "        2499       0.00      0.00      0.00         2\n",
      "        2500       0.00      0.00      0.00         2\n",
      "        2589       0.00      0.00      0.00         1\n",
      "        2590       0.00      0.00      0.00         1\n",
      "        2600       0.00      0.00      0.00         5\n",
      "        2650       0.00      0.00      0.00         2\n",
      "        2690       0.00      0.00      0.00         6\n",
      "        2699       0.00      0.00      0.00         4\n",
      "        2700       0.00      0.00      0.00         2\n",
      "        2750       0.00      0.00      0.00         3\n",
      "        2790       0.00      0.00      0.00         3\n",
      "        2798       0.00      0.00      0.00         1\n",
      "        2800       0.00      0.00      0.00         3\n",
      "        2850       0.00      0.00      0.00         1\n",
      "        2880       0.00      0.00      0.00         1\n",
      "        2920       0.00      0.00      0.00         1\n",
      "        2950       0.00      0.00      0.00         4\n",
      "        2980       0.00      0.00      0.00         1\n",
      "        2985       0.00      0.00      0.00         1\n",
      "        2990       0.00      0.00      0.00         4\n",
      "        2995       0.00      0.00      0.00         1\n",
      "        2999       0.00      0.00      0.00         4\n",
      "        3099       0.00      0.00      0.00         1\n",
      "        3119       0.00      0.00      0.00         1\n",
      "        3350       0.00      0.00      0.00         1\n",
      "        3370       0.00      0.00      0.00         1\n",
      "        3419       0.00      0.00      0.00         1\n",
      "        3490       0.00      0.00      0.00         2\n",
      "        3499       0.00      0.00      0.00         1\n",
      "        3500       0.00      0.00      0.00         4\n",
      "        3600       0.00      0.00      0.00         1\n",
      "        3699       0.00      0.00      0.00         1\n",
      "        3750       0.00      0.00      0.00         1\n",
      "        3790       0.00      0.00      0.00         1\n",
      "        3798       0.00      0.00      0.00         1\n",
      "        3800       0.00      0.00      0.00         1\n",
      "        3850       0.00      0.00      0.00         1\n",
      "        3890       0.00      0.00      0.00         2\n",
      "        3900       0.00      0.00      0.00         1\n",
      "        3990       0.00      0.00      0.00         2\n",
      "        3999       0.00      0.00      0.00         1\n",
      "        4000       0.00      0.00      0.00         2\n",
      "        4099       0.00      0.00      0.00         1\n",
      "        4100       0.00      0.00      0.00         1\n",
      "        4150       0.00      0.00      0.00         1\n",
      "        4199       0.00      0.00      0.00         1\n",
      "        4200       0.00      0.00      0.00         1\n",
      "        4290       0.00      0.00      0.00         1\n",
      "        4350       0.00      0.00      0.00         1\n",
      "        4400       0.00      0.00      0.00         1\n",
      "        4500       0.00      0.00      0.00         1\n",
      "        4650       0.00      0.00      0.00         2\n",
      "        4700       0.00      0.00      0.00         3\n",
      "        4745       0.00      0.00      0.00         1\n",
      "        4750       0.00      0.00      0.00         1\n",
      "        4795       0.00      0.00      0.00         1\n",
      "        4980       0.00      0.00      0.00         1\n",
      "        4989       0.00      0.00      0.00         1\n",
      "        4990       0.00      0.00      0.00         2\n",
      "        4999       0.00      0.00      0.00         1\n",
      "        5390       0.00      0.00      0.00         1\n",
      "        5490       0.00      0.00      0.00         1\n",
      "        5500       0.00      0.00      0.00         1\n",
      "        5799       0.00      0.00      0.00         2\n",
      "        5900       0.00      0.00      0.00         1\n",
      "        5990       0.00      0.00      0.00         1\n",
      "        5995       0.00      0.00      0.00         2\n",
      "        5999       0.00      0.00      0.00         2\n",
      "        6000       0.00      0.00      0.00        12\n",
      "        6090       0.00      0.00      0.00         1\n",
      "        6099       0.00      0.00      0.00         1\n",
      "        6100       0.00      0.00      0.00         4\n",
      "        6110       0.00      0.00      0.00         1\n",
      "        6129       0.00      0.00      0.00         1\n",
      "        6150       0.00      0.00      0.00         3\n",
      "        6195       0.00      0.00      0.00         1\n",
      "        6200       0.00      0.00      0.00         7\n",
      "        6250       0.00      0.00      0.00         5\n",
      "        6289       0.00      0.00      0.00         1\n",
      "        6290       0.00      0.00      0.00         3\n",
      "        6295       0.00      0.00      0.00         1\n",
      "        6300       0.00      0.00      0.00         4\n",
      "        6350       0.00      0.00      0.00         1\n",
      "        6380       0.00      0.00      0.00         1\n",
      "        6390       0.00      0.00      0.00         5\n",
      "        6395       0.00      0.00      0.00         1\n",
      "        6400       0.00      0.00      0.00         4\n",
      "        6420       0.00      0.00      0.00         2\n",
      "        6444       0.00      0.00      0.00         1\n",
      "        6450       0.00      0.00      0.00         6\n",
      "        6470       0.00      0.00      0.00         1\n",
      "        6480       0.00      0.00      0.00         1\n",
      "        6489       0.00      0.00      0.00         1\n",
      "        6490       0.00      0.00      0.00        12\n",
      "        6495       0.00      0.00      0.00         1\n",
      "        6499       0.00      0.00      0.00         5\n",
      "        6500       0.00      0.00      0.00        11\n",
      "        6520       0.00      0.00      0.00         1\n",
      "        6580       0.00      0.00      0.00         1\n",
      "        6590       0.00      0.00      0.00         3\n",
      "        6600       0.00      0.00      0.00         2\n",
      "        6690       0.00      0.00      0.00         2\n",
      "        6700       0.00      0.00      0.00         3\n",
      "        6750       0.00      0.00      0.00         4\n",
      "        6789       0.00      0.00      0.00         1\n",
      "        6790       0.00      0.00      0.00         4\n",
      "        6799       0.00      0.00      0.00         2\n",
      "        6800       0.00      0.00      0.00         3\n",
      "        6850       0.00      0.00      0.00         1\n",
      "        6874       0.00      0.00      0.00         1\n",
      "        6890       0.00      0.00      0.00         6\n",
      "        6899       0.00      0.00      0.00         1\n",
      "        6900       0.00      0.00      0.00        11\n",
      "        6950       0.00      0.00      0.00         6\n",
      "        6960       0.00      0.00      0.00         1\n",
      "        6980       0.00      0.00      0.00         1\n",
      "        6989       0.00      0.00      0.00         2\n",
      "        6990       0.00      0.00      0.00         9\n",
      "        6999       0.00      0.00      0.00        12\n",
      "        7000       0.00      0.00      0.00         5\n",
      "        7001       0.00      0.00      0.00         1\n",
      "        7099       0.00      0.00      0.00         1\n",
      "        7100       0.00      0.00      0.00         2\n",
      "        7190       0.00      0.00      0.00         2\n",
      "        7200       0.00      0.00      0.00         4\n",
      "        7250       0.00      0.00      0.00         6\n",
      "        7260       0.00      0.00      0.00         1\n",
      "        7289       0.00      0.00      0.00         4\n",
      "        7290       0.00      0.00      0.00         4\n",
      "        7299       0.00      0.00      0.00         3\n",
      "        7300       0.00      0.00      0.00         3\n",
      "        7339       0.00      0.00      0.00         1\n",
      "        7350       0.00      0.00      0.00         1\n",
      "        7380       0.00      0.00      0.00         1\n",
      "        7390       0.00      0.00      0.00         1\n",
      "        7400       0.00      0.00      0.00         2\n",
      "        7450       0.00      0.00      0.00         4\n",
      "        7480       0.00      0.00      0.00         1\n",
      "        7489       0.00      0.00      0.00         3\n",
      "        7490       0.00      0.00      0.00         5\n",
      "        7495       0.00      0.00      0.00         1\n",
      "        7499       0.00      0.00      0.00         7\n",
      "        7500       0.00      0.00      0.00         9\n",
      "        7550       0.00      0.00      0.00         1\n",
      "        7589       0.00      0.00      0.00         1\n",
      "        7590       0.00      0.00      0.00         3\n",
      "        7600       0.00      0.00      0.00         4\n",
      "        7645       0.00      0.00      0.00         1\n",
      "        7680       0.00      0.00      0.00         1\n",
      "        7685       0.00      0.00      0.00         1\n",
      "        7689       0.00      0.00      0.00         2\n",
      "        7690       0.00      0.00      0.00         2\n",
      "        7698       0.00      0.00      0.00         2\n",
      "        7750       0.00      0.00      0.00         4\n",
      "        7790       0.00      0.00      0.00         2\n",
      "        7799       0.00      0.00      0.00         2\n",
      "        7800       0.00      0.00      0.00         2\n",
      "        7879       0.00      0.00      0.00         1\n",
      "        7890       0.00      0.00      0.00         5\n",
      "        7897       0.00      0.00      0.00         1\n",
      "        7899       0.00      0.00      0.00         1\n",
      "        7900       0.00      0.00      0.00         8\n",
      "        7915       0.00      0.00      0.00         1\n",
      "        7950       0.00      0.00      0.00         4\n",
      "        7980       0.00      0.00      0.00         1\n",
      "        7989       0.00      0.00      0.00         5\n",
      "        7990       0.00      0.00      0.00        12\n",
      "        7995       0.00      0.00      0.00         1\n",
      "        7999       0.00      0.00      0.00         8\n",
      "        8000       0.00      0.00      0.00         5\n",
      "        8050       0.00      0.00      0.00         1\n",
      "        8100       0.00      0.00      0.00         3\n",
      "        8120       0.00      0.00      0.00         1\n",
      "        8150       0.00      0.00      0.00         2\n",
      "        8200       0.00      0.00      0.00         2\n",
      "        8206       0.00      0.00      0.00         1\n",
      "        8250       0.00      0.00      0.00         3\n",
      "        8280       0.00      0.00      0.00         1\n",
      "        8290       0.00      0.00      0.00         3\n",
      "        8300       0.00      0.00      0.00         2\n",
      "        8349       0.00      0.00      0.00         1\n",
      "        8350       0.00      0.00      0.00         1\n",
      "        8380       0.00      0.00      0.00         1\n",
      "        8389       0.00      0.00      0.00         1\n",
      "        8390       0.00      0.00      0.00         3\n",
      "        8400       0.00      0.00      0.00         2\n",
      "        8450       0.00      0.00      0.00         9\n",
      "        8489       0.00      0.00      0.00         2\n",
      "        8490       0.00      0.00      0.00         9\n",
      "        8499       0.00      0.00      0.00         3\n",
      "        8500       0.00      0.00      0.00        14\n",
      "        8550       0.00      0.00      0.00         1\n",
      "        8580       0.00      0.00      0.00         2\n",
      "        8590       0.00      0.00      0.00         2\n",
      "        8600       0.00      0.00      0.00         4\n",
      "        8650       0.00      0.00      0.00         1\n",
      "        8690       0.00      0.00      0.00         2\n",
      "        8700       0.00      0.00      0.00         1\n",
      "        8750       0.00      0.00      0.00         5\n",
      "        8799       0.00      0.00      0.00         2\n",
      "        8800       0.00      0.00      0.00         6\n",
      "        8890       0.00      0.00      0.00         2\n",
      "        8900       0.00      0.00      0.00         8\n",
      "        8940       0.00      0.00      0.00         1\n",
      "        8950       0.00      0.00      0.00         2\n",
      "        8979       0.00      0.00      0.00         1\n",
      "        8985       0.00      0.00      0.00         1\n",
      "        8989       0.00      0.00      0.00         5\n",
      "        8990       0.00      0.07      0.01        15\n",
      "        8999       0.00      0.00      0.00         8\n",
      "        9000       0.00      0.00      0.00         4\n",
      "        9090       0.00      0.00      0.00         1\n",
      "        9095       0.00      0.00      0.00         1\n",
      "        9100       0.00      0.00      0.00         1\n",
      "        9127       0.00      0.00      0.00         1\n",
      "        9150       0.00      0.00      0.00         1\n",
      "        9190       0.00      0.00      0.00         1\n",
      "        9199       0.00      0.00      0.00         1\n",
      "        9200       0.00      0.00      0.00         6\n",
      "        9250       0.00      0.00      0.00         4\n",
      "        9289       0.00      0.00      0.00         2\n",
      "        9290       0.00      0.00      0.00         4\n",
      "        9300       0.00      0.00      0.00         4\n",
      "        9320       0.00      0.00      0.00         1\n",
      "        9350       0.00      0.00      0.00         1\n",
      "        9390       0.00      0.00      0.00         1\n",
      "        9399       0.00      0.00      0.00         1\n",
      "        9400       0.00      0.00      0.00         7\n",
      "        9450       0.00      0.00      0.00         1\n",
      "        9480       0.00      0.00      0.00         1\n",
      "        9489       0.00      0.00      0.00         4\n",
      "        9490       0.00      0.00      0.00         3\n",
      "        9495       0.00      0.00      0.00         1\n",
      "        9499       0.00      0.00      0.00         2\n",
      "        9500       0.00      0.00      0.00        24\n",
      "        9530       0.00      0.00      0.00         1\n",
      "        9570       0.00      0.00      0.00         1\n",
      "        9589       0.00      0.00      0.00         1\n",
      "        9590       0.00      0.00      0.00         3\n",
      "        9595       0.00      0.00      0.00         1\n",
      "        9600       0.00      0.00      0.00         2\n",
      "        9640       0.00      0.00      0.00         1\n",
      "        9650       0.00      0.00      0.00         2\n",
      "        9680       0.00      0.00      0.00         1\n",
      "        9689       0.00      0.00      0.00         1\n",
      "        9690       0.00      0.00      0.00         4\n",
      "        9700       0.00      0.00      0.00         2\n",
      "        9750       0.00      0.00      0.00         4\n",
      "        9790       0.00      0.00      0.00         1\n",
      "        9795       0.00      0.00      0.00         1\n",
      "        9800       0.00      0.00      0.00         2\n",
      "        9890       0.00      0.00      0.00         4\n",
      "        9900       0.00      0.00      0.00         7\n",
      "        9950       0.00      0.00      0.00         4\n",
      "        9980       0.00      0.00      0.00         2\n",
      "        9989       0.00      0.00      0.00         8\n",
      "        9990       0.00      0.00      0.00        20\n",
      "        9999       0.00      0.00      0.00        10\n",
      "       10000       0.00      0.00      0.00         8\n",
      "       10146       0.00      0.00      0.00         1\n",
      "       10200       0.00      0.00      0.00         3\n",
      "       10246       0.00      0.00      0.00         1\n",
      "       10250       0.00      0.00      0.00         4\n",
      "       10290       0.00      0.00      0.00         4\n",
      "       10300       0.00      0.00      0.00         2\n",
      "       10390       0.00      0.00      0.00         3\n",
      "       10450       0.00      0.00      0.00         4\n",
      "       10480       0.00      0.00      0.00         1\n",
      "       10489       0.00      0.00      0.00         2\n",
      "       10490       0.00      0.00      0.00         2\n",
      "       10499       0.00      0.00      0.00         2\n",
      "       10500       0.00      0.00      0.00        14\n",
      "       10556       0.00      0.00      0.00         1\n",
      "       10689       0.00      0.00      0.00         1\n",
      "       10690       0.00      0.00      0.00         3\n",
      "       10700       0.00      0.00      0.00         3\n",
      "       10750       0.00      0.00      0.00         3\n",
      "       10780       0.00      0.00      0.00         1\n",
      "       10789       0.00      0.00      0.00         1\n",
      "       10790       0.00      0.00      0.00         1\n",
      "       10798       0.00      0.00      0.00         2\n",
      "       10800       0.00      0.00      0.00         3\n",
      "       10850       0.00      0.00      0.00         2\n",
      "       10890       0.00      0.00      0.00         1\n",
      "       10900       0.00      0.00      0.00        10\n",
      "       10950       0.00      0.00      0.00         4\n",
      "       10970       0.00      0.00      0.00         2\n",
      "       10985       0.00      0.00      0.00         1\n",
      "       10989       0.00      0.00      0.00         5\n",
      "       10990       0.00      0.00      0.00        11\n",
      "       10995       0.00      0.00      0.00         1\n",
      "       10999       0.00      0.00      0.00         4\n",
      "       11000       0.00      0.00      0.00         3\n",
      "       11190       0.00      0.00      0.00         2\n",
      "       11200       0.00      0.00      0.00         2\n",
      "       11250       0.00      0.00      0.00         2\n",
      "       11290       0.00      0.00      0.00         1\n",
      "       11295       0.00      0.00      0.00         1\n",
      "       11300       0.00      0.00      0.00         1\n",
      "       11400       0.00      0.00      0.00         1\n",
      "       11440       0.00      0.00      0.00         1\n",
      "       11445       0.00      0.00      0.00         1\n",
      "       11450       0.00      0.00      0.00         2\n",
      "       11490       0.00      0.00      0.00         5\n",
      "       11495       0.00      0.00      0.00         2\n",
      "       11499       0.00      0.00      0.00         1\n",
      "       11500       0.00      0.00      0.00         8\n",
      "       11590       0.00      0.00      0.00         1\n",
      "       11630       0.00      0.00      0.00         1\n",
      "       11645       0.00      0.00      0.00         2\n",
      "       11650       0.00      0.00      0.00         1\n",
      "       11689       0.00      0.00      0.00         2\n",
      "       11690       0.00      0.00      0.00         3\n",
      "       11700       0.00      0.00      0.00         1\n",
      "       11750       0.00      0.00      0.00         3\n",
      "       11790       0.00      0.00      0.00         2\n",
      "       11800       0.00      0.00      0.00         2\n",
      "       11850       0.00      0.00      0.00         1\n",
      "       11889       0.00      0.00      0.00         1\n",
      "       11890       0.00      0.00      0.00         2\n",
      "       11900       0.00      0.00      0.00        10\n",
      "       11950       0.00      0.00      0.00         2\n",
      "       11980       0.00      0.00      0.00         2\n",
      "       11985       0.00      0.00      0.00         1\n",
      "       11989       0.00      0.00      0.00         3\n",
      "       11990       0.00      0.00      0.00        11\n",
      "       11999       0.00      0.00      0.00         7\n",
      "       12000       0.00      0.00      0.00         5\n",
      "       12074       0.00      0.00      0.00         1\n",
      "       12100       0.00      0.00      0.00         1\n",
      "       12199       0.00      0.00      0.00         1\n",
      "       12200       0.00      0.00      0.00         1\n",
      "       12245       0.00      0.00      0.00         1\n",
      "       12250       0.00      0.00      0.00         1\n",
      "       12290       0.00      0.00      0.00         2\n",
      "       12300       0.00      0.00      0.00         1\n",
      "       12390       0.00      0.00      0.00         2\n",
      "       12450       0.00      0.00      0.00         1\n",
      "       12489       0.00      0.00      0.00         7\n",
      "       12490       0.00      0.00      0.00         4\n",
      "       12495       0.00      0.00      0.00         1\n",
      "       12499       0.00      0.00      0.00         2\n",
      "       12500       0.00      0.00      0.00        16\n",
      "       12590       0.00      0.00      0.00         1\n",
      "       12600       0.00      0.00      0.00         2\n",
      "       12689       0.00      0.00      0.00         1\n",
      "       12690       0.00      0.00      0.00         1\n",
      "       12700       0.00      0.00      0.00         1\n",
      "       12750       0.00      0.00      0.00         4\n",
      "       12790       0.00      0.00      0.00         1\n",
      "       12890       0.00      0.00      0.00         2\n",
      "       12900       0.00      0.00      0.00         6\n",
      "       12950       0.00      0.00      0.00         5\n",
      "       12960       0.00      0.00      0.00         1\n",
      "       12975       0.00      0.00      0.00         1\n",
      "       12980       0.00      0.00      0.00         1\n",
      "       12989       0.00      0.00      0.00         5\n",
      "       12990       0.01      1.00      0.02        13\n",
      "       12995       0.00      0.00      0.00         1\n",
      "       12999       0.00      0.00      0.00         6\n",
      "       13000       0.00      0.00      0.00         5\n",
      "       13095       0.00      0.00      0.00         1\n",
      "       13100       0.00      0.00      0.00         1\n",
      "       13151       0.00      0.00      0.00         1\n",
      "       13200       0.00      0.00      0.00         1\n",
      "       13220       0.00      0.00      0.00         1\n",
      "       13250       0.00      0.00      0.00         2\n",
      "       13290       0.00      0.00      0.00         2\n",
      "       13300       0.00      0.00      0.00         2\n",
      "       13380       0.00      0.00      0.00         1\n",
      "       13395       0.00      0.00      0.00         1\n",
      "       13400       0.00      0.00      0.00         1\n",
      "       13450       0.00      0.00      0.00         3\n",
      "       13470       0.00      0.00      0.00         1\n",
      "       13489       0.00      0.00      0.00         2\n",
      "       13490       0.00      0.00      0.00        10\n",
      "       13500       0.00      0.00      0.00         8\n",
      "       13550       0.00      0.00      0.00         1\n",
      "       13590       0.00      0.00      0.00         2\n",
      "       13599       0.00      0.00      0.00         1\n",
      "       13600       0.00      0.00      0.00         1\n",
      "       13680       0.00      0.00      0.00         1\n",
      "       13689       0.00      0.00      0.00         3\n",
      "       13750       0.00      0.00      0.00         4\n",
      "       13790       0.00      0.00      0.00         1\n",
      "       13800       0.00      0.00      0.00         1\n",
      "       13895       0.00      0.00      0.00         1\n",
      "       13900       0.00      0.00      0.00         7\n",
      "       13950       0.00      0.00      0.00         4\n",
      "       13980       0.00      0.00      0.00         1\n",
      "       13989       0.00      0.00      0.00         2\n",
      "       13990       0.00      0.00      0.00         7\n",
      "       13999       0.00      0.00      0.00         3\n",
      "       14000       0.00      0.00      0.00         4\n",
      "       14150       0.00      0.00      0.00         1\n",
      "       14289       0.00      0.00      0.00         2\n",
      "       14295       0.00      0.00      0.00         1\n",
      "       14300       0.00      0.00      0.00         1\n",
      "       14350       0.00      0.00      0.00         1\n",
      "       14380       0.00      0.00      0.00         1\n",
      "       14389       0.00      0.00      0.00         1\n",
      "       14390       0.00      0.00      0.00         1\n",
      "       14400       0.00      0.00      0.00         2\n",
      "       14480       0.00      0.00      0.00         1\n",
      "       14489       0.00      0.00      0.00         2\n",
      "       14490       0.00      0.00      0.00         7\n",
      "       14495       0.00      0.00      0.00         1\n",
      "       14499       0.00      0.00      0.00         1\n",
      "       14500       0.00      0.00      0.00         7\n",
      "       14575       0.00      0.00      0.00         1\n",
      "       14600       0.00      0.00      0.00         1\n",
      "       14690       0.00      0.00      0.00         1\n",
      "       14700       0.00      0.00      0.00         1\n",
      "       14750       0.00      0.00      0.00         2\n",
      "       14790       0.00      0.00      0.00         1\n",
      "       14800       0.00      0.00      0.00         2\n",
      "       14889       0.00      0.00      0.00         1\n",
      "       14900       0.00      0.00      0.00         7\n",
      "       14930       0.00      0.00      0.00         1\n",
      "       14950       0.00      0.00      0.00         4\n",
      "       14980       0.00      0.00      0.00         1\n",
      "       14989       0.00      0.00      0.00         2\n",
      "       14990       0.00      0.00      0.00        12\n",
      "       14995       0.00      0.00      0.00         1\n",
      "       14999       0.00      0.00      0.00         4\n",
      "       15000       0.00      0.00      0.00         6\n",
      "       15100       0.00      0.00      0.00         2\n",
      "       15199       0.00      0.00      0.00         1\n",
      "       15200       0.00      0.00      0.00         1\n",
      "       15250       0.00      0.00      0.00         3\n",
      "       15289       0.00      0.00      0.00         1\n",
      "       15290       0.00      0.00      0.00         2\n",
      "       15300       0.00      0.00      0.00         1\n",
      "       15350       0.00      0.00      0.00         1\n",
      "       15390       0.00      0.00      0.00         2\n",
      "       15450       0.00      0.00      0.00         1\n",
      "       15489       0.00      0.00      0.00         2\n",
      "       15490       0.00      0.00      0.00         2\n",
      "       15499       0.00      0.00      0.00         1\n",
      "       15500       0.00      0.00      0.00         4\n",
      "       15550       0.00      0.00      0.00         1\n",
      "       15555       0.00      0.00      0.00         1\n",
      "       15585       0.00      0.00      0.00         1\n",
      "       15595       0.00      0.00      0.00         1\n",
      "       15650       0.00      0.00      0.00         1\n",
      "       15689       0.00      0.00      0.00         1\n",
      "       15695       0.00      0.00      0.00         1\n",
      "       15750       0.00      0.00      0.00         2\n",
      "       15780       0.00      0.00      0.00         1\n",
      "       15789       0.00      0.00      0.00         1\n",
      "       15790       0.00      0.00      0.00         2\n",
      "       15800       0.00      0.00      0.00         3\n",
      "       15830       0.00      0.00      0.00         1\n",
      "       15850       0.00      0.00      0.00         1\n",
      "       15900       0.00      0.00      0.00         4\n",
      "       15940       0.00      0.00      0.00         1\n",
      "       15950       0.00      0.00      0.00         4\n",
      "       15989       0.00      0.00      0.00         3\n",
      "       15990       0.00      0.00      0.00         3\n",
      "       15999       0.00      0.00      0.00         2\n",
      "       16000       0.00      0.00      0.00         3\n",
      "       16289       0.00      0.00      0.00         2\n",
      "       16290       0.00      0.00      0.00         2\n",
      "       16389       0.00      0.00      0.00         1\n",
      "       16390       0.00      0.00      0.00         2\n",
      "       16395       0.00      0.00      0.00         1\n",
      "       16400       0.00      0.00      0.00         2\n",
      "       16450       0.00      0.00      0.00         1\n",
      "       16490       0.00      0.00      0.00         1\n",
      "       16500       0.00      0.00      0.00         7\n",
      "       16600       0.00      0.00      0.00         2\n",
      "       16670       0.00      0.00      0.00         1\n",
      "       16789       0.00      0.00      0.00         1\n",
      "       16790       0.00      0.00      0.00         4\n",
      "       16800       0.00      0.00      0.00         2\n",
      "       16880       0.00      0.00      0.00         1\n",
      "       16900       0.00      0.00      0.00         4\n",
      "       16950       0.00      0.00      0.00         3\n",
      "       16980       0.00      0.00      0.00         1\n",
      "       16989       0.00      0.00      0.00         3\n",
      "       16990       0.00      0.00      0.00         7\n",
      "       16995       0.00      0.00      0.00         1\n",
      "       16999       0.00      0.00      0.00         1\n",
      "       17000       0.00      0.00      0.00         2\n",
      "       17098       0.00      0.00      0.00         1\n",
      "       17149       0.00      0.00      0.00         1\n",
      "       17190       0.00      0.00      0.00         1\n",
      "       17200       0.00      0.00      0.00         1\n",
      "       17250       0.00      0.00      0.00         2\n",
      "       17290       0.00      0.00      0.00         1\n",
      "       17400       0.00      0.00      0.00         1\n",
      "       17429       0.00      0.00      0.00         1\n",
      "       17450       0.00      0.00      0.00         3\n",
      "       17475       0.00      0.00      0.00         1\n",
      "       17489       0.00      0.00      0.00         3\n",
      "       17495       0.00      0.00      0.00         1\n",
      "       17500       0.00      0.00      0.00         8\n",
      "       17590       0.00      0.00      0.00         2\n",
      "       17600       0.00      0.00      0.00         1\n",
      "       17690       0.00      0.00      0.00         1\n",
      "       17700       0.00      0.00      0.00         1\n",
      "       17777       0.00      0.00      0.00         1\n",
      "       17800       0.00      0.00      0.00         1\n",
      "       17895       0.00      0.00      0.00         1\n",
      "       17899       0.00      0.00      0.00         1\n",
      "       17900       0.00      0.00      0.00         7\n",
      "       17950       0.00      0.00      0.00         3\n",
      "       17989       0.00      0.00      0.00         2\n",
      "       17990       0.00      0.00      0.00         6\n",
      "       17995       0.00      0.00      0.00         2\n",
      "       17999       0.00      0.00      0.00         4\n",
      "       18000       0.00      0.00      0.00         3\n",
      "       18060       0.00      0.00      0.00         1\n",
      "       18100       0.00      0.00      0.00         1\n",
      "       18190       0.00      0.00      0.00         1\n",
      "       18280       0.00      0.00      0.00         1\n",
      "       18290       0.00      0.00      0.00         1\n",
      "       18390       0.00      0.00      0.00         1\n",
      "       18398       0.00      0.00      0.00         1\n",
      "       18400       0.00      0.00      0.00         1\n",
      "       18450       0.00      0.00      0.00         1\n",
      "       18489       0.00      0.00      0.00         1\n",
      "       18490       0.00      0.00      0.00         2\n",
      "       18500       0.00      0.00      0.00         6\n",
      "       18689       0.00      0.00      0.00         2\n",
      "       18850       0.00      0.00      0.00         1\n",
      "       18880       0.00      0.00      0.00         1\n",
      "       18900       0.00      0.00      0.00         3\n",
      "       18949       0.00      0.00      0.00         1\n",
      "       18950       0.00      0.00      0.00         7\n",
      "       18964       0.00      0.00      0.00         1\n",
      "       18990       0.00      0.00      0.00         5\n",
      "       18999       0.00      0.00      0.00         2\n",
      "       19266       0.00      0.00      0.00         1\n",
      "       19290       0.00      0.00      0.00         3\n",
      "       19337       0.00      0.00      0.00         1\n",
      "       19390       0.00      0.00      0.00         1\n",
      "       19480       0.00      0.00      0.00         2\n",
      "       19490       0.00      0.00      0.00         4\n",
      "       19500       0.00      0.00      0.00         4\n",
      "       19600       0.00      0.00      0.00         1\n",
      "       19689       0.00      0.00      0.00         1\n",
      "       19690       0.00      0.00      0.00         2\n",
      "       19750       0.00      0.00      0.00         2\n",
      "       19790       0.00      0.00      0.00         1\n",
      "       19800       0.00      0.00      0.00         2\n",
      "       19900       0.00      0.00      0.00         9\n",
      "       19950       0.00      0.00      0.00         4\n",
      "       19989       0.00      0.00      0.00         3\n",
      "       19990       0.00      0.00      0.00         9\n",
      "       19999       0.00      0.00      0.00         3\n",
      "       20300       0.00      0.00      0.00         1\n",
      "       20475       0.00      0.00      0.00         1\n",
      "       20490       0.00      0.00      0.00         3\n",
      "       20500       0.00      0.00      0.00         2\n",
      "       20590       0.00      0.00      0.00         1\n",
      "       20750       0.00      0.00      0.00         1\n",
      "       20777       0.00      0.00      0.00         1\n",
      "       20790       0.00      0.00      0.00         1\n",
      "       20800       0.00      0.00      0.00         1\n",
      "       20880       0.00      0.00      0.00         1\n",
      "       20900       0.00      0.00      0.00         4\n",
      "       20950       0.00      0.00      0.00         2\n",
      "       20989       0.00      0.00      0.00         2\n",
      "       20990       0.00      0.00      0.00         4\n",
      "       21000       0.00      0.00      0.00         1\n",
      "       21105       0.00      0.00      0.00         1\n",
      "       21190       0.00      0.00      0.00         1\n",
      "       21200       0.00      0.00      0.00         1\n",
      "       21250       0.00      0.00      0.00         1\n",
      "       21300       0.00      0.00      0.00         1\n",
      "       21350       0.00      0.00      0.00         1\n",
      "       21440       0.00      0.00      0.00         1\n",
      "       21490       0.00      0.00      0.00         1\n",
      "       21500       0.00      0.00      0.00         4\n",
      "       21686       0.00      0.00      0.00         1\n",
      "       21700       0.00      0.00      0.00         1\n",
      "       21790       0.00      0.00      0.00         2\n",
      "       21800       0.00      0.00      0.00         3\n",
      "       21850       0.00      0.00      0.00         1\n",
      "       21900       0.00      0.00      0.00         4\n",
      "       21950       0.00      0.00      0.00         2\n",
      "       21989       0.00      0.00      0.00         2\n",
      "       21990       0.00      0.00      0.00         4\n",
      "       21995       0.00      0.00      0.00         1\n",
      "       22000       0.00      0.00      0.00         3\n",
      "       22260       0.00      0.00      0.00         1\n",
      "       22290       0.00      0.00      0.00         1\n",
      "       22390       0.00      0.00      0.00         1\n",
      "       22444       0.00      0.00      0.00         1\n",
      "       22446       0.00      0.00      0.00         1\n",
      "       22490       0.00      0.00      0.00         3\n",
      "       22500       0.00      0.00      0.00         2\n",
      "       22522       0.00      0.00      0.00         1\n",
      "       22585       0.00      0.00      0.00         1\n",
      "       22615       0.00      0.00      0.00         1\n",
      "       22750       0.00      0.00      0.00         1\n",
      "       22890       0.00      0.00      0.00         1\n",
      "       22895       0.00      0.00      0.00         1\n",
      "       22900       0.00      0.00      0.00         1\n",
      "       22950       0.00      0.00      0.00         1\n",
      "       22980       0.00      0.00      0.00         1\n",
      "       22990       0.00      0.00      0.00         4\n",
      "       22999       0.00      0.00      0.00         1\n",
      "       23000       0.00      0.00      0.00         1\n",
      "       23179       0.00      0.00      0.00         1\n",
      "       23390       0.00      0.00      0.00         1\n",
      "       23399       0.00      0.00      0.00         1\n",
      "       23490       0.00      0.00      0.00         1\n",
      "       23500       0.00      0.00      0.00         3\n",
      "       23700       0.00      0.00      0.00         2\n",
      "       23950       0.00      0.00      0.00         1\n",
      "       23990       0.00      0.00      0.00         2\n",
      "       23999       0.00      0.00      0.00         1\n",
      "       24000       0.00      0.00      0.00         1\n",
      "       24050       0.00      0.00      0.00         1\n",
      "       24190       0.00      0.00      0.00         1\n",
      "       24270       0.00      0.00      0.00         1\n",
      "       24500       0.00      0.00      0.00         1\n",
      "       24550       0.00      0.00      0.00         1\n",
      "       24600       0.00      0.00      0.00         1\n",
      "       24800       0.00      0.00      0.00         1\n",
      "       24900       0.00      0.00      0.00         1\n",
      "       24950       0.00      0.00      0.00         1\n",
      "       24989       0.00      0.00      0.00         1\n",
      "       25000       0.00      0.00      0.00         2\n",
      "       25250       0.00      0.00      0.00         1\n",
      "       25490       0.00      0.00      0.00         1\n",
      "       25799       0.00      0.00      0.00         1\n",
      "       25900       0.00      0.00      0.00         2\n",
      "       25990       0.00      0.00      0.00         1\n",
      "       26400       0.00      0.00      0.00         1\n",
      "       26489       0.00      0.00      0.00         1\n",
      "       26500       0.00      0.00      0.00         1\n",
      "       26699       0.00      0.00      0.00         1\n",
      "       26900       0.00      0.00      0.00         2\n",
      "       26950       0.00      0.00      0.00         3\n",
      "       26980       0.00      0.00      0.00         2\n",
      "       26989       0.00      0.00      0.00         1\n",
      "       26999       0.00      0.00      0.00         1\n",
      "       27480       0.00      0.00      0.00         1\n",
      "       27500       0.00      0.00      0.00         3\n",
      "       27595       0.00      0.00      0.00         1\n",
      "       27764       0.00      0.00      0.00         1\n",
      "       27790       0.00      0.00      0.00         1\n",
      "       27950       0.00      0.00      0.00         3\n",
      "       27990       0.00      0.00      0.00         1\n",
      "       27998       0.00      0.00      0.00         1\n",
      "       28000       0.00      0.00      0.00         1\n",
      "       28500       0.00      0.00      0.00         1\n",
      "       28600       0.00      0.00      0.00         1\n",
      "       28700       0.00      0.00      0.00         1\n",
      "       28750       0.00      0.00      0.00         1\n",
      "       28888       0.00      0.00      0.00         1\n",
      "       28950       0.00      0.00      0.00         1\n",
      "       28975       0.00      0.00      0.00         1\n",
      "       28990       0.00      0.00      0.00         2\n",
      "       29295       0.00      0.00      0.00         1\n",
      "       29500       0.00      0.00      0.00         1\n",
      "       29749       0.00      0.00      0.00         1\n",
      "       29900       0.00      0.00      0.00         5\n",
      "       29950       0.00      0.00      0.00         4\n",
      "       29989       0.00      0.00      0.00         1\n",
      "       29990       0.00      0.00      0.00         2\n",
      "       30000       0.00      0.00      0.00         1\n",
      "       31490       0.00      0.00      0.00         1\n",
      "       31989       0.00      0.00      0.00         2\n",
      "       31990       0.00      0.00      0.00         1\n",
      "       32000       0.00      0.00      0.00         1\n",
      "       32500       0.00      0.00      0.00         1\n",
      "       33900       0.00      0.00      0.00         1\n",
      "       33990       0.00      0.00      0.00         1\n",
      "       34440       0.00      0.00      0.00         1\n",
      "       34800       0.00      0.00      0.00         1\n",
      "       34900       0.00      0.00      0.00         1\n",
      "       34989       0.00      0.00      0.00         2\n",
      "       34999       0.00      0.00      0.00         1\n",
      "       35076       0.00      0.00      0.00         1\n",
      "       35750       0.00      0.00      0.00         1\n",
      "       35990       0.00      0.00      0.00         1\n",
      "       36300       0.00      0.00      0.00         1\n",
      "       36750       0.00      0.00      0.00         1\n",
      "       37450       0.00      0.00      0.00         1\n",
      "       37499       0.00      0.00      0.00         1\n",
      "       37950       0.00      0.00      0.00         1\n",
      "       37990       0.00      0.00      0.00         2\n",
      "       38000       0.00      0.00      0.00         1\n",
      "       39500       0.00      0.00      0.00         1\n",
      "       40205       0.00      0.00      0.00         1\n",
      "       41500       0.00      0.00      0.00         1\n",
      "       42000       0.00      0.00      0.00         2\n",
      "       42950       0.00      0.00      0.00         1\n",
      "       43700       0.00      0.00      0.00         1\n",
      "       44100       0.00      0.00      0.00         1\n",
      "       44460       0.00      0.00      0.00         1\n",
      "       44500       0.00      0.00      0.00         1\n",
      "       45000       0.00      0.00      0.00         2\n",
      "       47800       0.00      0.00      0.00         1\n",
      "       48000       0.00      0.00      0.00         1\n",
      "       48900       0.00      0.00      0.00         1\n",
      "       49800       0.00      0.00      0.00         1\n",
      "       49990       0.00      0.00      0.00         1\n",
      "       52752       0.00      0.00      0.00         1\n",
      "       57990       0.00      0.00      0.00         1\n",
      "       62415       0.00      0.00      0.00         1\n",
      "       66550       0.00      0.00      0.00         1\n",
      "       69950       0.00      0.00      0.00         1\n",
      "       71999       0.00      0.00      0.00         1\n",
      "       79900       0.00      0.00      0.00         1\n",
      "       80000       0.00      0.00      0.00         1\n",
      "      100305       0.00      0.00      0.00         1\n",
      "     1000000       0.00      0.00      0.00         4\n",
      "   123456789       0.00      0.00      0.00         1\n",
      "\n",
      "    accuracy                           0.01      1829\n",
      "   macro avg       0.00      0.00      0.00      1829\n",
      "weighted avg       0.00      0.01      0.00      1829\n",
      "\n"
     ]
    },
    {
     "name": "stderr",
     "output_type": "stream",
     "text": [
      "D:\\OneDrive\\Documents\\SEMESTER 5\\PRAK KECERDASAN BUATAN\\POSTTEST\\POSTTEST1\\Fauzi_128\\Fauzi_128\\lib\\site-packages\\sklearn\\metrics\\_classification.py:1469: UndefinedMetricWarning: Precision and F-score are ill-defined and being set to 0.0 in labels with no predicted samples. Use `zero_division` parameter to control this behavior.\n",
      "  _warn_prf(average, modifier, msg_start, len(result))\n",
      "D:\\OneDrive\\Documents\\SEMESTER 5\\PRAK KECERDASAN BUATAN\\POSTTEST\\POSTTEST1\\Fauzi_128\\Fauzi_128\\lib\\site-packages\\sklearn\\metrics\\_classification.py:1469: UndefinedMetricWarning: Precision and F-score are ill-defined and being set to 0.0 in labels with no predicted samples. Use `zero_division` parameter to control this behavior.\n",
      "  _warn_prf(average, modifier, msg_start, len(result))\n",
      "D:\\OneDrive\\Documents\\SEMESTER 5\\PRAK KECERDASAN BUATAN\\POSTTEST\\POSTTEST1\\Fauzi_128\\Fauzi_128\\lib\\site-packages\\sklearn\\metrics\\_classification.py:1469: UndefinedMetricWarning: Precision and F-score are ill-defined and being set to 0.0 in labels with no predicted samples. Use `zero_division` parameter to control this behavior.\n",
      "  _warn_prf(average, modifier, msg_start, len(result))\n"
     ]
    }
   ],
   "source": [
    "report = classification_report(y_test, y_pred)\n",
    "print(report)"
   ]
  },
  {
   "cell_type": "markdown",
   "id": "7ed0dbe6-7140-41fe-8aa4-f984fb8df0f3",
   "metadata": {},
   "source": [
    "### Linear Regression"
   ]
  },
  {
   "cell_type": "code",
   "execution_count": 17,
   "id": "d2a48f57-79fe-41ba-8efe-60eb675d6a14",
   "metadata": {},
   "outputs": [],
   "source": [
    "X, y = data[['power']], data['mileage'] #Memisahkan fitur dan target dari dataset "
   ]
  },
  {
   "cell_type": "code",
   "execution_count": 18,
   "id": "f1195617-678d-4ea3-88d1-944120b0eb41",
   "metadata": {},
   "outputs": [],
   "source": [
    "X_train, X_test, y_train, y_test = train_test_split(X, y, test_size=0.2, random_state=31) #Membagi data fitur dan target menjadi data training"
   ]
  },
  {
   "cell_type": "code",
   "execution_count": 19,
   "id": "f063dbdc-cdba-4d41-aa55-dce44633532b",
   "metadata": {},
   "outputs": [],
   "source": [
    "#Membuat model regresi linear, melatih model dengan data training dan menggunakan model untuk membuat prediksi pada data test\n",
    "reg = LinearRegression()\n",
    "reg.fit(X_train, y_train)\n",
    "\n",
    "y_pred = reg.predict(X_test)"
   ]
  },
  {
   "cell_type": "markdown",
   "id": "627264c8-272c-4213-b7e0-d3f48cbc87fe",
   "metadata": {},
   "source": [
    "Visualisasi hasil prediksi regresi linear pada data test yang membandingkan prediksi (garis biru) dengan data asli (titik hitam) untuk melihat sejauh mana model cocok dengan data aktual"
   ]
  },
  {
   "cell_type": "code",
   "execution_count": 20,
   "id": "db7c32a4-ef0a-4182-b7b5-6a8ef52b7881",
   "metadata": {},
   "outputs": [
    {
     "data": {
      "image/png": "[encoded data removed]",
      "text/plain": [
       "<Figure size 1000x800 with 1 Axes>"
      ]
     },
     "metadata": {},
     "output_type": "display_data"
    }
   ],
   "source": [
    "plt.figure(figsize=(10,8))\n",
    "plt.plot(X_test, y_pred, c='blue', linewidth=3)\n",
    "plt.scatter(X_test, y_test, c='Black')\n",
    "plt.xlabel(\"power\")\n",
    "plt.ylabel(\"mileage\")\n",
    "plt.show()"
   ]
  },
  {
   "cell_type": "markdown",
   "id": "4c0bf065-472b-4baf-9d0d-c648c2181c7c",
   "metadata": {},
   "source": [
    "Membuat objek classifier SVM"
   ]
  },
  {
   "cell_type": "code",
   "execution_count": 24,
   "id": "89334ddd-c1e4-4a92-a9d8-3249bc2c6010",
   "metadata": {},
   "outputs": [],
   "source": [
    "from sklearn.svm import SVR\n",
    "\n",
    "svm = SVR(kernel=\"linear\")\n",
    "svm.fit(X_train, y_train) # Melatih Model dengan Train Set\n",
    "y_pred = svm.predict(X_test)"
   ]
  },
  {
   "cell_type": "markdown",
   "id": "11781872-66e3-426f-8e10-03033a93c922",
   "metadata": {},
   "source": [
    "melakukan prediksi data test dengan model dan menampilkan hasil"
   ]
  },
  {
   "cell_type": "code",
   "execution_count": 25,
   "id": "ccf0e5db-db42-4d44-b0ce-c1168c40c5f1",
   "metadata": {},
   "outputs": [
    {
     "name": "stdout",
     "output_type": "stream",
     "text": [
      "MAE : 20397.466565843217\n",
      "MSE : 82230985788.37198\n",
      "RMSE : 286759.4563190061\n",
      "R-Squared : -0.002259290873415587\n"
     ]
    }
   ],
   "source": [
    "\n",
    "print(\"MAE :\", mean_absolute_error(y_test, y_pred))\n",
    "print(\"MSE :\", mean_squared_error(y_test, y_pred))\n",
    "print(\"RMSE :\", np.sqrt(mean_squared_error(y_test, y_pred)))\n",
    "print(\"R-Squared :\", r2_score(y_test, y_pred))"
   ]
  },
  {
   "cell_type": "markdown",
   "id": "94d1e56a-4c9f-4645-bcbf-f4b4ef0c0820",
   "metadata": {},
   "source": [
    "## Unsupervised Learning"
   ]
  },
  {
   "cell_type": "markdown",
   "id": "7678ca43-041d-46ff-b719-356a32d4f423",
   "metadata": {},
   "source": [
    "### K-Means\n",
    "\n",
    "Menggunakan fitur X dan menentukan banyaknya kelompok"
   ]
  },
  {
   "cell_type": "code",
   "execution_count": 26,
   "id": "3f22a521-6224-4ded-a8dd-a406a8d57947",
   "metadata": {},
   "outputs": [],
   "source": [
    "X = data[[\"power\", \"mileage\"]]\n",
    "K = 2"
   ]
  },
  {
   "cell_type": "markdown",
   "id": "adb4bb4b-2e16-4c77-bec9-1bc5763ff9a7",
   "metadata": {},
   "source": [
    "Inisialisasi K-Means dan melatih model K-Means berdasarkan data X"
   ]
  },
  {
   "cell_type": "code",
   "execution_count": 27,
   "id": "617e3776-b540-4e7d-bc2f-f8dd31524ea6",
   "metadata": {},
   "outputs": [
    {
     "data": {
      "text/html": [
       "<style>#sk-container-id-2 {color: black;}#sk-container-id-2 pre{padding: 0;}#sk-container-id-2 div.sk-toggleable {background-color: white;}#sk-container-id-2 label.sk-toggleable__label {cursor: pointer;display: block;width: 100%;margin-bottom: 0;padding: 0.3em;box-sizing: border-box;text-align: center;}#sk-container-id-2 label.sk-toggleable__label-arrow:before {content: \"▸\";float: left;margin-right: 0.25em;color: #696969;}#sk-container-id-2 label.sk-toggleable__label-arrow:hover:before {color: black;}#sk-container-id-2 div.sk-estimator:hover label.sk-toggleable__label-arrow:before {color: black;}#sk-container-id-2 div.sk-toggleable__content {max-height: 0;max-width: 0;overflow: hidden;text-align: left;background-color: #f0f8ff;}#sk-container-id-2 div.sk-toggleable__content pre {margin: 0.2em;color: black;border-radius: 0.25em;background-color: #f0f8ff;}#sk-container-id-2 input.sk-toggleable__control:checked~div.sk-toggleable__content {max-height: 200px;max-width: 100%;overflow: auto;}#sk-container-id-2 input.sk-toggleable__control:checked~label.sk-toggleable__label-arrow:before {content: \"▾\";}#sk-container-id-2 div.sk-estimator input.sk-toggleable__control:checked~label.sk-toggleable__label {background-color: #d4ebff;}#sk-container-id-2 div.sk-label input.sk-toggleable__control:checked~label.sk-toggleable__label {background-color: #d4ebff;}#sk-container-id-2 input.sk-hidden--visually {border: 0;clip: rect(1px 1px 1px 1px);clip: rect(1px, 1px, 1px, 1px);height: 1px;margin: -1px;overflow: hidden;padding: 0;position: absolute;width: 1px;}#sk-container-id-2 div.sk-estimator {font-family: monospace;background-color: #f0f8ff;border: 1px dotted black;border-radius: 0.25em;box-sizing: border-box;margin-bottom: 0.5em;}#sk-container-id-2 div.sk-estimator:hover {background-color: #d4ebff;}#sk-container-id-2 div.sk-parallel-item::after {content: \"\";width: 100%;border-bottom: 1px solid gray;flex-grow: 1;}#sk-container-id-2 div.sk-label:hover label.sk-toggleable__label {background-color: #d4ebff;}#sk-container-id-2 div.sk-serial::before {content: \"\";position: absolute;border-left: 1px solid gray;box-sizing: border-box;top: 0;bottom: 0;left: 50%;z-index: 0;}#sk-container-id-2 div.sk-serial {display: flex;flex-direction: column;align-items: center;background-color: white;padding-right: 0.2em;padding-left: 0.2em;position: relative;}#sk-container-id-2 div.sk-item {position: relative;z-index: 1;}#sk-container-id-2 div.sk-parallel {display: flex;align-items: stretch;justify-content: center;background-color: white;position: relative;}#sk-container-id-2 div.sk-item::before, #sk-container-id-2 div.sk-parallel-item::before {content: \"\";position: absolute;border-left: 1px solid gray;box-sizing: border-box;top: 0;bottom: 0;left: 50%;z-index: -1;}#sk-container-id-2 div.sk-parallel-item {display: flex;flex-direction: column;z-index: 1;position: relative;background-color: white;}#sk-container-id-2 div.sk-parallel-item:first-child::after {align-self: flex-end;width: 50%;}#sk-container-id-2 div.sk-parallel-item:last-child::after {align-self: flex-start;width: 50%;}#sk-container-id-2 div.sk-parallel-item:only-child::after {width: 0;}#sk-container-id-2 div.sk-dashed-wrapped {border: 1px dashed gray;margin: 0 0.4em 0.5em 0.4em;box-sizing: border-box;padding-bottom: 0.4em;background-color: white;}#sk-container-id-2 div.sk-label label {font-family: monospace;font-weight: bold;display: inline-block;line-height: 1.2em;}#sk-container-id-2 div.sk-label-container {text-align: center;}#sk-container-id-2 div.sk-container {/* jupyter's `normalize.less` sets `[hidden] { display: none; }` but bootstrap.min.css set `[hidden] { display: none !important; }` so we also need the `!important` here to be able to override the default hidden behavior on the sphinx rendered scikit-learn.org. See: https://github.com/scikit-learn/scikit-learn/issues/21755 */display: inline-block !important;position: relative;}#sk-container-id-2 div.sk-text-repr-fallback {display: none;}</style><div id=\"sk-container-id-2\" class=\"sk-top-container\"><div class=\"sk-text-repr-fallback\"><pre>KMeans(n_clusters=2, n_init=10)</pre><b>In a Jupyter environment, please rerun this cell to show the HTML representation or trust the notebook. <br />On GitHub, the HTML representation is unable to render, please try loading this page with nbviewer.org.</b></div><div class=\"sk-container\" hidden><div class=\"sk-item\"><div class=\"sk-estimator sk-toggleable\"><input class=\"sk-toggleable__control sk-hidden--visually\" id=\"sk-estimator-id-2\" type=\"checkbox\" checked><label for=\"sk-estimator-id-2\" class=\"sk-toggleable__label sk-toggleable__label-arrow\">KMeans</label><div class=\"sk-toggleable__content\"><pre>KMeans(n_clusters=2, n_init=10)</pre></div></div></div></div></div>"
      ],
      "text/plain": [
       "KMeans(n_clusters=2, n_init=10)"
      ]
     },
     "execution_count": 27,
     "metadata": {},
     "output_type": "execute_result"
    }
   ],
   "source": [
    "kmeans = KMeans(n_clusters=K, n_init=10)\n",
    "kmeans.fit(X)"
   ]
  },
  {
   "cell_type": "markdown",
   "id": "2a4d08ad-f1e5-405b-b160-cfa43d48d9d3",
   "metadata": {},
   "source": [
    "Membuat label kelompok dari model dan tambah kolom prediksi serta titik pusat kelompok dari model"
   ]
  },
  {
   "cell_type": "code",
   "execution_count": 28,
   "id": "30be344a-40b8-4153-b1bc-f089a2816538",
   "metadata": {},
   "outputs": [],
   "source": [
    "cluster_labels = kmeans.labels_\n",
    "data[\"cluster\"] = cluster_labels\n",
    "centroids = kmeans.cluster_centers_"
   ]
  },
  {
   "cell_type": "code",
   "execution_count": 29,
   "id": "e9e8c691-56c9-4e1f-b475-8ed36196cab7",
   "metadata": {},
   "outputs": [
    {
     "data": {
      "image/png": "[encoded data removed]",
      "text/plain": [
       "<Figure size 640x480 with 1 Axes>"
      ]
     },
     "metadata": {},
     "output_type": "display_data"
    }
   ],
   "source": [
    "plt.scatter(centroids[:, 0], centroids[:, 1], alpha=0.5, c='black', s=100, label='Centroids')\n",
    "sns.scatterplot(data=data, x=\"power\", y=\"mileage\", hue=\"cluster\", palette=[\"red\", \"green\"])\n",
    "plt.title(f\"K-Means Clustering (K={K}) dengan Centroids\")\n",
    "plt.xlabel(\"power\")\n",
    "plt.ylabel(\"mileage\")\n",
    "plt.legend()\n",
    "plt.show()"
   ]
  },
  {
   "cell_type": "markdown",
   "id": "3b2a420d-04c1-434a-b6f6-8f0f2b91c0bd",
   "metadata": {},
   "source": [
    "Membuat crosstab untuk membandingkan cluster labels dengan true labels"
   ]
  },
  {
   "cell_type": "code",
   "execution_count": 30,
   "id": "368ea38e-46c8-423d-83a6-9a106f94bed1",
   "metadata": {},
   "outputs": [
    {
     "name": "stdout",
     "output_type": "stream",
     "text": [
      "Cross-Tabulation:\n",
      "price    2          100        150        200        250        270        \\\n",
      "cluster                                                                     \n",
      "0                1          1          1          1          2          1   \n",
      "1                0          0          0          0          0          0   \n",
      "\n",
      "price    295        350        390        399        ...  112000     \\\n",
      "cluster                                              ...              \n",
      "0                1          1          1          1  ...          1   \n",
      "1                0          0          0          0  ...          0   \n",
      "\n",
      "price    114990     123457     149900     199999     239993     999999     \\\n",
      "cluster                                                                     \n",
      "0                1          2          1          1          1          1   \n",
      "1                0          0          0          0          0          0   \n",
      "\n",
      "price    1000000    123456789  888888888  \n",
      "cluster                                   \n",
      "0                8          1          1  \n",
      "1                0          0          0  \n",
      "\n",
      "[2 rows x 1464 columns] \n",
      "\n"
     ]
    }
   ],
   "source": [
    "cross_tab = pd.crosstab(data[\"cluster\"], data[\"price\"])\n",
    "print(\"Cross-Tabulation:\")\n",
    "print(cross_tab, \"\\n\")"
   ]
  },
  {
   "cell_type": "markdown",
   "id": "4b77153c-702e-4aef-bfdf-a82bc3df7492",
   "metadata": {},
   "source": [
    "Menghitung dan mencetak nilai \"Adjusted Rand Index (ARI)\" yang mengukur sejauh mana clustering dengan algoritma K-Means"
   ]
  },
  {
   "cell_type": "code",
   "execution_count": 31,
   "id": "e543b42f-4bb4-4eb7-801e-ad59c0b4dc25",
   "metadata": {},
   "outputs": [
    {
     "name": "stdout",
     "output_type": "stream",
     "text": [
      "Adjusted Rand Index (ARI): 0.00\n"
     ]
    }
   ],
   "source": [
    "ari = adjusted_rand_score(data[\"price\"], cluster_labels)\n",
    "print(f\"Adjusted Rand Index (ARI): {ari:.2f}\")"
   ]
  },
  {
   "cell_type": "markdown",
   "id": "ff8aa643-60f1-48e8-bf45-f7adb6d07171",
   "metadata": {},
   "source": [
    "Menghitung dan mencetak nilai \"Normalized Mutual Information (NMI)\" untuk mengevaluasi sejauh mana hasil clustering dengan algoritma K-Means"
   ]
  },
  {
   "cell_type": "code",
   "execution_count": 32,
   "id": "4f96c627-89c4-4cfe-9bfb-8c90a53725dc",
   "metadata": {},
   "outputs": [
    {
     "name": "stdout",
     "output_type": "stream",
     "text": [
      "Normalized Mutual Information (NMI): 0.00\n"
     ]
    }
   ],
   "source": [
    "true_labels_num = data[\"price\"].astype(\"category\").cat.codes\n",
    "nmi = normalized_mutual_info_score(true_labels_num, cluster_labels)\n",
    "print(f\"Normalized Mutual Information (NMI): {nmi:.2f}\")"
   ]
  },
  {
   "cell_type": "markdown",
   "id": "9af578ec-b5e3-4e3a-b67c-ecb7f5619d20",
   "metadata": {},
   "source": [
    "Homogeneity, Completeness dan V-Measure membantu mengukur sejauh mana hasil klustering sesuai dengan label asli data dan seberapa baik klustering tersebut dalam mengelompokkan data"
   ]
  },
  {
   "cell_type": "code",
   "execution_count": 33,
   "id": "8076d217-3b91-4481-bc54-a94841ff9e0f",
   "metadata": {},
   "outputs": [
    {
     "name": "stdout",
     "output_type": "stream",
     "text": [
      "Homogeneity Score: 0.00\n",
      "Completeness Score: 0.69\n",
      "V-Measure Score: 0.00\n"
     ]
    }
   ],
   "source": [
    "homogeneity = homogeneity_score(data[\"price\"], cluster_labels)\n",
    "completeness = completeness_score(data[\"price\"], cluster_labels)\n",
    "v_measure = v_measure_score(data[\"price\"], cluster_labels)\n",
    "print(f\"Homogeneity Score: {homogeneity:.2f}\")\n",
    "print(f\"Completeness Score: {completeness:.2f}\")\n",
    "print(f\"V-Measure Score: {v_measure:.2f}\")"
   ]
  },
  {
   "cell_type": "code",
   "execution_count": null,
   "id": "39afdc81-d5e5-49be-a5f6-7cb75350bf24",
   "metadata": {},
   "outputs": [],
   "source": []
  }
 ],
 "metadata": {
  "kernelspec": {
   "display_name": "Fauzi_128",
   "language": "python",
   "name": "fauzi_128"
  },
  "language_info": {
   "codemirror_mode": {
    "name": "ipython",
    "version": 3
   },
   "file_extension": ".py",
   "mimetype": "text/x-python",
   "name": "python",
   "nbconvert_exporter": "python",
   "pygments_lexer": "ipython3",
   "version": "3.10.7"
  }
 },
 "nbformat": 4,
 "nbformat_minor": 5
}
